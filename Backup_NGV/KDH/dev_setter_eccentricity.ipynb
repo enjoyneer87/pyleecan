{
 "cells": [
  {
   "cell_type": "code",
   "execution_count": null,
   "metadata": {},
   "outputs": [],
   "source": [
    "\n",
    "\n",
    "def setter_static_eccentricity(simulation, value):\n",
    "    if (value != 0):\n",
    "        angle_def = 0\n",
    "        if (simulation.mag.Eccentricity_enforced is None):\n",
    "            simulation.get_logger().debug(('Adding static eccentricity to simulation ' + simulation.name))\n",
    "            eccentricity_model = EccentricityModel()\n",
    "            eccentricity_model.sta_DE = ((value * exp((((1j * angle_def) * pi) / 180))) / 100)\n",
    "            eccentricity_model.sta_NDE = eccentricity_model.sta_DE\n",
    "            simulation.mag.Eccentricity_enforced = eccentricity_model\n",
    "        else:\n",
    "            simulation.mag.Eccentricity_enforced.sta_DE = ((value * exp((((1j * angle_def) * pi) / 180))) / 100)\n",
    "            simulation.mag.Eccentricity_enforced.sta_NDE = ((value * exp((((1j * angle_def) * pi) / 180))) / 100)\n",
    "        (is_mech_tol, str_message) = simulation.mag.Eccentricity_enforced.check_mech_tol(is_return_message=True)\n",
    "        if is_mech_tol:\n",
    "            raise Eccentricity_Error(str_message)\n",
    "    else:\n",
    "        simulation.mag.Eccentricity_enforced = None"
   ]
  }
 ],
 "metadata": {
  "interpreter": {
   "hash": "35ee68f41891e538056f66d7844ee8b2776d7a835967854e48d42d607c7ce82b"
  },
  "kernelspec": {
   "display_name": "Python 3.8.8 ('py38_pyleecan_v1')",
   "language": "python",
   "name": "python3"
  },
  "language_info": {
   "name": "python",
   "version": "3.8.8"
  },
  "orig_nbformat": 4
 },
 "nbformat": 4,
 "nbformat_minor": 2
}

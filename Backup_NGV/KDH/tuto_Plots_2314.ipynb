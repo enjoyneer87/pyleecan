{
 "cells": [
  {
   "cell_type": "markdown",
   "metadata": {},
   "source": [
    "# Version information"
   ]
  },
  {
   "cell_type": "code",
   "execution_count": null,
   "metadata": {},
   "outputs": [],
   "source": [
    "from datetime import date\n",
    "print(\"Running date:\", date.today().strftime(\"%B %d, %Y\"))\n",
    "import pyleecan\n",
    "print(\"Pyleecan version:\" + pyleecan.__version__)\n",
    "import SciDataTool\n",
    "print(\"SciDataTool version:\" + SciDataTool.__version__)"
   ]
  },
  {
   "cell_type": "markdown",
   "metadata": {},
   "source": [
    "# How to plot results\n",
    "\n",
    "Pyleecan has generic built-in plot methods which allow to easily plot:\n",
    "\n",
    "- **simulated** or **experimental** fields (unit conversions supported)\n",
    "\n",
    "- **slices** (normalizations available)\n",
    "\n",
    "- **Fourier Transforms**\n",
    "\n",
    "but also to **compare** on the same graph a list of fields.\n",
    "\n",
    "This flexibility is provided by the [SciDataTool module](https://github.com/Eomys/SciDataTool), which has been created to **ease the handling of scientific data**, and considerately simplify plot commands. It unifies the extraction of relevant data (e.g. slices), whether they are stored in the time/space or in the frequency domain. The call to Fourier Transform functions is **transparent**, although it still can be parameterized.\n",
    "\n",
    "This tutorial explains how to use Pyleecan's **plot commands**. It is available on [GitHub](https://github.com/Eomys/pyleecan/tree/master/Tutorials/tuto_Plots.ipynb). For more details on the `SciDataTool` package, please refer to the specific tutorials:\n",
    "\n",
    "- [How to create Data objects](https://nbviewer.jupyter.org/github/Eomys/SciDataTool/blob/master/Tutorials/tuto1_Create.ipynb)\n",
    "\n",
    "- [How to extract slices](https://nbviewer.jupyter.org/github/Eomys/SciDataTool/blob/master/Tutorials/tuto2_Slices.ipynb)\n",
    "\n",
    "- [How to plot data](https://nbviewer.jupyter.org/github/Eomys/SciDataTool/blob/master/Tutorials/tuto3_Plot.ipynb)\n",
    "\n",
    "To demonstrate the capabilities and the use of the SciDataTool objects, two simulations are launched with FEMM: with imposed currents and in open-circuit. The simulations use periodicity and parallelization to reduce execution time."
   ]
  },
  {
   "cell_type": "code",
   "execution_count": null,
   "metadata": {
    "tags": []
   },
   "outputs": [],
   "source": [
    "# Import Pyleecan modules\n",
    "\n",
    "import matplotlib.pyplot as plt\n",
    "import numpy as np\n",
    "from os.path import dirname, join\n",
    "import matplotlib.pyplot as plt\n",
    "import numpy as np\n",
    "import pytest\n",
    "from numpy import exp, linspace, ones, pi, sqrt, zeros\n",
    "from pyleecan.Classes.DataKeeper import DataKeeper\n",
    "from pyleecan.Classes.DriveWave import DriveWave\n",
    "from pyleecan.Classes.EEC_PMSM import EEC_PMSM\n",
    "from pyleecan.Classes.ForceMT import ForceMT\n",
    "from pyleecan.Classes.ImportGenMatrixSin import ImportGenMatrixSin\n",
    "from pyleecan.Classes.ImportGenVectLin import ImportGenVectLin\n",
    "from pyleecan.Classes.ImportGenVectSin import ImportGenVectSin\n",
    "from pyleecan.Classes.ImportMatrixVal import ImportMatrixVal\n",
    "from pyleecan.Classes.InputCurrent import InputCurrent\n",
    "from pyleecan.Classes.MagFEMM import MagFEMM\n",
    "from pyleecan.Classes.OPdq import OPdq\n",
    "from pyleecan.Classes.Output import Output\n",
    "from pyleecan.Classes.ParamExplorerInterval import ParamExplorerInterval\n",
    "from pyleecan.Classes.ParamExplorerSet import ParamExplorerSet\n",
    "from pyleecan.Classes.PostFunction import PostFunction\n",
    "from pyleecan.Classes.PostPlot import PostPlot\n",
    "from pyleecan.Classes.Simu1 import Simu1\n",
    "from pyleecan.Classes.VarLoadCurrent import VarLoadCurrent\n",
    "from pyleecan.Classes.VarParam import VarParam\n",
    "from pyleecan.definitions import DATA_DIR\n",
    "from pyleecan.Functions.load import load\n",
    "#from Tests import save_validation_path as save_path\n",
    "\n"
   ]
  },
  {
   "cell_type": "code",
   "execution_count": 1,
   "metadata": {},
   "outputs": [],
   "source": [
    "from os.path import join\n",
    "from multiprocessing import cpu_count\n",
    "import pytest\n",
    "from numpy import array, ones, pi, zeros, sqrt\n",
    "from pyleecan.Classes.InputCurrent import InputCurrent\n",
    "from pyleecan.Classes.MagFEMM import MagFEMM\n",
    "from pyleecan.Classes.OPdq import OPdq\n",
    "from pyleecan.Classes.Simu1 import Simu1\n",
    "from pyleecan.Classes.VarLoadCurrent import VarLoadCurrent\n",
    "from pyleecan.definitions import DATA_DIR\n",
    "from pyleecan.Functions.load import load\n",
    "from SciDataTool.Functions.Plot.plot_2D import plot_2D\n",
    "from pyleecan.definitions import config_dict\n"
   ]
  },
  {
   "cell_type": "code",
   "execution_count": 14,
   "metadata": {},
   "outputs": [
    {
     "ename": "TypeError",
     "evalue": "setupUi() missing 2 required positional arguments: 'self' and 'DDataPlotter'",
     "output_type": "error",
     "traceback": [
      "\u001b[1;31m---------------------------------------------------------------------------\u001b[0m",
      "\u001b[1;31mTypeError\u001b[0m                                 Traceback (most recent call last)",
      "\u001b[1;32mC:\\Users\\KDH201~1\\AppData\\Local\\Temp/ipykernel_23064/1577112823.py\u001b[0m in \u001b[0;36m<module>\u001b[1;34m\u001b[0m\n\u001b[0;32m      1\u001b[0m \u001b[1;32mfrom\u001b[0m \u001b[0mSciDataTool\u001b[0m\u001b[1;33m.\u001b[0m\u001b[0mGUI\u001b[0m\u001b[1;33m.\u001b[0m\u001b[0mDDataPlotter\u001b[0m \u001b[1;32mimport\u001b[0m \u001b[0mDDataPlotter\u001b[0m\u001b[1;33m\u001b[0m\u001b[1;33m\u001b[0m\u001b[0m\n\u001b[1;32m----> 2\u001b[1;33m \u001b[0mDDataPlotter\u001b[0m\u001b[1;33m.\u001b[0m\u001b[0mUi_DDataPlotter\u001b[0m\u001b[1;33m.\u001b[0m\u001b[0msetupUi\u001b[0m\u001b[1;33m(\u001b[0m\u001b[1;33m)\u001b[0m\u001b[1;33m\u001b[0m\u001b[1;33m\u001b[0m\u001b[0m\n\u001b[0m",
      "\u001b[1;31mTypeError\u001b[0m: setupUi() missing 2 required positional arguments: 'self' and 'DDataPlotter'"
     ]
    }
   ],
   "source": [
    "from SciDataTool.GUI.DDataPlotter import DDataPlotter\n",
    "DDataPlotter.Ui_DDataPlotter.setupUi()"
   ]
  },
  {
   "cell_type": "code",
   "execution_count": 2,
   "metadata": {},
   "outputs": [
    {
     "name": "stdout",
     "output_type": "stream",
     "text": [
      "[05:32:07] Starting running simulation test_FEMM_torque (machine=SynRM_001)\n"
     ]
    },
    {
     "ename": "TypeError",
     "evalue": "'property' object is not callable",
     "output_type": "error",
     "traceback": [
      "\u001b[1;31m---------------------------------------------------------------------------\u001b[0m",
      "\u001b[1;31mTypeError\u001b[0m                                 Traceback (most recent call last)",
      "\u001b[1;32mC:\\Users\\KDH201~1\\AppData\\Local\\Temp/ipykernel_23064/1676775709.py\u001b[0m in \u001b[0;36m<module>\u001b[1;34m\u001b[0m\n\u001b[0;32m     96\u001b[0m \u001b[0msimu\u001b[0m\u001b[1;33m.\u001b[0m\u001b[0mstruct\u001b[0m \u001b[1;33m=\u001b[0m \u001b[1;32mNone\u001b[0m\u001b[1;33m\u001b[0m\u001b[1;33m\u001b[0m\u001b[0m\n\u001b[0;32m     97\u001b[0m \u001b[1;33m\u001b[0m\u001b[0m\n\u001b[1;32m---> 98\u001b[1;33m \u001b[0mXout\u001b[0m \u001b[1;33m=\u001b[0m \u001b[0msimu\u001b[0m\u001b[1;33m.\u001b[0m\u001b[0mrun\u001b[0m\u001b[1;33m(\u001b[0m\u001b[1;33m)\u001b[0m\u001b[1;33m\u001b[0m\u001b[1;33m\u001b[0m\u001b[0m\n\u001b[0m\u001b[0;32m     99\u001b[0m \u001b[1;33m\u001b[0m\u001b[0m\n\u001b[0;32m    100\u001b[0m \u001b[0mcurve_colors\u001b[0m \u001b[1;33m=\u001b[0m \u001b[0mconfig_dict\u001b[0m\u001b[1;33m[\u001b[0m\u001b[1;34m\"PLOT\"\u001b[0m\u001b[1;33m]\u001b[0m\u001b[1;33m[\u001b[0m\u001b[1;34m\"COLOR_DICT\"\u001b[0m\u001b[1;33m]\u001b[0m\u001b[1;33m[\u001b[0m\u001b[1;34m\"CURVE_COLORS\"\u001b[0m\u001b[1;33m]\u001b[0m\u001b[1;33m\u001b[0m\u001b[1;33m\u001b[0m\u001b[0m\n",
      "\u001b[1;32mc:\\Users\\KDH2018-PC\\anaconda3\\envs\\py38_pyleecan139\\lib\\site-packages\\pyleecan\\Methods\\Simulation\\Simulation\\run.py\u001b[0m in \u001b[0;36mrun\u001b[1;34m(self)\u001b[0m\n\u001b[0;32m     36\u001b[0m \u001b[1;33m\u001b[0m\u001b[0m\n\u001b[0;32m     37\u001b[0m         \u001b[1;31m# Compute the multisimulation\u001b[0m\u001b[1;33m\u001b[0m\u001b[1;33m\u001b[0m\u001b[1;33m\u001b[0m\u001b[0m\n\u001b[1;32m---> 38\u001b[1;33m         \u001b[0mself\u001b[0m\u001b[1;33m.\u001b[0m\u001b[0mvar_simu\u001b[0m\u001b[1;33m.\u001b[0m\u001b[0mrun\u001b[0m\u001b[1;33m(\u001b[0m\u001b[1;33m)\u001b[0m\u001b[1;33m\u001b[0m\u001b[1;33m\u001b[0m\u001b[0m\n\u001b[0m\u001b[0;32m     39\u001b[0m \u001b[1;33m\u001b[0m\u001b[0m\n\u001b[0;32m     40\u001b[0m     \u001b[1;31m# 'normal' simulation\u001b[0m\u001b[1;33m\u001b[0m\u001b[1;33m\u001b[0m\u001b[1;33m\u001b[0m\u001b[0m\n",
      "\u001b[1;32mc:\\Users\\KDH2018-PC\\anaconda3\\envs\\py38_pyleecan139\\lib\\site-packages\\pyleecan\\Methods\\Simulation\\VarSimu\\run.py\u001b[0m in \u001b[0;36mrun\u001b[1;34m(self)\u001b[0m\n\u001b[0;32m     37\u001b[0m \u001b[1;33m\u001b[0m\u001b[0m\n\u001b[0;32m     38\u001b[0m     \u001b[1;31m# Generate simulation list and ParamExplorerValue list\u001b[0m\u001b[1;33m\u001b[0m\u001b[1;33m\u001b[0m\u001b[1;33m\u001b[0m\u001b[0m\n\u001b[1;32m---> 39\u001b[1;33m     \u001b[0msimu_dict\u001b[0m \u001b[1;33m=\u001b[0m \u001b[0mself\u001b[0m\u001b[1;33m.\u001b[0m\u001b[0mgenerate_simulation_list\u001b[0m\u001b[1;33m(\u001b[0m\u001b[0mref_simu\u001b[0m\u001b[1;33m)\u001b[0m\u001b[1;33m\u001b[0m\u001b[1;33m\u001b[0m\u001b[0m\n\u001b[0m\u001b[0;32m     40\u001b[0m     \u001b[1;31m# Generate default datakeeper\u001b[0m\u001b[1;33m\u001b[0m\u001b[1;33m\u001b[0m\u001b[1;33m\u001b[0m\u001b[0m\n\u001b[0;32m     41\u001b[0m     \u001b[0mself\u001b[0m\u001b[1;33m.\u001b[0m\u001b[0mgen_datakeeper_list\u001b[0m\u001b[1;33m(\u001b[0m\u001b[0mref_simu\u001b[0m\u001b[1;33m)\u001b[0m\u001b[1;33m\u001b[0m\u001b[1;33m\u001b[0m\u001b[0m\n",
      "\u001b[1;32mc:\\Users\\KDH2018-PC\\anaconda3\\envs\\py38_pyleecan139\\lib\\site-packages\\pyleecan\\Methods\\Simulation\\VarLoadCurrent\\generate_simulation_list.py\u001b[0m in \u001b[0;36mgenerate_simulation_list\u001b[1;34m(self, ref_simu)\u001b[0m\n\u001b[0;32m     40\u001b[0m     \u001b[1;31m#   Other parameters can be stored in a dedicated ParamExplorerSet if needed\u001b[0m\u001b[1;33m\u001b[0m\u001b[1;33m\u001b[0m\u001b[1;33m\u001b[0m\u001b[0m\n\u001b[0;32m     41\u001b[0m     multisim_dict[\"paramexplorer_list\"].append(\n\u001b[1;32m---> 42\u001b[1;33m         ParamExplorerSet(\n\u001b[0m\u001b[0;32m     43\u001b[0m             \u001b[0mname\u001b[0m\u001b[1;33m=\u001b[0m\u001b[1;34m\"InputCurrent\"\u001b[0m\u001b[1;33m,\u001b[0m\u001b[1;33m\u001b[0m\u001b[1;33m\u001b[0m\u001b[0m\n\u001b[0;32m     44\u001b[0m             \u001b[0msymbol\u001b[0m\u001b[1;33m=\u001b[0m\u001b[1;34m\"In\"\u001b[0m\u001b[1;33m,\u001b[0m\u001b[1;33m\u001b[0m\u001b[1;33m\u001b[0m\u001b[0m\n",
      "\u001b[1;32mc:\\Users\\KDH2018-PC\\anaconda3\\envs\\py38_pyleecan139\\lib\\site-packages\\pyleecan\\Classes\\ParamExplorerSet.py\u001b[0m in \u001b[0;36m__init__\u001b[1;34m(self, value, name, symbol, unit, setter, getter, init_dict, init_str)\u001b[0m\n\u001b[0;32m    174\u001b[0m         \u001b[0mself\u001b[0m\u001b[1;33m.\u001b[0m\u001b[0mvalue\u001b[0m \u001b[1;33m=\u001b[0m \u001b[0mvalue\u001b[0m\u001b[1;33m\u001b[0m\u001b[1;33m\u001b[0m\u001b[0m\n\u001b[0;32m    175\u001b[0m         \u001b[1;31m# Call ParamExplorer init\u001b[0m\u001b[1;33m\u001b[0m\u001b[1;33m\u001b[0m\u001b[1;33m\u001b[0m\u001b[0m\n\u001b[1;32m--> 176\u001b[1;33m         super(ParamExplorerSet, self).__init__(\n\u001b[0m\u001b[0;32m    177\u001b[0m             \u001b[0mname\u001b[0m\u001b[1;33m=\u001b[0m\u001b[0mname\u001b[0m\u001b[1;33m,\u001b[0m \u001b[0msymbol\u001b[0m\u001b[1;33m=\u001b[0m\u001b[0msymbol\u001b[0m\u001b[1;33m,\u001b[0m \u001b[0munit\u001b[0m\u001b[1;33m=\u001b[0m\u001b[0munit\u001b[0m\u001b[1;33m,\u001b[0m \u001b[0msetter\u001b[0m\u001b[1;33m=\u001b[0m\u001b[0msetter\u001b[0m\u001b[1;33m,\u001b[0m \u001b[0mgetter\u001b[0m\u001b[1;33m=\u001b[0m\u001b[0mgetter\u001b[0m\u001b[1;33m\u001b[0m\u001b[1;33m\u001b[0m\u001b[0m\n\u001b[0;32m    178\u001b[0m         )\n",
      "\u001b[1;32mc:\\Users\\KDH2018-PC\\anaconda3\\envs\\py38_pyleecan139\\lib\\site-packages\\pyleecan\\Classes\\ParamExplorer.py\u001b[0m in \u001b[0;36m__init__\u001b[1;34m(self, name, symbol, unit, setter, getter, init_dict, init_str)\u001b[0m\n\u001b[0;32m    125\u001b[0m         \u001b[0mself\u001b[0m\u001b[1;33m.\u001b[0m\u001b[0msymbol\u001b[0m \u001b[1;33m=\u001b[0m \u001b[0msymbol\u001b[0m\u001b[1;33m\u001b[0m\u001b[1;33m\u001b[0m\u001b[0m\n\u001b[0;32m    126\u001b[0m         \u001b[0mself\u001b[0m\u001b[1;33m.\u001b[0m\u001b[0munit\u001b[0m \u001b[1;33m=\u001b[0m \u001b[0munit\u001b[0m\u001b[1;33m\u001b[0m\u001b[1;33m\u001b[0m\u001b[0m\n\u001b[1;32m--> 127\u001b[1;33m         \u001b[0mself\u001b[0m\u001b[1;33m.\u001b[0m\u001b[0msetter\u001b[0m \u001b[1;33m=\u001b[0m \u001b[0msetter\u001b[0m\u001b[1;33m\u001b[0m\u001b[1;33m\u001b[0m\u001b[0m\n\u001b[0m\u001b[0;32m    128\u001b[0m         \u001b[0mself\u001b[0m\u001b[1;33m.\u001b[0m\u001b[0mgetter\u001b[0m \u001b[1;33m=\u001b[0m \u001b[0mgetter\u001b[0m\u001b[1;33m\u001b[0m\u001b[1;33m\u001b[0m\u001b[0m\n\u001b[0;32m    129\u001b[0m \u001b[1;33m\u001b[0m\u001b[0m\n",
      "\u001b[1;32mc:\\Users\\KDH2018-PC\\anaconda3\\envs\\py38_pyleecan139\\lib\\site-packages\\pyleecan\\Classes\\_frozen.py\u001b[0m in \u001b[0;36m__setattr__\u001b[1;34m(self, key, value)\u001b[0m\n\u001b[0;32m     33\u001b[0m                 \u001b[0mself\u001b[0m\u001b[1;33m.\u001b[0m\u001b[0m__class__\u001b[0m\u001b[1;33m.\u001b[0m\u001b[0m__name__\u001b[0m \u001b[1;33m+\u001b[0m \u001b[1;34m' class has no \"'\u001b[0m \u001b[1;33m+\u001b[0m \u001b[0mkey\u001b[0m \u001b[1;33m+\u001b[0m \u001b[1;34m'\" '\u001b[0m \u001b[1;34m\"property\"\u001b[0m\u001b[1;33m\u001b[0m\u001b[1;33m\u001b[0m\u001b[0m\n\u001b[0;32m     34\u001b[0m             )\n\u001b[1;32m---> 35\u001b[1;33m         \u001b[0mobject\u001b[0m\u001b[1;33m.\u001b[0m\u001b[0m__setattr__\u001b[0m\u001b[1;33m(\u001b[0m\u001b[0mself\u001b[0m\u001b[1;33m,\u001b[0m \u001b[0mkey\u001b[0m\u001b[1;33m,\u001b[0m \u001b[0mvalue\u001b[0m\u001b[1;33m)\u001b[0m\u001b[1;33m\u001b[0m\u001b[1;33m\u001b[0m\u001b[0m\n\u001b[0m\u001b[0;32m     36\u001b[0m \u001b[1;33m\u001b[0m\u001b[0m\n\u001b[0;32m     37\u001b[0m     \u001b[1;32mdef\u001b[0m \u001b[0m_freeze\u001b[0m\u001b[1;33m(\u001b[0m\u001b[0mself\u001b[0m\u001b[1;33m)\u001b[0m\u001b[1;33m:\u001b[0m\u001b[1;33m\u001b[0m\u001b[1;33m\u001b[0m\u001b[0m\n",
      "\u001b[1;31mTypeError\u001b[0m: 'property' object is not callable"
     ]
    }
   ],
   "source": [
    "\"\"\"Validation of a SynRM machine from Syr-e r29 open source software\n",
    "https://sourceforge.net/projects/syr-e/\n",
    "Test compute the Torque in FEMM as a function of Phi0\n",
    "and compare the results with Syr-e r29\n",
    "\"\"\"\n",
    "# The aim of this validation test is to compute the torque as a function of Phi0\n",
    "# As (for now) there is no electrical model, we will compute the current for each Phi0 here\n",
    "SynRM_001 = load(join(DATA_DIR, \"Machine\", \"SynRM_001.json\"))\n",
    "felec = 50  # supply frequency [Hz]\n",
    "Nt_tot = 3  # Number of time step for each current angle Phi0\n",
    "Imax = 28.6878 / sqrt(2)  # RMS stator current magnitude [A]\n",
    "# to have one torque ripple period since torque ripple appears at multiple of 6*felec\n",
    "p = SynRM_001.stator.get_pole_pair_number()\n",
    "N0 = 60 * felec / p\n",
    "\n",
    "Phi0 = (\n",
    "    array(\n",
    "        [\n",
    "            0.0,\n",
    "            15.0,\n",
    "            30.0,\n",
    "            45.0,\n",
    "            60.0,\n",
    "            67.5,\n",
    "            75.0,\n",
    "            85.0,\n",
    "            90.0,\n",
    "            95.0,\n",
    "            105.0,\n",
    "            120.0,\n",
    "            135.0,\n",
    "            150.0,\n",
    "            165.0,\n",
    "            180.0,\n",
    "        ]\n",
    "    )\n",
    "    * pi\n",
    "    / 180\n",
    ")\n",
    "# Expected results\n",
    "Tem = [\n",
    "    0.08,\n",
    "    7.09,\n",
    "    13.95,\n",
    "    19.75,\n",
    "    23.75,\n",
    "    23.63,\n",
    "    21.62,\n",
    "    8.7655,\n",
    "    -0.21,\n",
    "    -8.8544,\n",
    "    -21.316,\n",
    "    -23.73,\n",
    "    -20.20,\n",
    "    -13.99,\n",
    "    -7.5445,\n",
    "    0.08,\n",
    "]\n",
    "\n",
    "# Definition of the main simulation\n",
    "simu = Simu1(name=\"test_FEMM_torque\", machine=SynRM_001)\n",
    "Na_tot = 2016\n",
    "\n",
    "varload = VarLoadCurrent(is_reuse_femm_file=True)\n",
    "varload.type_OP_matrix = 0  # Matrix N0, I0, Phi0, Tem_ref\n",
    "\n",
    "N_simu = Phi0.size\n",
    "OP_matrix = zeros((N_simu, 4))\n",
    "OP_matrix[:, 0] = ones(N_simu) * N0\n",
    "OP_matrix[:, 1] = ones(N_simu) * Imax\n",
    "OP_matrix[:, 2] = Phi0\n",
    "OP_matrix[:, 3] = Tem\n",
    "varload.OP_matrix = OP_matrix\n",
    "simu.var_simu = varload\n",
    "\n",
    "simu.input = InputCurrent(\n",
    "    Is=None,\n",
    "    Ir=None,  # No winding on the rotor\n",
    "    OP=OPdq(N0=N0, felec=felec),\n",
    "    Nt_tot=Nt_tot,\n",
    "    Nrev=1 / 6,\n",
    "    Na_tot=Na_tot,\n",
    ")\n",
    "# Select first OP as reference\n",
    "simu.input.set_OP_from_array(OP_matrix, type_OP_matrix=varload.type_OP_matrix)\n",
    "\n",
    "# Definition of the magnetic simulation (1/2 symmetry)\n",
    "simu.mag = MagFEMM(\n",
    "    type_BH_stator=0,\n",
    "    type_BH_rotor=0,\n",
    "    is_periodicity_a=True,\n",
    "    is_periodicity_t=False,\n",
    "    nb_worker=cpu_count(),\n",
    ")\n",
    "simu.force = None\n",
    "simu.struct = None\n",
    "\n",
    "Xout = simu.run()\n",
    "\n",
    "curve_colors = config_dict[\"PLOT\"][\"COLOR_DICT\"][\"CURVE_COLORS\"]\n",
    "plot_2D(\n",
    "    array([x * 180 / pi for x in Xout.xoutput_dict[\"Phi0\"].result]),\n",
    "    [Xout.xoutput_dict[\"Tem_av\"].result, Xout.xoutput_dict[\"Tem_av_ref\"].result],\n",
    "    color_list=curve_colors,\n",
    "    legend_list=[\"Pyleecan\", \"Syr-e r29\"],\n",
    "    xlabel=\"Current angle [°]\",\n",
    "    ylabel=\"Electrical torque [N.m]\",\n",
    "    title=\"Electrical torque vs current angle\",\n",
    "    save_path=join(save_path, \"test_FEMM_torque.png\"),\n",
    "    is_show_fig=False,\n",
    ")\n",
    "\n",
    "\n"
   ]
  },
  {
   "cell_type": "code",
   "execution_count": null,
   "metadata": {},
   "outputs": [],
   "source": [
    "# Prius MTPA\n",
    "N0_MTPA = [\n",
    "    500,\n",
    "    894.736842105263,\n",
    "    1289.47368421053,\n",
    "    1684.21052631579,\n",
    "    2078.94736842105,\n",
    "    2473.68421052632,\n",
    "    2868.42105263158,\n",
    "    3263.15789473684,\n",
    "    3657.89473684211,\n",
    "    4052.63157894737,\n",
    "    4447.36842105263,\n",
    "    4842.10526315790,\n",
    "    5236.84210526316,\n",
    "    5631.57894736842,\n",
    "    6026.31578947368,\n",
    "    6421.05263157895,\n",
    "    6815.78947368421,\n",
    "    7210.52631578947,\n",
    "    7605.26315789474,\n",
    "    8000,\n",
    "]\n",
    "Id_MTPA = [\n",
    "    -135.671342685371,\n",
    "    -135.671342685371,\n",
    "    -135.671342685371,\n",
    "    -155.310621242485,\n",
    "    -151.803607214429,\n",
    "    -128.657314629259,\n",
    "    -123.046092184369,\n",
    "    -113.927855711423,\n",
    "    -104.108216432866,\n",
    "    -99.8997995991984,\n",
    "    -94.9899799599199,\n",
    "    -94.9899799599199,\n",
    "    -92.1843687374750,\n",
    "    -92.1843687374750,\n",
    "    -88.6773547094188,\n",
    "    -87.2745490981964,\n",
    "    -87.2745490981964,\n",
    "    -88.6773547094188,\n",
    "    -84.4689378757515,\n",
    "    -88.6773547094188,\n",
    "]\n",
    "Iq_MTPA = [\n",
    "    113.226452905812,\n",
    "    113.226452905812,\n",
    "    113.226452905812,\n",
    "    83.6673346693387,\n",
    "    54.6092184368737,\n",
    "    45.0901803607214,\n",
    "    36.0721442885772,\n",
    "    30.5611222444890,\n",
    "    28.0561122244489,\n",
    "    25.5511022044088,\n",
    "    23.5470941883768,\n",
    "    21.5430861723447,\n",
    "    20.0400801603206,\n",
    "    18.5370741482966,\n",
    "    17.5350701402806,\n",
    "    16.5330661322645,\n",
    "    15.5310621242485,\n",
    "    14.5290581162325,\n",
    "    14.0280561122245,\n",
    "    13.0260521042084,\n",
    "]\n",
    "\n"
   ]
  },
  {
   "cell_type": "code",
   "execution_count": null,
   "metadata": {},
   "outputs": [],
   "source": [
    "save_path='D:\\KDH\\pyleecan_out_figure'\n",
    "# Main loop parameters\n",
    "Nt_tot = 96  # Number of time step for each FEMM simulation\n",
    "nb_worker = 3  # To parallelize FEMM\n",
    "\n",
    "Nspeed = 7  # Number of speed for the Variable speed linspace\n",
    "\n",
    "N1 = 4  # Number of parameters for first sensitivity parameter\n",
    "# N2 = 2  # Number of parameters for second sensitivity parameter\n",
    "\n",
    "# Reference simulation definition\n",
    "Toyota_Prius = load(join(DATA_DIR, \"Machine\", \"Toyota_Prius.json\"))\n",
    "simu = Simu1(\n",
    "    name=\"test_multi_multi\",\n",
    "    machine=Toyota_Prius,\n",
    "    path_result=join(save_path, \"test_multi_multi\"),\n",
    "    layer_log_warn=2,\n",
    ")\n",
    "\n",
    "# Enforced sinusoïdal current (Maximum Torque Per Amp)\n",
    "simu.input = InputCurrent(\n",
    "    Is=None,\n",
    "    Ir=None,  # No winding on the rotor\n",
    "    OP=OPdq(N0=N0_MTPA[0], Id_ref=Id_MTPA[0], Iq_ref=Iq_MTPA[0]),\n",
    "    Nt_tot=Nt_tot,\n",
    "    Na_tot=2048,\n",
    ")\n",
    "\n",
    "# Definition of the magnetic simulation\n",
    "simu.mag = MagFEMM(\n",
    "    type_BH_stator=0,\n",
    "    type_BH_rotor=0,\n",
    "    is_periodicity_a=True,\n",
    "    is_periodicity_t=True,\n",
    "    Kgeo_fineness=0.2,\n",
    "    Kmesh_fineness=0.2,\n",
    "    nb_worker=nb_worker,\n",
    ")\n",
    "simu.force = ForceMT(\n",
    "    is_periodicity_a=True,\n",
    "    is_periodicity_t=True,\n",
    ")\n"
   ]
  },
  {
   "cell_type": "code",
   "execution_count": null,
   "metadata": {},
   "outputs": [],
   "source": [
    "result=simu.run_single()"
   ]
  },
  {
   "cell_type": "code",
   "execution_count": null,
   "metadata": {},
   "outputs": [],
   "source": [
    "\n",
    "# VarSpeed Definition\n",
    "varload = VarLoadCurrent(is_reuse_femm_file=True)\n",
    "varload.type_OP_matrix = 1  # Matrix N0, Id, Iq\n",
    "\n",
    "OP_matrix = zeros((Nspeed, 3))\n",
    "OP_matrix[:, 0] = N0_MTPA[:Nspeed]\n",
    "OP_matrix[:, 1] = Id_MTPA[:Nspeed]\n",
    "OP_matrix[:, 2] = Iq_MTPA[:Nspeed]\n",
    "varload.OP_matrix = OP_matrix\n",
    "varload.datakeeper_list = [\n",
    "    DataKeeper(\n",
    "        name=\"Average Torque\",\n",
    "        unit=\"N.m\",\n",
    "        symbol=\"Tem_av\",\n",
    "        keeper=\"lambda output: output.mag.Tem_av\",\n",
    "        error_keeper=\"lambda simu: np.nan\",\n",
    "    ),\n",
    "    DataKeeper(\n",
    "        name=\"6f Harmonic\",\n",
    "        unit=\"N.m^2\",\n",
    "        symbol=\"6fs\",\n",
    "        keeper=\"lambda output: output.force.AGSF.components['radial'].get_magnitude_along('freqs->elec_order=6','wavenumber=0')['AGSF_r']\",\n",
    "        error_keeper=\"lambda simu: np.nan\",\n",
    "    ),\n",
    "    DataKeeper(\n",
    "    name=\"12f Harmonic\",\n",
    "    unit=\"N.m^2\",\n",
    "    symbol=\"12fs\",\n",
    "    keeper=\"lambda output: output.force.AGSF.components['radial'].get_magnitude_along('freqs->elec_order=12','wavenumber=0')['AGSF_r']\",\n",
    "    error_keeper=\"lambda simu: np.nan\",\n",
    "),\n",
    "]\n",
    "varload.is_keep_all_output = False\n",
    "\n",
    "# Multi-simulation to change machine parameters\n",
    "multisim = VarParam(\n",
    "    stop_if_error=True,\n",
    "    is_reuse_femm_file=False,\n",
    ")\n",
    "\n",
    "simu.var_simu = multisim\n",
    "\n"
   ]
  },
  {
   "cell_type": "code",
   "execution_count": null,
   "metadata": {},
   "outputs": [],
   "source": [
    "# List of ParamExplorer to define multisimulation input values\n",
    "paramexplorer_list = [\n",
    "ParamExplorerInterval(\n",
    "    name=\"Stator slot opening\",\n",
    "    symbol=\"W0s\",\n",
    "    unit=\"m\",\n",
    "    setter=\"simu.machine.stator.slot.W0\",\n",
    "    getter=\"simu.machine.stator.slot.W0\",\n",
    "    min_value=0.1 * Toyota_Prius.stator.slot.W0,\n",
    "    max_value=Toyota_Prius.stator.slot.W0,\n",
    "    N=N1,\n",
    ")\n",
    "]\n",
    "multisim.paramexplorer_list = paramexplorer_list\n",
    "multisim.is_keep_all_output = True"
   ]
  },
  {
   "cell_type": "code",
   "execution_count": null,
   "metadata": {},
   "outputs": [],
   "source": [
    "# List of DataKeeper to store results\n",
    "datakeeper_list = [\n",
    "    DataKeeper(\n",
    "        name=\"Max Variable speed Torque\",\n",
    "        unit=\"N.m\",\n",
    "        symbol=\"Max_Tem_av\",\n",
    "        keeper=\"lambda output: max(output.xoutput_dict['Tem_av'].result)\",\n",
    "        error_keeper=\"lambda simu: np.nan\",\n",
    "    ),\n",
    "    DataKeeper(\n",
    "        name=\"Max f6\",\n",
    "        unit=\"N.m^2\",\n",
    "        symbol=\"max(6fs)\",\n",
    "        keeper=\"lambda output: max(output.xoutput_dict['6fs'].result)\",\n",
    "        error_keeper=\"lambda simu: np.nan\",\n",
    "    ),\n",
    "    DataKeeper(\n",
    "        name=\"Max f12\",\n",
    "        unit=\"N.m^2\",\n",
    "        symbol=\"max(12fs)\",\n",
    "        keeper=\"lambda output: max(output.xoutput_dict['12fs'].result)\",\n",
    "        error_keeper=\"lambda simu: np.nan\",\n",
    "    ),\n",
    "]"
   ]
  },
  {
   "cell_type": "code",
   "execution_count": null,
   "metadata": {},
   "outputs": [],
   "source": [
    "multisim.datakeeper_list = datakeeper_list\n",
    "multisim.var_simu = varload  # Setup Multisim of Multi_sim\n"
   ]
  },
  {
   "cell_type": "code",
   "execution_count": null,
   "metadata": {},
   "outputs": [],
   "source": [
    "# Post-process\n",
    "#Post1 = PostFunction(\"plot_save.py\")\n",
    "\n",
    "#simu.postproc_list = [Post1]  # For all simulation save a png\n",
    "# Plot Max(f6) = f(W0)\n",
    "Post2 = PostPlot(\n",
    "    method=\"plot_multi\",\n",
    "    param_list=[\"W0s\", \"max(6fs)\"],\n",
    "    param_dict={\n",
    "        \"save_path\": join(save_path, \"multi_multi\", \"Max_6fs.png\"),\n",
    "        \"is_show_fig\": False,\n",
    "    },\n",
    ")\n",
    "# Plot Max(f12) = f(W0)\n",
    "Post3 = PostPlot(\n",
    "    method=\"plot_multi\",\n",
    "    param_list=[\"W0s\", \"max(12fs)\"],\n",
    "    param_dict={\n",
    "        \"save_path\": join(save_path, \"multi_multi\", \"Max_12fs.png\"),\n",
    "        \"is_show_fig\": False,\n",
    "    },\n",
    ")\n",
    "# Generate gif once all the simulation are done\n",
    "Post4 = PostFunction(join(dirname(__file__), \"make_gif.py\"))\n",
    "simu.var_simu.postproc_list = [Post2, Post3, Post4]\n",
    "\n",
    "\n"
   ]
  },
  {
   "cell_type": "code",
   "execution_count": null,
   "metadata": {},
   "outputs": [],
   "source": [
    "# Execute every simulation\n",
    "results = simu.run()"
   ]
  },
  {
   "cell_type": "markdown",
   "metadata": {},
   "source": [
    "Out"
   ]
  },
  {
   "cell_type": "code",
   "execution_count": null,
   "metadata": {},
   "outputs": [],
   "source": []
  },
  {
   "cell_type": "markdown",
   "metadata": {},
   "source": []
  },
  {
   "cell_type": "markdown",
   "metadata": {},
   "source": [
    "The following example demonstrates the syntax to **quickly plot** the torque and airgap flux obtained at the end of the simulation:"
   ]
  },
  {
   "cell_type": "code",
   "execution_count": null,
   "metadata": {
    "scrolled": true
   },
   "outputs": [],
   "source": [
    "%matplotlib notebook\n",
    "#------------------------------------------------------\n",
    "# Plot the torque as a function of time\n",
    "out.mag.Tem.plot_2D_Data(\"time\")\n",
    "out.mag.B.plot_2D_Data(\"angle\")\n",
    "#------------------------------------------------------"
   ]
  },
  {
   "cell_type": "markdown",
   "metadata": {},
   "source": [
    "The plot command requires the **axis** of the field along which to plot (\"*angle*\" for instance). Titles and legends are automatically generated. The commands work with **any field computed in Pyleecan** (and stored in a SciDataTool object).\n",
    "\n",
    "The syntax for the axes is specific to `SciDataTool` objects, and will be detailed in this tutorial.\n",
    "\n",
    "There are two main plot commands in `SciDataTool`, which can apply to any **DataTime**, **DataFreq** or **VectorField** object from `SciDataTool`:\n",
    "\n",
    "- `plot_2D_Data`: field as a function of one dimension (time, angle, freqs, wavenumber, phase\n",
    "- `plot_3D_Data`: field as a function of two dimensions\n",
    "\n",
    "`SciDataTool` also provides generic plot functions, which can be useful to easily format other plots, or plots of data which is not stored in a `SciDataTool` object:\n",
    "\n",
    "- `plot_2D`: plot as a function of one dimension (curve, bargraph, barchart, quiver, curve_point, point, barStackResultant)\n",
    "- `plot_3D`: plot as a function of two dimensions (stem, surf, pcolor, scatter)\n",
    "- `plot_4D`: plot as a function of three dimensions (scatter)\n",
    "\n",
    "To use one of these plot functions, simply import it such as:"
   ]
  },
  {
   "cell_type": "code",
   "execution_count": null,
   "metadata": {},
   "outputs": [],
   "source": [
    "from SciDataTool.Functions.Plot.plot_2D import plot_2D"
   ]
  },
  {
   "cell_type": "markdown",
   "metadata": {},
   "source": [
    "We invite you to visit [SciDataTool repository on GitHub](https://github.com/Eomys/SciDataTool/tree/master/SciDataTool/Functions/Plot) for more details.\n",
    "\n",
    "Fonts and colors can be automatically defined from the config_dict, using `dict_2D` or `dict_3D`:"
   ]
  },
  {
   "cell_type": "code",
   "execution_count": null,
   "metadata": {},
   "outputs": [],
   "source": [
    "from pyleecan.Functions.Plot import dict_2D, dict_3D"
   ]
  },
  {
   "cell_type": "markdown",
   "metadata": {},
   "source": [
    "## 1. How to plot only one period/antiperiod\n",
    "To plot only one period or anti-period:"
   ]
  },
  {
   "cell_type": "code",
   "execution_count": null,
   "metadata": {},
   "outputs": [],
   "source": [
    "#---------------------------------------------------------------\n",
    "# Plot the torque along the smallest period of time\n",
    "out.mag.Tem.plot_2D_Data(\"time[smallestperiod]\", **dict_2D)\n",
    "#---------------------------------------------------------------"
   ]
  },
  {
   "cell_type": "markdown",
   "metadata": {},
   "source": [
    "## 2. How to plot VectorField objects\n",
    "For `VectorField` objects, such as `mag.B` or `force.AGSF`, a plot for each component will be created:"
   ]
  },
  {
   "cell_type": "code",
   "execution_count": null,
   "metadata": {},
   "outputs": [],
   "source": [
    "#---------------------------------------------------------------\n",
    "# Plot all components of flux density\n",
    "out.mag.B.plot_2D_Data(\"time\", **dict_2D)\n",
    "#---------------------------------------------------------------"
   ]
  },
  {
   "cell_type": "markdown",
   "metadata": {},
   "source": [
    "To plot only one or several specific components, one can use the `component_list` parameter:"
   ]
  },
  {
   "cell_type": "code",
   "execution_count": null,
   "metadata": {},
   "outputs": [],
   "source": [
    "#---------------------------------------------------------------\n",
    "# Plot only radial flux density\n",
    "out.mag.B.plot_2D_Data(\"time\", component_list=[\"radial\"], **dict_2D)\n",
    "#---------------------------------------------------------------"
   ]
  },
  {
   "cell_type": "markdown",
   "metadata": {},
   "source": [
    "## 3. How to plot slices\n",
    "\n",
    "In the previous plots, the flux density was sliced at `angle=0` (slice by default), but we could want to slice at another angle:"
   ]
  },
  {
   "cell_type": "code",
   "execution_count": null,
   "metadata": {},
   "outputs": [],
   "source": [
    "#---------------------------------------------------------------\n",
    "# Plot for angle = 90°\n",
    "out.mag.B.plot_2D_Data(\"time\", \"angle=90{°}\", component_list=[\"radial\"], **dict_2D)\n",
    "#---------------------------------------------------------------"
   ]
  },
  {
   "cell_type": "markdown",
   "metadata": {},
   "source": [
    "We can even superimpose several slices:"
   ]
  },
  {
   "cell_type": "code",
   "execution_count": null,
   "metadata": {},
   "outputs": [],
   "source": [
    "#---------------------------------------------------------------\n",
    "# Plot for 3 slices of time\n",
    "out.mag.B.plot_2D_Data(\"angle\", \"time[0,20,40]\", component_list=[\"radial\"], **dict_2D)\n",
    "#---------------------------------------------------------------"
   ]
  },
  {
   "cell_type": "markdown",
   "metadata": {},
   "source": [
    "## 4. How to plot spectra\n",
    "\n",
    "One of the main interest of `SciDataTool` is to hide the complexity of Fourier Transforms. From a field defined in the time/space domain, you can directly plot its spectrum (note that intervals can be easily specified):"
   ]
  },
  {
   "cell_type": "code",
   "execution_count": null,
   "metadata": {},
   "outputs": [],
   "source": [
    "#---------------------------------------------------------------\n",
    "# Plot time fft\n",
    "out.mag.B.plot_2D_Data(\"freqs\", component_list=[\"radial\"], **dict_2D)\n",
    "# Plot space fft\n",
    "out.mag.B.plot_2D_Data(\"wavenumber=[0,200]\", component_list=[\"radial\"], **dict_2D)\n",
    "#---------------------------------------------------------------"
   ]
  },
  {
   "cell_type": "markdown",
   "metadata": {},
   "source": [
    "The main frequencies/wavenumbers are automatically labelled. This can be deactivated using `is_auto_ticks=False`:"
   ]
  },
  {
   "cell_type": "code",
   "execution_count": null,
   "metadata": {},
   "outputs": [],
   "source": [
    "##---------------------------------------------------------------\n",
    "# Deactivate automatic ticks\n",
    "out.mag.B.plot_2D_Data(\"wavenumber=[0,200]\", is_auto_ticks=False, component_list=[\"radial\"], **dict_2D)\n",
    "#---------------------------------------------------------------"
   ]
  },
  {
   "cell_type": "markdown",
   "metadata": {},
   "source": [
    "## 5. How to convert or normalize data\n",
    "\n",
    "Another interesting feature of `pyleecan` is the conversion feature: there are built-in methods to convert units, and normalize fields and axes.\n",
    "\n",
    "For example, we can plot the fft in electrical orders:"
   ]
  },
  {
   "cell_type": "code",
   "execution_count": null,
   "metadata": {},
   "outputs": [],
   "source": [
    "#---------------------------------------------------------------\n",
    "# Normalize frequency axis\n",
    "out.mag.B.plot_2D_Data(\"freqs->elec_order\", component_list=[\"radial\"], **dict_2D)\n",
    "#---------------------------------------------------------------"
   ]
  },
  {
   "cell_type": "markdown",
   "metadata": {},
   "source": [
    "In the following example, we will convert the stator winding flux from Webers into Maxwells ($1$ Wb = $10^8$ Mx):"
   ]
  },
  {
   "cell_type": "code",
   "execution_count": null,
   "metadata": {},
   "outputs": [],
   "source": [
    "#---------------------------------------------------------------\n",
    "# Original plot\n",
    "out.mag.Phi_wind_stator.plot_2D_Data(\"time\", \"phase[]\", **dict_2D)\n",
    "#---------------------------------------------------------------"
   ]
  },
  {
   "cell_type": "code",
   "execution_count": null,
   "metadata": {},
   "outputs": [],
   "source": [
    "#---------------------------------------------------------------\n",
    "# Conversion into Maxwells\n",
    "out.mag.Phi_wind_stator.plot_2D_Data(\"time\", \"phase[]\", unit=\"Mx\", **dict_2D)\n",
    "#---------------------------------------------------------------"
   ]
  },
  {
   "cell_type": "markdown",
   "metadata": {},
   "source": [
    "In this last example, we will convert the angle axis into degrees and for the air-gap flux density from Teslas into Gauss ($1$ T= $10^4$ G)"
   ]
  },
  {
   "cell_type": "code",
   "execution_count": null,
   "metadata": {},
   "outputs": [],
   "source": [
    "#---------------------------------------------------------------\n",
    "# Original plot\n",
    "out.mag.B.plot_2D_Data(\"angle\", component_list=[\"radial\"], **dict_2D)\n",
    "#---------------------------------------------------------------"
   ]
  },
  {
   "cell_type": "code",
   "execution_count": null,
   "metadata": {},
   "outputs": [],
   "source": [
    "#---------------------------------------------------------------\n",
    "# Original plot\n",
    "out.mag.B.plot_2D_Data(\"angle{°}\", component_list=[\"radial\"], unit=\"G\", **dict_2D)\n",
    "#---------------------------------------------------------------"
   ]
  },
  {
   "cell_type": "markdown",
   "metadata": {},
   "source": [
    "## 7) How to compare data\n",
    "\n",
    "`pyleecan` also allows to easily compare several fields, even if they are defined on different discretizations. To do so, plot commands have a `data_list` parameter.\n",
    "\n",
    "In the following example, we compare the flux density from the reference simulation, and from the open-circuit one:"
   ]
  },
  {
   "cell_type": "code",
   "execution_count": null,
   "metadata": {},
   "outputs": [],
   "source": [
    "#---------------------------------------------------------------\n",
    "# compare simu and simu2\n",
    "out.mag.B.plot_2D_Data(\n",
    "    \"time\", component_list=[\"radial\"], data_list=[out2.mag.B], legend_list=[\"Reference\", \"Open-circuit\"], **dict_2D\n",
    ")\n",
    "#---------------------------------------------------------------"
   ]
  },
  {
   "cell_type": "markdown",
   "metadata": {},
   "source": [
    "We can also compare spectra:"
   ]
  },
  {
   "cell_type": "code",
   "execution_count": null,
   "metadata": {},
   "outputs": [],
   "source": [
    "#---------------------------------------------------------------\n",
    "# compare simu and simu2\n",
    "out.mag.B.plot_2D_Data(\n",
    "    \"freqs<1000\", component_list=[\"radial\"], data_list=[out2.mag.B], legend_list=[\"Reference\", \"Open-circuit\"], **dict_2D\n",
    ")\n",
    "#---------------------------------------------------------------"
   ]
  },
  {
   "cell_type": "markdown",
   "metadata": {},
   "source": [
    "## 8) 3D plots\n",
    "\n",
    "3D plots (for data defined on at least two axes) can also be created using the `plot_3D_Data` command:"
   ]
  },
  {
   "cell_type": "code",
   "execution_count": null,
   "metadata": {},
   "outputs": [],
   "source": [
    "#---------------------------------------------------------------\n",
    "# 3D surface plot\n",
    "out.mag.B.plot_3D_Data(\"time\", \"angle{°}\", component_list=[\"radial\"], **dict_3D)\n",
    "#---------------------------------------------------------------"
   ]
  },
  {
   "cell_type": "markdown",
   "metadata": {},
   "source": [
    "To visualize this surface from above, use `is_2D_view`:"
   ]
  },
  {
   "cell_type": "code",
   "execution_count": null,
   "metadata": {},
   "outputs": [],
   "source": [
    "#---------------------------------------------------------------\n",
    "# 2D surface plot\n",
    "out.mag.B.plot_3D_Data(\"time\", \"angle{°}\", component_list=[\"radial\"], is_2D_view=True, **dict_3D)\n",
    "#---------------------------------------------------------------"
   ]
  },
  {
   "cell_type": "markdown",
   "metadata": {},
   "source": [
    "The field is automatically reconstructed using the periodicities specified in the simulation. It is always possible to plot a single period:"
   ]
  },
  {
   "cell_type": "code",
   "execution_count": null,
   "metadata": {},
   "outputs": [],
   "source": [
    "#---------------------------------------------------------------\n",
    "# 2D surface plot over one period\n",
    "out.mag.B.plot_3D_Data(\"time[smallestperiod]\", \"angle[smallestperiod]{°}\", component_list=[\"radial\"], is_2D_view=True, **dict_3D)\n",
    "#---------------------------------------------------------------"
   ]
  },
  {
   "cell_type": "markdown",
   "metadata": {},
   "source": [
    "2D Fourier Transforms also rely on `plot_3D_Data` command:"
   ]
  },
  {
   "cell_type": "code",
   "execution_count": null,
   "metadata": {},
   "outputs": [],
   "source": [
    "#---------------------------------------------------------------\n",
    "# 3D stem plot of 2D fft\n",
    "out.mag.B.plot_3D_Data(\n",
    "    \"freqs->elec_order=[0,10]\", \"wavenumber->space_order=[-10,10]\", N_stem=50, component_list=[\"radial\"], **dict_3D\n",
    ")\n",
    "#---------------------------------------------------------------"
   ]
  },
  {
   "cell_type": "markdown",
   "metadata": {},
   "source": [
    "It can also be viewed in 2D:"
   ]
  },
  {
   "cell_type": "code",
   "execution_count": null,
   "metadata": {},
   "outputs": [],
   "source": [
    "#---------------------------------------------------------------\n",
    "# 2D plot of 2D fft\n",
    "out.mag.B.plot_3D_Data(\n",
    "    \"freqs->elec_order=[0,10]\",\n",
    "    \"wavenumber->space_order=[-10,10]\",\n",
    "    N_stem=50,\n",
    "    component_list=[\"radial\"],\n",
    "    is_2D_view=True,\n",
    "    **dict_3D\n",
    ")\n",
    "#---------------------------------------------------------------"
   ]
  },
  {
   "cell_type": "markdown",
   "metadata": {},
   "source": [
    "Many plots were made using the magnetic flux density, but they are of course applicable to any 2D output data, like the force computed using the airgap surface force:"
   ]
  },
  {
   "cell_type": "code",
   "execution_count": null,
   "metadata": {},
   "outputs": [],
   "source": [
    "#---------------------------------------------------------------\n",
    "# 2D fft of airgap surface force\n",
    "out.force.AGSF.plot_3D_Data(\n",
    "    \"freqs->elec_order=[0,10]\",\n",
    "    \"wavenumber->space_order=[-10,10]\",\n",
    "    N_stem=50,\n",
    "    component_list=[\"radial\"],\n",
    "    is_2D_view=True,\n",
    "    **dict_3D\n",
    ")\n",
    "#---------------------------------------------------------------"
   ]
  },
  {
   "cell_type": "code",
   "execution_count": null,
   "metadata": {},
   "outputs": [],
   "source": []
  }
 ],
 "metadata": {
  "interpreter": {
   "hash": "199ee5ddd5cf9db80b3c3131ae104b574c9fd5dd6255d9f837b6f7ea953865a3"
  },
  "kernelspec": {
   "display_name": "Python 3.8.8 ('py38_pyleecan139')",
   "language": "python",
   "name": "python3"
  },
  "language_info": {
   "codemirror_mode": {
    "name": "ipython",
    "version": 3
   },
   "file_extension": ".py",
   "mimetype": "text/x-python",
   "name": "python",
   "nbconvert_exporter": "python",
   "pygments_lexer": "ipython3",
   "version": "3.8.8"
  },
  "toc": {
   "base_numbering": 1,
   "nav_menu": {},
   "number_sections": false,
   "sideBar": false,
   "skip_h1_title": false,
   "title_cell": "Table of Contents",
   "title_sidebar": "Contents",
   "toc_cell": false,
   "toc_position": {
    "height": "calc(100% - 180px)",
    "left": "10px",
    "top": "150px",
    "width": "311.6px"
   },
   "toc_section_display": false,
   "toc_window_display": false
  }
 },
 "nbformat": 4,
 "nbformat_minor": 4
}

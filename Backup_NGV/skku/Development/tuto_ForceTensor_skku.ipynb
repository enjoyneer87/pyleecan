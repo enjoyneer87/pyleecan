{
 "cells": [
  {
   "cell_type": "markdown",
   "metadata": {},
   "source": [
    "# Version information"
   ]
  },
  {
   "cell_type": "code",
   "execution_count": 11,
   "metadata": {},
   "outputs": [
    {
     "name": "stdout",
     "output_type": "stream",
     "text": [
      "Running date: March 05, 2022\n",
      "Pyleecan version:1.3.7\n",
      "SciDataTool version:1.4.24\n"
     ]
    }
   ],
   "source": [
    "from datetime import date\n",
    "print(\"Running date:\", date.today().strftime(\"%B %d, %Y\"))\n",
    "import pyleecan\n",
    "print(\"Pyleecan version:\" + pyleecan.__version__)\n",
    "import SciDataTool\n",
    "print(\"SciDataTool version:\" + SciDataTool.__version__)"
   ]
  },
  {
   "cell_type": "markdown",
   "metadata": {},
   "source": [
    "# How to compute magnetic forces using Force Module\n",
    "\n",
    "This tutorial shows the different steps to **compute magnetic forces** with pyleecan.\n",
    " \n",
    "The notebook related to this tutorial is available on [GitHub](https://github.com/Eomys/pyleecan/tree/master/Tutorials/tuto_Force.ipynb).\n",
    "\n",
    "To demonstrate the capabilities and the use of the SciDataTool objects, a simulation is launched with FEMM, with imposed currents, using periodicity and parallelization to reduce execution time."
   ]
  },
  {
   "cell_type": "code",
   "execution_count": null,
   "metadata": {
    "tags": []
   },
   "outputs": [],
   "source": [
    "from numpy import exp, sqrt, pi\n",
    "from os.path import join\n",
    "from pyleecan.Classes.Simu1 import Simu1\n",
    "from pyleecan.Classes.InputCurrent import InputCurrent\n",
    "from pyleecan.Classes.MagFEMM import MagFEMM\n",
    "from pyleecan.Classes.ForceMT import ForceMT\n",
    "from pyleecan.Classes.ForceTensor import ForceTensor\n",
    "from pyleecan.Classes.Output import Output\n",
    "from pyleecan.Functions.load import load\n",
    "from pyleecan.definitions import DATA_DIR\n",
    "from pyleecan.Classes.OPdq import OPdq\n",
    "from multiprocessing import cpu_count\n",
    "\n",
    "# Load the machine\n",
    "Toyota_Prius = load(join(DATA_DIR, \"Machine\", \"Toyota_Prius.json\"))\n",
    "\n",
    "# Simulation initialization\n",
    "simu = Simu1(name=\"FEMM_periodicity\", machine=Toyota_Prius)\n",
    "\n",
    "\n",
    "simu.input = InputCurrent(\n",
    "#    Na_tot=252 * 8,\n",
    "#    Nt_tot=50 * 8,\n",
    "    Na_tot=5 * 2 ** 8, Nt_tot=2\n",
    ")\n",
    "# Set Id/Iq according to I0/Phi0\n",
    "simu.input.OP = OPdq(N0=1000)\n",
    "simu.input.OP.set_I0_Phi0(I0=250 / sqrt(2), Phi0=140*pi/180)\n",
    "\n",
    "# Definition of the magnetic simulation: with periodicity\n",
    "simu.mag = MagFEMM(is_periodicity_a=True, is_periodicity_t=True, nb_worker=cpu_count(),is_get_meshsolution=True)\n",
    "simu.force = ForceMT(is_periodicity_a=True, is_periodicity_t=True)\n",
    "\n",
    "simu_sym = Simu1(init_dict=simu.as_dict())\n",
    "simu_sym.mag.is_periodicity_a = True\n",
    "\n",
    "out = Output(simu=simu_sym)\n",
    "simu_sym.run()\n",
    "save_plot_path=\"D:/KDH/pyleecan_out_figure\"\n",
    "\n",
    "out.mag.meshsolution.plot_mesh(\n",
    "    save_path=join(save_plot_path, simu.name + \"_mesh.png\"), is_show_fig=False\n",
    ")\n",
    "\n",
    "out.mag.meshsolution.plot_mesh(\n",
    "    group_names=\"stator core\",\n",
    "    save_path=join(save_plot_path, simu.name + \"_mesh_stator.png\"),\n",
    "    is_show_fig=False,\n",
    ")\n",
    "\n",
    "# Run simulations\n",
    "out = simu.run()"
   ]
  },
  {
   "cell_type": "markdown",
   "metadata": {},
   "source": [
    "#실행안됨"
   ]
  },
  {
   "cell_type": "code",
   "execution_count": null,
   "metadata": {},
   "outputs": [],
   "source": [
    "##backup 실행안됨\n",
    "import numpy as np\n",
    "from SciDataTool import DataTime, VectorField, Data1D\n",
    "\n",
    "from pyleecan.Classes.Interpolation import Interpolation\n",
    "from pyleecan.Classes.MeshSolution import MeshSolution\n",
    "from pyleecan.Classes.SolutionVector import SolutionVector\n",
    "\n",
    "dim = 2\n",
    "Time = simu.axes_dict[\"time\"]\n",
    "Nt_tot = Time.get_length()  # Number of time step\n",
    "\n",
    "\n",
    "meshsolution_group = meshsolution_mag.get_group(meshsolution_mag.group)\n",
    "mesh = meshsolution_group.get_mesh()\n",
    "\n",
    "# New meshsolution object for output, that could be different from the one inputed\n",
    "meshsolution = MeshSolution(mesh=[mesh.copy()], is_same_mesh=True, dimension=dim)\n",
    "\n",
    "# Load magnetic flux B and H and mu objects\n",
    "B_sol = meshsolution_group.get_solution(label=\"B\")\n",
    "H_sol = meshsolution_group.get_solution(label=\"H\")\n",
    "mu_sol = meshsolution_group.get_solution(label=\"\\mu\")\n",
    "\n",
    "# Import time vector from Time Data object\n",
    "if self.is_periodicity_t is not None:\n",
    "    is_periodicity_t = self.is_periodicity_t\n",
    "\n",
    "is_periodicity_t, is_antiper_t = Time.get_periodicity()\n",
    "time = Time.get_values(\n",
    "    is_oneperiod=is_periodicity_t,\n",
    "    is_antiperiod=is_antiper_t and is_periodicity_t,\n",
    ")\n",
    "\n",
    "# Load magnetic flux B and H of size (Nt_tot, nb_elem, dim) and mu (Nt_tot, nb_elem)\n",
    "resultB = B_sol.field.get_xyz_along(\n",
    "    \"indice\",\n",
    "    \"time=axis_data\",\n",
    "    axis_data={\"time\": time},\n",
    "    is_squeeze=False,\n",
    ")\n",
    "indice = resultB[\"indice\"]  # Store elements indices\n",
    "\n",
    "Bx = resultB[\"comp_x\"]\n",
    "By = resultB[\"comp_y\"]\n",
    "B = np.stack((Bx, By), axis=2)\n",
    "\n",
    "resultH = H_sol.field.get_xyz_along(\n",
    "    \"indice\",\n",
    "    \"time=axis_data\",\n",
    "    axis_data={\"time\": time},\n",
    "    is_squeeze=False,\n",
    ")\n",
    "Hx = resultH[\"comp_x\"]\n",
    "Hy = resultH[\"comp_y\"]\n",
    "H = np.stack((Hx, Hy), axis=2)\n",
    "\n",
    "resultmu = mu_sol.field.get_along(\n",
    "    \"indice\",\n",
    "    \"time=axis_data\",\n",
    "    axis_data={\"time\": time},\n",
    "    is_squeeze=False,\n",
    ")\n",
    "mu = resultmu[\"\\\\mu\"]\n",
    "\n",
    "# Move time axis at the end for clarity purpose\n",
    "B = np.moveaxis(B, 0, -1)\n",
    "H = np.moveaxis(H, 0, -1)\n",
    "mu = np.moveaxis(mu, 0, -1)\n",
    "\n",
    "# Loop on elements and nodes for nodal forces\n",
    "f, connect = self.element_loop(mesh, B, H, mu, indice, dim, Nt_tot)"
   ]
  },
  {
   "cell_type": "markdown",
   "metadata": {},
   "source": [
    "실행안됨"
   ]
  },
  {
   "cell_type": "code",
   "execution_count": 6,
   "metadata": {},
   "outputs": [
    {
     "ename": "NameError",
     "evalue": "name 'Toyota_Prius' is not defined",
     "output_type": "error",
     "traceback": [
      "\u001b[1;31m---------------------------------------------------------------------------\u001b[0m",
      "\u001b[1;31mNameError\u001b[0m                                 Traceback (most recent call last)",
      "\u001b[1;32mC:\\Users\\KDH201~1\\AppData\\Local\\Temp/ipykernel_33492/1544783724.py\u001b[0m in \u001b[0;36m<module>\u001b[1;34m\u001b[0m\n\u001b[0;32m      2\u001b[0m \u001b[1;31m#simu.force = ForceMT(is_periodicity_a=True, is_periodicity_t=True)\u001b[0m\u001b[1;33m\u001b[0m\u001b[1;33m\u001b[0m\u001b[1;33m\u001b[0m\u001b[0m\n\u001b[0;32m      3\u001b[0m \u001b[1;33m\u001b[0m\u001b[0m\n\u001b[1;32m----> 4\u001b[1;33m \u001b[0mout\u001b[0m \u001b[1;33m=\u001b[0m \u001b[0mSimu1\u001b[0m\u001b[1;33m(\u001b[0m\u001b[0mname\u001b[0m\u001b[1;33m=\u001b[0m\u001b[1;34m\"FEMM_periodicity\"\u001b[0m\u001b[1;33m,\u001b[0m \u001b[0mmachine\u001b[0m\u001b[1;33m=\u001b[0m\u001b[0mToyota_Prius\u001b[0m\u001b[1;33m)\u001b[0m\u001b[1;33m\u001b[0m\u001b[1;33m\u001b[0m\u001b[0m\n\u001b[0m\u001b[0;32m      5\u001b[0m out.input = InputCurrent(\n\u001b[0;32m      6\u001b[0m \u001b[1;31m#    Na_tot=252 * 8,\u001b[0m\u001b[1;33m\u001b[0m\u001b[1;33m\u001b[0m\u001b[1;33m\u001b[0m\u001b[0m\n",
      "\u001b[1;31mNameError\u001b[0m: name 'Toyota_Prius' is not defined"
     ]
    }
   ],
   "source": [
    "from pyleecan.Classes.ForceTensor import ForceTensor\n",
    "#simu.force = ForceMT(is_periodicity_a=True, is_periodicity_t=True)\n",
    "\n",
    "out = Simu1(name=\"FEMM_periodicity\", machine=Toyota_Prius)\n",
    "out.input = InputCurrent(\n",
    "#    Na_tot=252 * 8,\n",
    "#    Nt_tot=50 * 8,\n",
    "    Na_tot=5 * 2 ** 8, Nt_tot=2\n",
    ")\n",
    "# Set Id/Iq according to I0/Phi0\n",
    "out.input.OP = OPdq(N0=1000)\n",
    "out.input.OP.set_I0_Phi0(I0=250 / sqrt(2), Phi0=140*pi/180)\n",
    "\n",
    "# Definition of the magnetic simulation: with periodicity\n",
    "out.mag = MagFEMM(is_periodicity_a=True, is_periodicity_t=True, nb_worker=cpu_count(), is_get_meshsolution=True)\n",
    "out.force=ForceTensor(\n",
    "        is_periodicity_a=False,\n",
    "        is_periodicity_t=False,\n",
    "        tensor={\n",
    "            \"magnetostriction\": False,\n",
    "        },\n",
    "    )\n",
    "out.run()\n",
    "\n",
    "# Run simulations\n",
    "\n"
   ]
  },
  {
   "cell_type": "markdown",
   "metadata": {},
   "source": [
    "실행확인 ForceTensor"
   ]
  },
  {
   "cell_type": "code",
   "execution_count": 12,
   "metadata": {},
   "outputs": [
    {
     "name": "stdout",
     "output_type": "stream",
     "text": [
      "[15:25:20] Starting running simulation Benchmark_Tensor (machine=Benchmark)\n",
      "[15:25:20] Starting Magnetic module\n",
      "[15:25:22] Computing Airgap Flux in FEMM\n",
      "[15:25:24] Starting Force module\n",
      "[15:25:28] End of simulation Benchmark_Tensor\n"
     ]
    }
   ],
   "source": [
    "import pytest\n",
    "\n",
    "from os.path import join\n",
    "from numpy import zeros, exp, pi, real, meshgrid, mean\n",
    "from multiprocessing import cpu_count\n",
    "from numpy.testing import assert_array_almost_equal\n",
    "from SciDataTool import DataTime, VectorField, Data1D\n",
    "import csv\n",
    "import numpy as np\n",
    "import matplotlib.pyplot as plt\n",
    "\n",
    "from pyleecan.Classes.ForceTensor import ForceTensor\n",
    "from pyleecan.Classes.OPdq import OPdq\n",
    "from pyleecan.Classes.Simu1 import Simu1\n",
    "from pyleecan.Classes.MagFEMM import MagFEMM\n",
    "from pyleecan.Classes.InputCurrent import InputCurrent\n",
    "from pyleecan.Classes.SolutionVector import SolutionVector\n",
    "\n",
    "from pyleecan.Functions.load import load\n",
    "from pyleecan.definitions import DATA_DIR\n",
    "save_plot_path=\"D:/KDH/pyleecan_out_figure\"\n",
    "save_path= save_plot_path\n",
    "DELTA = 1e-6\n",
    "\n",
    "\n",
    "\n",
    "# Load machine\n",
    "Benchmark = load(join(DATA_DIR, \"Machine\", \"Benchmark.json\"))\n",
    "# Prepare simulation\n",
    "simu = Simu1(name=\"Benchmark_Tensor\", machine=Benchmark)\n",
    "\n",
    "simu.input = InputCurrent(\n",
    "    OP=OPdq(N0=1200, Id_ref=0, Iq_ref=0),\n",
    "    Ir=None,\n",
    "    Na_tot=2 ** 6,\n",
    "    Nt_tot=1,\n",
    ")\n",
    "\n",
    "simu.elec = None\n",
    "\n",
    "simu.mag = MagFEMM(\n",
    "    type_BH_stator=1,  # 0 for saturated\n",
    "    type_BH_rotor=1,\n",
    "    is_periodicity_a=False,\n",
    "    is_periodicity_t=False,\n",
    "    is_get_meshsolution=True,\n",
    "    is_sliding_band=False,\n",
    "    # nb_worker=cpu_count(),\n",
    "    Kmesh_fineness=1,\n",
    ")\n",
    "simu.force = ForceTensor(\n",
    "    is_periodicity_a=False,\n",
    "    is_periodicity_t=False,\n",
    "    tensor={\n",
    "        \"magnetostriction\": True,\n",
    "    },\n",
    ")\n",
    "\n",
    "# Run simulation\n",
    "out = simu.run()\n",
    "\n",
    "# CSV import\n",
    "\n"
   ]
  },
  {
   "cell_type": "code",
   "execution_count": 26,
   "metadata": {},
   "outputs": [
    {
     "data": {
      "text/plain": [
       "<_io.TextIOWrapper name='D:/KDH/pyleecan_out_figure/Result/Plot/Data/Benchmark_model_stator_ms.csv' mode='r' encoding='UTF-8'>"
      ]
     },
     "execution_count": 26,
     "metadata": {},
     "output_type": "execute_result"
    }
   ],
   "source": [
    "path = save_path.replace(\"pyleecan_out_figure\", \"pyleecan_out_figure/Result/Plot/Data/Benchmark_model_stator_ms.csv\")\n",
    "open(path,'r')"
   ]
  },
  {
   "cell_type": "markdown",
   "metadata": {},
   "source": [
    "Plot까지 됨 뭘 했는지는 잘모르겠음. csv는 아니고 해석한 out.force plot임"
   ]
  },
  {
   "cell_type": "code",
   "execution_count": 22,
   "metadata": {},
   "outputs": [
    {
     "name": "stderr",
     "output_type": "stream",
     "text": [
      "WARNING:root:VTK requires 3D points, but 2D points given. Appending 0 third component.\n"
     ]
    },
    {
     "data": {
      "text/plain": [
       "<pyvista.plotting.plotting.Plotter at 0x220167588b0>"
      ]
     },
     "execution_count": 22,
     "metadata": {},
     "output_type": "execute_result"
    }
   ],
   "source": [
    "reader = csv.reader(path, skipinitialspace=True)\n",
    "save_path\n",
    "\n",
    "out.force.meshsolution.plot_glyph(label=\"my_vector\", is_point_arrow=False,factor=1/200)"
   ]
  },
  {
   "cell_type": "code",
   "execution_count": 24,
   "metadata": {},
   "outputs": [
    {
     "name": "stderr",
     "output_type": "stream",
     "text": [
      "WARNING:root:VTK requires 3D points, but 2D points given. Appending 0 third component.\n",
      "WARNING:root:VTK requires 3D points, but 2D points given. Appending 0 third component.\n",
      "C:\\Users\\KDH2018-PC\\anaconda3\\envs\\py38_openturn\\lib\\site-packages\\pyvista\\core\\dataset.py:459: PyvistaDeprecationWarning: Use of `DataSet.vectors` to add vector data is deprecated. Use `DataSet['vector_name'] = data`. Use `DataSet.active_vectors_name = 'vector_name' to make active.\n",
      "  warnings.warn(\n"
     ]
    },
    {
     "ename": "IndexError",
     "evalue": "boolean index did not match indexed array along dimension 1; dimension is 3897 but corresponding boolean dimension is 3748",
     "output_type": "error",
     "traceback": [
      "\u001b[1;31m---------------------------------------------------------------------------\u001b[0m",
      "\u001b[1;31mIndexError\u001b[0m                                Traceback (most recent call last)",
      "\u001b[1;32mC:\\Users\\KDH201~1\\AppData\\Local\\Temp/ipykernel_33492/590872105.py\u001b[0m in \u001b[0;36m<module>\u001b[1;34m\u001b[0m\n\u001b[0;32m     85\u001b[0m \u001b[0mrelevant_mask_y\u001b[0m \u001b[1;33m=\u001b[0m \u001b[0mreference_forces_y\u001b[0m \u001b[1;33m>\u001b[0m \u001b[1;36m1e-3\u001b[0m \u001b[1;33m*\u001b[0m \u001b[0mnp\u001b[0m\u001b[1;33m.\u001b[0m\u001b[0mmax\u001b[0m\u001b[1;33m(\u001b[0m\u001b[0mreference_forces_y\u001b[0m\u001b[1;33m)\u001b[0m\u001b[1;33m\u001b[0m\u001b[1;33m\u001b[0m\u001b[0m\n\u001b[0;32m     86\u001b[0m \u001b[1;33m\u001b[0m\u001b[0m\n\u001b[1;32m---> 87\u001b[1;33m \u001b[0mrelevant_computed_forces_x\u001b[0m \u001b[1;33m=\u001b[0m \u001b[0mcomputed_forces_x\u001b[0m\u001b[1;33m[\u001b[0m\u001b[0mrelevant_mask_x\u001b[0m\u001b[1;33m]\u001b[0m\u001b[1;33m\u001b[0m\u001b[1;33m\u001b[0m\u001b[0m\n\u001b[0m\u001b[0;32m     88\u001b[0m \u001b[0mrelevant_reference_forces_x\u001b[0m \u001b[1;33m=\u001b[0m \u001b[0mreference_forces_x\u001b[0m\u001b[1;33m[\u001b[0m\u001b[0mrelevant_mask_x\u001b[0m\u001b[1;33m]\u001b[0m\u001b[1;33m\u001b[0m\u001b[1;33m\u001b[0m\u001b[0m\n\u001b[0;32m     89\u001b[0m \u001b[0mrelevant_computed_forces_y\u001b[0m \u001b[1;33m=\u001b[0m \u001b[0mcomputed_forces_y\u001b[0m\u001b[1;33m[\u001b[0m\u001b[0mrelevant_mask_y\u001b[0m\u001b[1;33m]\u001b[0m\u001b[1;33m\u001b[0m\u001b[1;33m\u001b[0m\u001b[0m\n",
      "\u001b[1;31mIndexError\u001b[0m: boolean index did not match indexed array along dimension 1; dimension is 3897 but corresponding boolean dimension is 3748"
     ]
    }
   ],
   "source": [
    "path = save_path.replace(\"pyleecan_out_figure\", \"pyleecan_out_figure/Result/Plot/Data/Benchmark_model_stator_ms.csv\")\n",
    "with open(path, \"r\") as file:\n",
    "    reader = csv.reader(file, skipinitialspace=True)\n",
    "    l1 = next(reader)\n",
    "    l2 = next(reader)\n",
    "    l3 = next(reader)\n",
    "    nb_node = int(l2[1])\n",
    "    dim = int(l2[2])\n",
    "    Nt_tot = int(l2[3])\n",
    "    f2 = np.zeros((nb_node, dim))\n",
    "    node_number_list = []\n",
    "    indices_nodes = []\n",
    "    for row in reader:\n",
    "        f2[int(row[0])][0] = 1000 * float(row[3])\n",
    "        f2[int(row[0])][1] = 1000 * float(row[4])\n",
    "        node_number_list.append(int(row[10]))\n",
    "        indices_nodes.append(int(row[11]))\n",
    "\n",
    "\n",
    "\n",
    "\n",
    "# Little trick to reshape f2 so that it can be compared to f, since Indices_Points2 isn't taken into account yet\n",
    "_, _, connectivity = np.intersect1d(\n",
    "    indices_nodes, node_number_list, return_indices=True\n",
    ")\n",
    "f2 = f2[connectivity, :]\n",
    "\n",
    "f2 = f2.reshape((Nt_tot, nb_node, dim))\n",
    "\n",
    "components2 = {}\n",
    "Indices_Point2 = Data1D(\n",
    "    name=\"indice\", values=np.array(node_number_list), is_components=True\n",
    ")\n",
    "\n",
    "Time = out.mag.meshsolution.solution[0].field.get_axes()[0]\n",
    "\n",
    "fx2_data = DataTime(\n",
    "    name=\"Nodal force 2 (x)\",\n",
    "    unit=\"N\",\n",
    "    symbol=\"Fx2\",\n",
    "    axes=[Time, Indices_Point2],\n",
    "    values=f2[..., 0],\n",
    ")\n",
    "components2[\"comp_x\"] = fx2_data\n",
    "\n",
    "fy2_data = DataTime(\n",
    "    name=\"Nodal force 2 (y)\",\n",
    "    unit=\"N\",\n",
    "    symbol=\"Fy2\",\n",
    "    axes=[Time, Indices_Point2],\n",
    "    values=f2[..., 1],\n",
    ")\n",
    "components2[\"comp_y\"] = fy2_data\n",
    "\n",
    "vec_force2 = VectorField(name=\"Nodal forces 2\", symbol=\"F2\", components=components2)\n",
    "solforce2 = SolutionVector(field=vec_force2, type_cell=\"node\", label=\"F2\")\n",
    "out.force.meshsolution.solution.append(solforce2)\n",
    "\n",
    "out.force.meshsolution.plot_glyph(\n",
    "    label=\"F\",\n",
    "    is_point_arrow=True,\n",
    "    # is_show_fig=True,\n",
    "    save_path=join(save_path, \"magneto_plot_glyph.png\"),\n",
    ")\n",
    "\n",
    "out.force.meshsolution.plot_glyph(\n",
    "    label=\"F\",\n",
    "    is_point_arrow=True,\n",
    "    # is_show_fig=True,\n",
    "    save_path=join(save_path, \"magneto_plot_glyph2.png\"),\n",
    ")\n",
    "\n",
    "# Comparisons\n",
    "\n",
    "computed_forces_x = (\n",
    "    out.force.meshsolution.solution[0].field.components[\"comp_x\"].values\n",
    ")\n",
    "reference_forces_x = f2[..., 0]\n",
    "computed_forces_y = (\n",
    "    out.force.meshsolution.solution[0].field.components[\"comp_y\"].values\n",
    ")\n",
    "reference_forces_y = f2[..., 1]\n",
    "\n",
    "relevant_mask_x = reference_forces_x > 1e-3 * np.max(reference_forces_x)\n",
    "relevant_mask_y = reference_forces_y > 1e-3 * np.max(reference_forces_y)\n",
    "\n",
    "relevant_computed_forces_x = computed_forces_x[relevant_mask_x]\n",
    "relevant_reference_forces_x = reference_forces_x[relevant_mask_x]\n",
    "relevant_computed_forces_y = computed_forces_y[relevant_mask_y]\n",
    "relevant_reference_forces_y = reference_forces_y[relevant_mask_y]\n",
    "\n",
    "big_diff_mask_x = np.logical_and(\n",
    "    np.abs(computed_forces_x - reference_forces_x) / np.abs(reference_forces_x)\n",
    "    > 0.2,\n",
    "    np.abs(computed_forces_x - reference_forces_x) / np.abs(reference_forces_x)\n",
    "    < 1.5,\n",
    ")\n",
    "big_diff_mask_y = np.logical_and(\n",
    "    np.abs(computed_forces_y - reference_forces_y) / np.abs(reference_forces_y)\n",
    "    > 0.2,\n",
    "    np.abs(computed_forces_y - reference_forces_y) / np.abs(reference_forces_y)\n",
    "    < 1.5,\n",
    ")\n",
    "\n",
    "big_diff_x = np.where(\n",
    "    big_diff_mask_x,\n",
    "    computed_forces_x - reference_forces_x,\n",
    "    np.zeros(computed_forces_x.shape),\n",
    ")\n",
    "big_diff_y_x = np.where(\n",
    "    big_diff_mask_x,\n",
    "    computed_forces_y - reference_forces_y,\n",
    "    np.zeros(computed_forces_y.shape),\n",
    ")\n",
    "\n",
    "components_diff_x = {}\n",
    "fx_diff_data = DataTime(\n",
    "    name=\"Nodal force diff x (x)\",\n",
    "    unit=\"N\",\n",
    "    symbol=\"Fxdx\",\n",
    "    axes=[Time, Indices_Point2],\n",
    "    values=big_diff_x,\n",
    ")\n",
    "components_diff_x[\"comp_x\"] = fx_diff_data\n",
    "\n",
    "fy_diff_data = DataTime(\n",
    "    name=\"Nodal force diff x (y)\",\n",
    "    unit=\"N\",\n",
    "    symbol=\"Fydx\",\n",
    "    axes=[Time, Indices_Point2],\n",
    "    values=big_diff_y_x,\n",
    ")\n",
    "components_diff_x[\"comp_y\"] = fx_diff_data\n",
    "\n",
    "vec_force_dx = VectorField(\n",
    "    name=\"Nodal forces dx\", symbol=\"Fdx\", components=components_diff_x\n",
    ")\n",
    "solforce_dx = SolutionVector(field=vec_force_dx, type_cell=\"node\", label=\"Fdx\")\n",
    "out.force.meshsolution.solution.append(solforce_dx)\n",
    "\n",
    "out.force.meshsolution.plot_glyph(\n",
    "    label=\"Fdx\",\n",
    "    is_point_arrow=True,\n",
    "    # is_show_fig=True,\n",
    "    save_path=join(save_path, \"magneto_plot_glyph2.png\"),\n",
    ")\n",
    "\n"
   ]
  },
  {
   "cell_type": "code",
   "execution_count": null,
   "metadata": {},
   "outputs": [],
   "source": []
  },
  {
   "cell_type": "code",
   "execution_count": null,
   "metadata": {},
   "outputs": [],
   "source": []
  },
  {
   "cell_type": "markdown",
   "metadata": {},
   "source": [
    "## Force Module\n",
    "The Force abstract class will make it possible to define different ways of calculating forces. \n",
    "\n",
    "The ForceMT class inherits from Force class. ForceMT is dedicated to the computation of air-gap surface force based on the Maxwell stress tensor \\[[source](https://eomys.com/IMG/pdf/comparison-main-magnetic.pdf)\\]. \n",
    "\n",
    "Here, we get the results from a magnetic simulation without any force calculation. The Force module is initialized and run alone. "
   ]
  },
  {
   "cell_type": "code",
   "execution_count": null,
   "metadata": {},
   "outputs": [],
   "source": [
    "from pyleecan.Classes.Simu1 import Simu1\n",
    "from pyleecan.Classes.ForceMT import ForceMT\n",
    "\n",
    "# Create the Simulation\n",
    "mySimu = Simu1(name=\"Tuto_Force\")  \n",
    "mySimu.parent = out\n",
    "mySimu.force = ForceMT()\n",
    "\n",
    "# Run only the force module\n"
   ]
  },
  {
   "cell_type": "markdown",
   "metadata": {},
   "source": [
    "Once the simulation is finished, the results are stored in the force part of the output (i.e. _myResults.force_ ) and we can call different plots. This object contains:   \n",
    "- *Time*: Time axe\n",
    "- *Angle*: Angular position axe   \n",
    "- *AGSF*: Airgap surface force (Radial and Tangential component)\n",
    "    \n",
    "**Output** object embbed different plot to visualize results easily. You can find a dedicated tutorial [here](https://www.pyleecan.org/tuto_Plots.html).\n",
    "\n",
    "Here are some example of useful plots."
   ]
  },
  {
   "cell_type": "code",
   "execution_count": 13,
   "metadata": {},
   "outputs": [],
   "source": [
    "from pyleecan.Functions.Plot import dict_2D, dict_3D\n",
    "out.force.AGSF.plot_2D_Data(\"angle{°}\", **dict_2D)\n",
    "out.force.AGSF.plot_2D_Data(\"wavenumber=[0,78]\", **dict_2D)"
   ]
  },
  {
   "cell_type": "code",
   "execution_count": 14,
   "metadata": {},
   "outputs": [],
   "source": [
    "from numpy import pi\n",
    "\n",
    "#------------------------------------------------------\n",
    "# Plot the air-gap force as a function of time with the time fft\n",
    "out.force.AGSF.plot_2D_Data(\"time\",\"angle[10]\", is_auto_ticks=False, **dict_2D)\n",
    "out.force.AGSF.plot_2D_Data(\"freqs=[0,4000]\", is_auto_ticks=False, **dict_2D)\n",
    "#------------------------------------------------------"
   ]
  },
  {
   "cell_type": "markdown",
   "metadata": {},
   "source": [
    "The following plot displays the radial air-gap surface force over time and angle. "
   ]
  },
  {
   "cell_type": "code",
   "execution_count": 15,
   "metadata": {},
   "outputs": [],
   "source": [
    "#------------------------------------------------------\n",
    "# Plot the tangential force as a function of time and space\n",
    "out.force.AGSF.plot_3D_Data(\"time\", \"angle{°}\", is_2D_view=True, **dict_3D)\n",
    "out.force.AGSF.plot_3D_Data(\"time\", \"angle{°}\", is_2D_view=False, **dict_3D)\n",
    "#------------------------------------------------------"
   ]
  },
  {
   "cell_type": "code",
   "execution_count": null,
   "metadata": {},
   "outputs": [],
   "source": []
  }
 ],
 "metadata": {
  "celltoolbar": "Format de la Cellule Texte Brut",
  "kernelspec": {
   "display_name": "Python 3 (ipykernel)",
   "language": "python",
   "name": "python3"
  },
  "language_info": {
   "codemirror_mode": {
    "name": "ipython",
    "version": 3
   },
   "file_extension": ".py",
   "mimetype": "text/x-python",
   "name": "python",
   "nbconvert_exporter": "python",
   "pygments_lexer": "ipython3",
   "version": "3.8.8"
  }
 },
 "nbformat": 4,
 "nbformat_minor": 4
}

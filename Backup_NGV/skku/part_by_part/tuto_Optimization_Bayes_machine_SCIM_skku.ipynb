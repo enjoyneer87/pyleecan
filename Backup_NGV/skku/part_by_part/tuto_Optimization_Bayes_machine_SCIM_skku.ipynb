{
 "cells": [
  {
   "cell_type": "markdown",
   "metadata": {},
   "source": [
    "# Version information"
   ]
  },
  {
   "cell_type": "code",
   "execution_count": 4,
   "metadata": {},
   "outputs": [
    {
     "name": "stdout",
     "output_type": "stream",
     "text": [
      "Running date: May 14, 2022\n",
      "Pyleecan version:1.3.8\n",
      "SciDataTool version:2.3.10\n"
     ]
    }
   ],
   "source": [
    "from datetime import date\n",
    "print(\"Running date:\", date.today().strftime(\"%B %d, %Y\"))\n",
    "import pyleecan\n",
    "print(\"Pyleecan version:\" + pyleecan.__version__)\n",
    "import SciDataTool\n",
    "print(\"SciDataTool version:\" + SciDataTool.__version__)"
   ]
  },
  {
   "cell_type": "markdown",
   "metadata": {},
   "source": [
    "# How to solve optimization problem in Pyleecan, using Bayesian optimisation\n",
    "\n",
    "This tutorial explains how to use Pyleecan to solve **constrained global optimization** problem using bayesian optimization.\n",
    "\n",
    "The notebook related to this tutorial is available on [GitHub](https://github.com/Eomys/pyleecan/tree/master/Tutorials/).  \n",
    "\n",
    "The tutorial introduces the different objects to define that enable to parametrize each aspect of the optimization. To do so, we will present an example to maximize the average torque and minimize the ripple torque by varying..\n",
    "\n",
    "## Problem definition\n",
    "\n",
    "The object [**OptiProblem**](https://www.pyleecan.org/pyleecan.Classes.OptiObjFunc.html) contains all the optimization problem characteristics:  \n",
    "\n",
    "- the simulation/machine to iterate on\n",
    "- the design variable to vary some parameters of the simulation (e.g. input current, topology of the machine)  \n",
    "- the objective functions to minimize for the simulation  \n",
    "- some constraints (optional)  \n",
    "\n",
    "### Reference simulation definition\n",
    "\n",
    "To define the problem, we first define a reference simulation. Each optimization evaluation will copy the reference simulation, set the value of the design variables and run the new simulation.\n",
    "\n",
    "This exemple uses the simulation defined in the tutorial [How to define a simulation to call FEMM](https://www.pyleecan.org/tuto_Simulation_FEMM.html), (with less precision for FEMM mesh to speed up the calculations)"
   ]
  },
  {
   "cell_type": "code",
   "execution_count": 5,
   "metadata": {},
   "outputs": [],
   "source": [
    "from numpy import ones, pi, array, linspace\n",
    "import numpy as np\n",
    "from pyleecan.Classes.OPslip import OPslip\n",
    "from pyleecan.Classes.Simu1 import Simu1\n",
    "from pyleecan.Classes.Output import Output\n",
    "from pyleecan.Classes.InputCurrent import InputCurrent\n",
    "from pyleecan.Classes.OPdq import OPdq\n",
    "from pyleecan.Classes.ImportMatrixVal import ImportMatrixVal\n",
    "from pyleecan.Classes.MagFEMM import MagFEMM\n",
    "from pyleecan.Classes.ImportGenVectLin import ImportGenVectLin\n",
    "from pyleecan.Functions.load import load\n",
    "from pyleecan.definitions import DATA_DIR\n",
    "from os.path import join\n",
    "\n",
    "# Import the machine from a script\n",
    "SCIM_001 = load(join(DATA_DIR, \"Machine\", \"SCIM_001.json\"))\n",
    "\n",
    "# Create the Simulation\n",
    "simu_ref = Simu1(name=\"EM_SIPMSM_AL_001\", machine=SCIM_001)   \n",
    "\n",
    "# Defining Simulation Input\n",
    "Nt = 2\n",
    "N0 = 3000\n",
    "Is = ImportMatrixVal(\n",
    "    value=np.array(\n",
    "        [\n",
    "            [6.97244193e-06, 2.25353053e02, -2.25353060e02],\n",
    "            [-2.60215295e02, 1.30107654e02, 1.30107642e02],\n",
    "            #             [-6.97244208e-06, -2.25353053e02, 2.25353060e02],\n",
    "            #             [2.60215295e02, -1.30107654e02, -1.30107642e02],\n",
    "        ]\n",
    "    )\n",
    ")\n",
    "Ir = ImportMatrixVal(value=np.zeros(30))\n",
    "time = ImportGenVectLin(start=0, stop=0.015, num=Nt, endpoint=True)\n",
    "Na_tot = 64\n",
    "\n",
    "simu_ref.input = InputCurrent(\n",
    "        Is=Is,\n",
    "        Ir=Ir,  # zero current for the rotor\n",
    "        OP=OPslip(N0=N0),\n",
    "        time=time,\n",
    "        Na_tot=Na_tot,\n",
    "        angle_rotor_initial=0.5216 + np.pi,\n",
    "    )\n",
    "\n",
    "# Definition of the magnetic simulation (is_mmfr=False => no flux from the magnets)\n",
    "simu_ref.mag = MagFEMM(\n",
    "    type_BH_stator=2, # 0 to use the B(H) curve, \n",
    "                           # 1 to use linear B(H) curve according to mur_lin,\n",
    "                           # 2 to enforce infinite permeability (mur_lin =100000)\n",
    "    type_BH_rotor=2,  # 0 to use the B(H) curve, \n",
    "                           # 1 to use linear B(H) curve according to mur_lin,\n",
    "                           # 2 to enforce infinite permeability (mur_lin =100000)\n",
    "    file_name = \"\", # Name of the file to save the FEMM model\n",
    "    is_periodicity_a=True, # Use Angular periodicity\n",
    "    is_periodicity_t=True,  # Use time periodicity\n",
    ")\n",
    "\n",
    "# We only use the magnetic part \n",
    "simu_ref.force = None\n",
    "simu_ref.struct = None "
   ]
  },
  {
   "cell_type": "markdown",
   "metadata": {},
   "source": [
    "### Minimization problem definition\n",
    "\n",
    "To setup the optimization problem, we define some objective functions using the [**OptiObjective**](https://www.pyleecan.org/pyleecan.Classes.OptiObjective.html) object (which behave the same way as [**DataKeeper**](https://www.pyleecan.org/pyleecan.Classes.DataKeeper.html). \n",
    "\n",
    "Each objective function is stored in the *keeper* attribute of a **OptiObjective**. keeper is a function and can be set either with a string (mandatory to be able to save the object) or directly with a function (the function will be discarded when saving). This type of function takes an output object in argument and returns a float to **minimize**. \n",
    "\n",
    "We gather the objective functions into a list:"
   ]
  },
  {
   "cell_type": "code",
   "execution_count": 6,
   "metadata": {},
   "outputs": [],
   "source": [
    "from pyleecan.Classes.OptiObjective import OptiObjective\n",
    "import numpy as np\n",
    "\n",
    "objs = [\n",
    "    OptiObjective(\n",
    "        symbol=\"obj1\",\n",
    "        name=\"Maximization of the torque average\",\n",
    "        keeper=\"lambda output: output.mag.Tem_av\",\n",
    "    ),\n",
    "    OptiObjective(\n",
    "        symbol=\"obj2\",\n",
    "        name=\"Minimization of the torque ripple\",\n",
    "        keeper=\"lambda output: output.mag.Tem_rip_norm\",\n",
    "    ),\n",
    "]"
   ]
  },
  {
   "cell_type": "markdown",
   "metadata": {},
   "source": [
    "The first objective is the torque average that is taken from the output.\n",
    "\n",
    "The second objective is the torque ripple.\n",
    "\n",
    "### Design variables\n",
    "We use the object [**OptiDesignVar**](https://www.pyleecan.org/pyleecan.Classes.OptiDesignVar.html) to define the design variables. \n",
    "\n",
    "\n",
    "To define a design variable, we have to specify different attributes:  \n",
    "\n",
    "- *name* to define the design variable name\n",
    "- *symbol* to access to the variable / for plot (must be unique)\n",
    "- *unit* to define the variable unit\n",
    "- *type_var* to specify the variable \"type\":  \n",
    "    - *interval* for continuous variables  \n",
    "    - *set* for discrete variables  \n",
    "- *space* to set the variable bound\n",
    "- *setter* to access to the variable in the simu object. This attribute **must begin by \"simu\"**.  \n",
    "- *get_value* to define the variable for the first generation, the function takes the space in argument and returns the variable value  \n",
    "\n",
    "We store the design variables in a dictionnary that will be in argument of the problem. For this example, we define 30 design variables: \n",
    "\n",
    "  "
   ]
  },
  {
   "cell_type": "code",
   "execution_count": 7,
   "metadata": {},
   "outputs": [],
   "source": [
    "from pyleecan.Classes.OptiDesignVar import OptiDesignVar\n",
    "import random\n",
    "\n",
    "my_vars = []\n",
    "\n",
    "def gen_setter(i):\n",
    "    def new_setter(simu, value):\n",
    "        simu.input.Ir.value[i] = value\n",
    "\n",
    "    return new_setter\n",
    "\n",
    "for i in range(30):\n",
    "    my_vars.append(\n",
    "        OptiDesignVar(\n",
    "            name=\"Ir({})\".format(i),\n",
    "            symbol=\"var_\" + str(i),\n",
    "            type_var=\"interval\",\n",
    "            space=[0, 1],\n",
    "            get_value=lambda space: np.random.uniform(*space),\n",
    "            setter=gen_setter(i),\n",
    "        )\n",
    "    )\n"
   ]
  },
  {
   "cell_type": "markdown",
   "metadata": {},
   "source": [
    "\n",
    "\n",
    "### Constraints\n",
    "\n",
    "The class [**OptiConstraint**](https://www.pyleecan.org/pyleecan.Classes.OptiConstraint.html) enables to define some constraint. For each constraint, we have to define the following attributes:  \n",
    "\n",
    "- name  \n",
    "- type_const: type of constraint  \n",
    "    - \"==\"  \n",
    "    - \"<=\"  \n",
    "    - \"<\"  \n",
    "    - \">=\"  \n",
    "    - \">\"  \n",
    "- value: value to compare  \n",
    "- get_variable: function which takes output in argument and returns the constraint value  \n",
    "\n",
    "We also store the constraints into a dict."
   ]
  },
  {
   "cell_type": "code",
   "execution_count": 8,
   "metadata": {},
   "outputs": [],
   "source": [
    "from pyleecan.Classes.OptiConstraint import OptiConstraint\n",
    "\n",
    "my_constraint = [\n",
    "    OptiConstraint(\n",
    "        name = \"const1\",\n",
    "        type_const = \"<=\",\n",
    "        value = 700,\n",
    "        get_variable = \"lambda output: abs(output.mag.Tem_rip_pp)\",\n",
    "    )\n",
    "]"
   ]
  },
  {
   "cell_type": "markdown",
   "metadata": {},
   "source": [
    "### Evaluation function\n",
    "\n",
    "\n",
    "We can create our own evaluation function if needed by defining a function which only take an output in argument. \n"
   ]
  },
  {
   "cell_type": "code",
   "execution_count": 9,
   "metadata": {},
   "outputs": [],
   "source": [
    "from pyleecan.Classes.OptiProblem import OptiProblem\n",
    "\n",
    "# ### Evaluation\n",
    "def evaluate(output):\n",
    "    x = output.simu.input.Ir.value\n",
    "    f1 = lambda x: x[0]\n",
    "    g = lambda x: 1 + (9 / 29) * np.sum(x[1:])\n",
    "    h = lambda f1, g: 1 - np.sqrt(f1 / g) - (f1 / g) * np.sin(10 * np.pi * f1)\n",
    "    output.mag.Tem_av = f1(x)\n",
    "    output.mag.Tem_rip_norm = g(x) * h(f1(x), g(x))\n",
    "\n",
    "# ### Defining the problem\n",
    "my_prob = OptiProblem(\n",
    "    simu=simu_ref, design_var=my_vars, obj_func=objs, eval_func=evaluate\n",
    ")"
   ]
  },
  {
   "cell_type": "markdown",
   "metadata": {},
   "source": [
    "## Solver\n",
    "\n",
    "Pyleecan separes the problem and solver definition to be able to create different solver that uses the same objects. \n",
    "\n",
    "The class [**OptiBayesAlgSmoot**]() enables to solve our problem using Gaussian processes to create a modelization of the machine. This modelization will be cheap to run, and will allow us to perform the [NSGA-II](https://www.iitk.ac.in/kangal/Deb_NSGA-II.pdf) genetical algorithm. The algorithm takes several parameters:  \n",
    "\n",
    "|Parameter|Description|Type|Default Value|  \n",
    "| :-: | :- | :-: | :-: |  \n",
    "|*problem*|Problem to solve|**OptiProblem**|mandatory|\n",
    "|*nb\\_start*|Number of points to start the Gaussian Process|**int**|30|  \n",
    "|*nb\\_iter*|Number of iteration|**int**|5|   \n",
    "|*nb\\_gen*|Generation number|**int**|10|  \n",
    "|*size\\_pop*| Population size per generation|**int**|10| \n",
    "\n",
    "  \n",
    "The `solve` method performs the optimization and returns an [**OutputMultiOpti**](https://www.pyleecan.org/pyleecan.Classes.OutputMultiOpti.html) object which contains the results."
   ]
  },
  {
   "cell_type": "code",
   "execution_count": 10,
   "metadata": {},
   "outputs": [
    {
     "name": "stdout",
     "output_type": "stream",
     "text": [
      "23:50:46 Starting optimization...\n",
      "\tNumber of iterations: 10\n",
      "\t\n",
      "iteration 1\n",
      "PI max value : 0.9999983197688747\n",
      "xopt : [0.80087105 0.10578311 0.22993273 0.14387402 0.42736059 0.39729568\n",
      " 0.38887384 0.21332673 0.32299025 0.50197312 0.42919875 0.39091386\n",
      " 0.09841701 0.16519348 0.21309091 0.6311432  0.53462824 0.30928093\n",
      " 0.57921572 0.29027638 0.3071732  0.37354472 0.3130615  0.42057233\n",
      " 0.43516389 0.35966121 0.15660958 0.30502917 0.35793298 0.30496718]\n",
      "iteration 2\n",
      "PI max value : 1.0\n",
      "xopt : [2.98745358e-04 3.96698884e-01 2.26126468e-01 6.90174689e-01\n",
      " 4.65266681e-02 5.88492269e-01 5.27551211e-01 4.09023060e-02\n",
      " 8.76301453e-01 6.97774677e-01 9.19016625e-01 8.75060837e-01\n",
      " 2.15916283e-01 3.35831795e-01 8.67550734e-01 7.41116153e-02\n",
      " 5.09814222e-01 1.04503183e-01 2.40164941e-01 6.19606521e-01\n",
      " 1.96777226e-01 6.97664295e-01 3.16542388e-01 2.44670063e-01\n",
      " 7.81985431e-01 8.84272977e-01 1.54288032e-01 4.77963309e-01\n",
      " 6.38289405e-01 2.57313913e-01]\n",
      "iteration 3\n",
      "PI max value : 0.97509308415529\n",
      "xopt : [0.18825924 0.30093825 0.15264835 0.44443454 0.07192229 0.46439397\n",
      " 0.36454361 0.23690392 0.05432099 0.23011801 0.22492921 0.35569819\n",
      " 0.36709704 0.33895288 0.54346345 0.19310929 0.35211144 0.24330392\n",
      " 0.38043376 0.51018597 0.60071853 0.56415866 0.17753803 0.17648349\n",
      " 0.13881728 0.49773431 0.24489656 0.53787338 0.41886122 0.00933273]\n",
      "iteration 4\n",
      "PI max value : 0.9861815208911416\n",
      "xopt : [0.0681597  0.23090399 0.11648099 0.31705088 0.00349948 0.45739852\n",
      " 0.93910089 0.16786065 0.01134501 0.1567871  0.18442809 0.35895411\n",
      " 0.30617903 0.25773807 0.49681426 0.13279443 0.09799644 0.15600417\n",
      " 0.35455704 0.46400057 0.53732507 0.5235325  0.11965294 0.1224076\n",
      " 0.07537295 0.52123888 0.10475965 0.348245   0.29507957 0.00103027]\n",
      "iteration 5\n",
      "PI max value : 0.9749185316340995\n",
      "xopt : [0.61449063 0.31117956 0.66610565 0.54397508 0.41032038 0.53509741\n",
      " 0.41652227 0.31701654 0.68999784 0.38420445 0.38424502 0.1680885\n",
      " 0.39424287 0.36932323 0.25889758 0.34144064 0.14209095 0.08757229\n",
      " 0.48427165 0.62490487 0.32199466 0.46801852 0.24257501 0.0947099\n",
      " 0.05756737 0.09962489 0.00233268 0.00075441 0.40673926 0.27907859]\n",
      "iteration 6\n",
      "PI max value : 1.0\n",
      "xopt : [8.75613807e-05 3.93425425e-01 3.92408339e-01 9.24404908e-01\n",
      " 3.79199900e-01 1.07454005e-01 1.68235310e-01 4.77102931e-01\n",
      " 5.33013181e-02 5.25979210e-01 7.99897206e-01 3.80077180e-02\n",
      " 1.31960349e-01 8.01213775e-01 9.26358884e-02 9.76591755e-01\n",
      " 4.31829034e-01 3.10030207e-01 9.13967565e-01 2.98198936e-03\n",
      " 2.70266534e-02 6.50925779e-01 4.10867999e-01 1.88659396e-01\n",
      " 9.95896807e-01 9.80434114e-01 1.84526141e-02 7.61818859e-01\n",
      " 4.66310630e-01 5.91364412e-01]\n",
      "iteration 7\n",
      "PI max value : 0.6472960979851204\n",
      "xopt : [6.13976036e-01 4.64691464e-01 4.53298884e-01 4.18636951e-01\n",
      " 2.39321441e-01 4.82342205e-01 8.11244913e-02 3.14116908e-01\n",
      " 8.60987463e-01 3.69894546e-01 3.74616028e-01 4.50109489e-01\n",
      " 2.31382815e-01 4.49028063e-01 7.38014317e-01 3.24166189e-01\n",
      " 8.06583944e-02 2.91284244e-03 3.74809423e-01 1.44933965e-01\n",
      " 3.70026696e-01 2.04061523e-02 1.63894202e-01 4.23916146e-01\n",
      " 4.03214619e-05 7.59993650e-02 4.25325939e-01 1.63271455e-03\n",
      " 4.72641367e-01 2.74153880e-01]\n",
      "iteration 8\n",
      "PI max value : 0.8454150026277657\n",
      "xopt : [0.80567293 0.00108683 0.79046088 0.19167105 0.28560243 0.46646492\n",
      " 0.64139788 0.97607967 0.10697543 0.41501766 0.44421486 0.15643988\n",
      " 0.14320889 0.04135557 0.15461902 0.75634873 0.48617857 0.76280575\n",
      " 0.44757214 0.348908   0.28558255 0.81874055 0.01788    0.17119012\n",
      " 0.79835754 0.22204821 0.38337815 0.50484089 0.40743171 0.46979251]\n",
      "iteration 9\n",
      "PI max value : 0.8581889554069781\n",
      "xopt : [0.81717888 0.57196945 0.30817751 0.43022433 0.40078282 0.45183923\n",
      " 0.77833933 0.00173813 0.63457661 0.27958792 0.37219741 0.66020923\n",
      " 0.18749887 0.45304117 0.36741232 0.58619082 0.14215036 0.08825804\n",
      " 0.28718912 0.00162192 0.56176084 0.06576844 0.59116832 0.70117636\n",
      " 0.29461199 0.42594081 0.55678602 0.62995375 0.22199746 0.50644337]\n",
      "iteration 10\n",
      "PI max value : 0.48872919150977423\n",
      "xopt : [0.71272874 0.24261096 0.57726549 0.37122148 0.37985181 0.44244182\n",
      " 0.21548963 0.50241674 0.86823199 0.47888391 0.30445965 0.17973082\n",
      " 0.30340821 0.34213611 0.72140389 0.31903907 0.16080893 0.18756704\n",
      " 0.48028218 0.33180454 0.22460526 0.22197143 0.02086648 0.41410815\n",
      " 0.141432   0.04500903 0.39365112 0.00131936 0.52712249 0.53671761]\n",
      "Model is well refined, NSGA2 is running...\n",
      "Optimization done, get the front with .result.F and the set with .result.X\n",
      "23:54:49 End of optimization, solved in 0:04:02.798480.\n",
      "\n"
     ]
    }
   ],
   "source": [
    "from pyleecan.Classes.OptiBayesAlgSmoot import OptiBayesAlgSmoot\n",
    "# Solve problem with Bayes\n",
    "solver = OptiBayesAlgSmoot(problem=my_prob, nb_start=300, nb_iter=10, nb_gen=100, size_pop=40)\n",
    "res = solver.solve()"
   ]
  },
  {
   "cell_type": "markdown",
   "metadata": {},
   "source": [
    "During the algorithm the object displays some data containing:\n",
    "\n",
    "- number of errors: failure during the objective function execution\n",
    "- number of infeasible: number of individual with constraints violations"
   ]
  },
  {
   "cell_type": "markdown",
   "metadata": {},
   "source": [
    "## Plot results\n",
    "\n",
    "**OutputMultiOpti** has several methods to display some results:  \n",
    "\n",
    "- `plot_generation`: to plot individuals for in 2D  \n",
    "- `plot_pareto`: to plot the pareto front in 2D    "
   ]
  },
  {
   "cell_type": "code",
   "execution_count": 12,
   "metadata": {},
   "outputs": [
    {
     "name": "stderr",
     "output_type": "stream",
     "text": [
      "*c* argument looks like a single numeric RGB or RGBA sequence, which should be avoided as value-mapping will have precedence in case its length matches with *x* & *y*.  Please use the *color* keyword-argument or provide a 2D array with a single row if you intend to specify the same RGB or RGBA value for all points.\n"
     ]
    },
    {
     "data": {
      "text/plain": [
       "<Figure size 432x288 with 0 Axes>"
      ]
     },
     "metadata": {},
     "output_type": "display_data"
    },
    {
     "data": {
      "image/png": "[encoded data removed]",
      "text/plain": [
       "<Figure size 432x288 with 1 Axes>"
      ]
     },
     "metadata": {
      "needs_background": "light"
     },
     "output_type": "display_data"
    }
   ],
   "source": [
    "%matplotlib inline \n",
    "import matplotlib.pyplot as plt \n",
    "\n",
    "# Create a figure containing 4 subfigures (axes) \n",
    "fig = plt.figure()\n",
    "\n",
    "# Plot pareto front in fitness space \n",
    "res.plot_pareto(\n",
    "    x_symbol = \"obj1\", \n",
    "    y_symbol = \"obj2\", \n",
    "    is_show_fig=True\n",
    ")\n",
    "\n",
    "fig.tight_layout()"
   ]
  },
  {
   "cell_type": "code",
   "execution_count": 3,
   "metadata": {},
   "outputs": [
    {
     "data": {
      "image/png": "[encoded data removed]",
      "text/plain": [
       "<Figure size 432x288 with 1 Axes>"
      ]
     },
     "metadata": {
      "needs_background": "light"
     },
     "output_type": "display_data"
    }
   ],
   "source": [
    "from pymoo.factory import get_problem\n",
    "#from pymoo.factory import pro\n",
    "from pymoo.util.plotting import plot\n",
    "\n",
    "problem=get_problem(\"zdt3\")\n",
    "plot(problem.pareto_front(), no_fill=True)\n",
    "\n",
    "#problem.evaluate()\n"
   ]
  },
  {
   "cell_type": "code",
   "execution_count": null,
   "metadata": {},
   "outputs": [],
   "source": []
  }
 ],
 "metadata": {
  "interpreter": {
   "hash": "9d5e8333ceffe97a22124fabf97b65088b462fe783fa5f39b8ac9912f0fb0aac"
  },
  "kernelspec": {
   "display_name": "Python 3.8.8 ('py38_pcan138_SDT_2310')",
   "language": "python",
   "name": "python3"
  },
  "language_info": {
   "codemirror_mode": {
    "name": "ipython",
    "version": 3
   },
   "file_extension": ".py",
   "mimetype": "text/x-python",
   "name": "python",
   "nbconvert_exporter": "python",
   "pygments_lexer": "ipython3",
   "version": "3.8.8"
  }
 },
 "nbformat": 4,
 "nbformat_minor": 4
}

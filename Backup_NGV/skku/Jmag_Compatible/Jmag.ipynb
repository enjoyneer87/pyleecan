{
 "cells": [
  {
   "attachments": {},
   "cell_type": "markdown",
   "metadata": {},
   "source": [
    "Jmag"
   ]
  },
  {
   "cell_type": "code",
   "execution_count": 2,
   "metadata": {},
   "outputs": [],
   "source": [
    "from win32com import client  #activeX연결 모듈\n",
    "# import numpy as np\n",
    "# import matplotlib.pyplot as plt\n",
    "# import time\n",
    "\n",
    "# jprojfile ='D:/KDH/Thesis/HDEV/01_JMAG/HYH/CEFC_4p12s_Stator_Division.jproj'\n",
    "# dname=u'Gap magnetic flux density'\n",
    "app = client.dynamic.Dispatch('designer.Application.210') #제이맥 연결 버젼지정시  \n",
    "app.show()\n",
    "# app.Load(jprojfile)"
   ]
  },
  {
   "cell_type": "code",
   "execution_count": 3,
   "metadata": {},
   "outputs": [],
   "source": [
    "# -*- coding: utf-8 -*-\n",
    "file_path=app.GetProjectPath()\n",
    "a=app.GetModelNameInProjectFromFilePath(file_path)"
   ]
  },
  {
   "cell_type": "code",
   "execution_count": 5,
   "metadata": {},
   "outputs": [
    {
     "data": {
      "text/plain": [
       "'Z:\\\\Thesis\\\\HDEV\\\\Effy_map_JMAG_tool\\\\12p72s_FCEV_Loss.jproj'"
      ]
     },
     "execution_count": 5,
     "metadata": {},
     "output_type": "execute_result"
    }
   ],
   "source": [
    "file_path"
   ]
  },
  {
   "cell_type": "markdown",
   "metadata": {},
   "source": [
    "### Set Study"
   ]
  },
  {
   "cell_type": "code",
   "execution_count": 38,
   "metadata": {},
   "outputs": [],
   "source": [
    "app.SetCurrentStudy(u\"Load_Hysteresis_steel_noload\")\n",
    "currentStudy = app.GetCurrentStudy()"
   ]
  },
  {
   "cell_type": "markdown",
   "metadata": {},
   "source": [
    "### Set case"
   ]
  },
  {
   "cell_type": "code",
   "execution_count": 39,
   "metadata": {},
   "outputs": [],
   "source": [
    "numCases = currentStudy.GetDesignTable().NumCases()\n",
    "caseno=app.View().GetCurrentCase()\n",
    "\n"
   ]
  },
  {
   "cell_type": "code",
   "execution_count": 41,
   "metadata": {},
   "outputs": [
    {
     "data": {
      "text/plain": [
       "False"
      ]
     },
     "execution_count": 41,
     "metadata": {},
     "output_type": "execute_result"
    }
   ],
   "source": [
    "i=1\n",
    "app.View().SetCurrentCase(i)\n",
    "parameter = app.GetCurrentStudy().CreateTableDefinition()\n",
    "parameter.SetResultType(u\"NodalForce\")\n",
    "parameter.SetCoordinate(u\"Global Rectangular\")\n",
    "parameter.SetComponent(u\"X\")\n",
    "parameter.SetAllSteps()\n",
    "parameter.SetIsShownMinMaxInfo(False)\n",
    "parameter.SetIsShownPositionInfo(True)\n",
    "forcex_csv_file_name=\"Z:/01_Codes_Projects/git_NVH_py/m_file/working/Nodal_f_case\"+str(i)+\"_x.csv\"\n",
    "app.GetCurrentStudy().ExportTable(parameter, forcex_csv_file_name, 0)\n",
    "# theta_data = app.GetCurrentStudy().CreateTableDefinition()\n",
    "# theta_data.SetResultType(u\"NodalForce\")\n",
    "# theta_data.SetCoordinate(u\"Rectangular\")\n",
    "# theta_data.SetComponent(u\"Y\")\n",
    "# theta_data.SetAllSteps()\n",
    "# theta_data.SetIsShownMinMaxInfo(False)\n",
    "# theta_data.SetIsShownPositionInfo(True)\n",
    "# forcey_csv_file_name=\"Z:/01_Codes_Projects/git_NVH_py/m_file/working/Nodal_f_case\"+str(i)+\"_y.csv\"\n",
    "# app.GetCurrentStudy().ExportTable(theta_data, forcey_csv_file_name, 0)\n"
   ]
  },
  {
   "cell_type": "code",
   "execution_count": 35,
   "metadata": {},
   "outputs": [
    {
     "data": {
      "text/plain": [
       "False"
      ]
     },
     "execution_count": 35,
     "metadata": {},
     "output_type": "execute_result"
    }
   ],
   "source": [
    "app.GetCurrentStudy().ExportTable(parameter, forcex_csv_file_name, 0)\n"
   ]
  },
  {
   "cell_type": "code",
   "execution_count": 33,
   "metadata": {},
   "outputs": [
    {
     "data": {
      "text/plain": [
       "'Z:/01_Codes_Projects/git_NVH_py/m_file/working/Nodal_f_case2_x.csv'"
      ]
     },
     "execution_count": 33,
     "metadata": {},
     "output_type": "execute_result"
    }
   ],
   "source": [
    "forcex_csv_file_name"
   ]
  }
 ],
 "metadata": {
  "kernelspec": {
   "display_name": "py38_motor",
   "language": "python",
   "name": "python3"
  },
  "language_info": {
   "codemirror_mode": {
    "name": "ipython",
    "version": 3
   },
   "file_extension": ".py",
   "mimetype": "text/x-python",
   "name": "python",
   "nbconvert_exporter": "python",
   "pygments_lexer": "ipython3",
   "version": "3.8.0"
  },
  "orig_nbformat": 4,
  "vscode": {
   "interpreter": {
    "hash": "8fc4f609211f58521b6abc9d098b298a540faddf63db97e6e44f063b7b8eb2c6"
   }
  }
 },
 "nbformat": 4,
 "nbformat_minor": 2
}

{
 "cells": [
  {
   "cell_type": "markdown",
   "metadata": {},
   "source": [
    "# String Definition"
   ]
  },
  {
   "cell_type": "code",
   "execution_count": 1,
   "metadata": {},
   "outputs": [],
   "source": [
    "CSV_VERSION = \"1.0.0\"\n",
    "OUTPUT_FILE_PATH = \"outputFilePath\"\n",
    "SET_PREFIX = \"prefix\"\n",
    "TORQUE_COND_TITLE = \"condition_title\"\n",
    "NUM_POLES = \"numPoles\"\n",
    "COORD_TYPE = \"coord_type\"\n",
    "USE_COPY_CYCLE = \"use_copy_cycle\"\n",
    "OUTPUT_FORMAT_TYPE = \"output_format_type\"\n",
    "OUTPUT_CASE_TYPE = \"output_case_type\"\n",
    "SPECIFIED_CASES = \"specified_cases\"\n",
    "EPSILON = 0.000001\n",
    "OUTPUT_DIMENSION = 3"
   ]
  },
  {
   "cell_type": "markdown",
   "metadata": {},
   "source": [
    "# import package"
   ]
  },
  {
   "cell_type": "code",
   "execution_count": 5,
   "metadata": {},
   "outputs": [],
   "source": [
    "import locale\n",
    "import os\n",
    "# import designer\n",
    "from win32com import client  #activeX연결 모듈\n",
    "\n",
    "designer = client.dynamic.Dispatch('designer.Application.202') #제이맥 연결 버젼지정시   client.dynamic.Dispatch('designer.Application.180')\n"
   ]
  },
  {
   "cell_type": "markdown",
   "metadata": {},
   "source": [
    "# Main "
   ]
  },
  {
   "cell_type": "code",
   "execution_count": null,
   "metadata": {},
   "outputs": [],
   "source": [
    "def main():\n",
    "    \tapp.SetShowProgressDialog(False)\n",
    "\tif (check_model(app) == False):\n",
    "\t\treturn\n",
    "\t\n",
    "\tparameters = get_parameters_from_dialog(app)\n",
    "\tif (check_dialog_parameters(app, parameters) == False):\n",
    "\t\treturn\n",
    "\t\n",
    "\toutput_csv(app, parameters)\n"
   ]
  },
  {
   "cell_type": "markdown",
   "metadata": {},
   "source": [
    "# check_model"
   ]
  },
  {
   "cell_type": "code",
   "execution_count": 6,
   "metadata": {},
   "outputs": [],
   "source": [
    "def check_model(app):\n",
    "    \n",
    "\tmodel = app.GetCurrentModel()\n",
    "\tstudy = app.GetCurrentStudy()\n",
    "\n",
    "\tif (model.IsValid() == False):\n",
    "\t\tmessage = \"No model.\"\n",
    "\t\tmessage_jp = \"���f��������܂���B\"\n",
    "\t\tshow_error_message(message, message_jp)\n",
    "\t\treturn False\n",
    "\n",
    "\tsetList = model.GetSetList()\n",
    "\tif (setList.NumSet()<1):\n",
    "\t\tmessage = \"There is no set.\"\n",
    "\t\tmessage_jp = \"�Z�b�g������܂���B\"\n",
    "\t\tshow_error_message(message, message_jp)\n",
    "\t\treturn False\n",
    "\n",
    "\tif (study.IsValid() == False):\n",
    "\t\tmessage = \"No study.\"\n",
    "\t\tmessage_jp = \"�X�^�f�B������܂���B\"\n",
    "\t\tshow_error_message(message, message_jp)\n",
    "\t\treturn False\n",
    "\t\n",
    "\tmotionList = get_conditions(study, \"RotationMotion\")\n",
    "\tif (len(motionList)<1):\n",
    "\t\tmessage = \"Current study has no rotation motion condition.\"\n",
    "\t\tmessage_jp = \"���X�^�f�B�͉�]�^������������܂���B\"\n",
    "\t\tshow_error_message(message, message_jp)\n",
    "\t\treturn False\n",
    "\t\n",
    "\ttorqueList = get_conditions(study, \"Torque\")\n",
    "\tif (len(torqueList)<1):\n",
    "\t\tmessage = \"Current study has no torque condition.\"\n",
    "\t\tmessage_jp = \"���X�^�f�B�̓g���N����������܂���B\"\n",
    "\t\tshow_error_message(message, message_jp)\n",
    "\t\treturn False\n",
    "\t\n",
    "\tforceList = get_conditions(study, \"Force\")\n",
    "\tif (len(forceList)<1):\n",
    "\t\tmessage = \"Current study has no force condition.\"\n",
    "\t\tmessage_jp = \"���X�^�f�B�͓d���͏���������܂���B\"\n",
    "\t\tshow_error_message(message, message_jp)\n",
    "\t\treturn False\n",
    "\t\n",
    "\tif (study.AnyCaseHasResult() == False):\n",
    "\t\tmessage = \"Current study has no result.\"\n",
    "\t\tmessage_jp = \"���X�^�f�B�͌��ʂ�����܂���B\"\n",
    "\t\tshow_error_message(message, message_jp)\n",
    "\t\treturn False\n",
    "\t\n",
    "\tif (has_zero_speed(app)==True):\n",
    "\t\tmessage = \"There is the case that rotation speed is zero. Please review setting.\"\n",
    "\t\tmessage_jp = \"��]���x���[���̃P�[�X������܂��B�ݒ���������Ă��������B\"\n",
    "\t\tshow_error_message(message, message_jp)\n",
    "\t\treturn False\n",
    "\t\n",
    "\treturn True\n"
   ]
  },
  {
   "cell_type": "markdown",
   "metadata": {},
   "source": [
    "show_error_message"
   ]
  },
  {
   "cell_type": "code",
   "execution_count": null,
   "metadata": {},
   "outputs": [],
   "source": [
    "def show_error_message(message, message_jp):\n",
    "    msgdlg = app.CreateDialogBox()\n",
    "\ttitle = \"Error\"\n",
    "\ttitle_jp = \"�G���[\"\n",
    "\tmsgdlg.SetTranslation(title, title_jp)\n",
    "\tmsgdlg.SetTranslation(message, message_jp)\n",
    "\tmsgdlg.SetCancelButtonVisible(False)\n",
    "\tmsgdlg.SetTitle(title)\n",
    "\tmsgdlg.AddLabel(message)\n",
    "\tmsgdlg.Show()"
   ]
  },
  {
   "cell_type": "markdown",
   "metadata": {},
   "source": [
    "show_warning_message"
   ]
  },
  {
   "cell_type": "code",
   "execution_count": null,
   "metadata": {},
   "outputs": [],
   "source": [
    "def show_warning_message(message, message_jp):\n",
    "    msgdlg = app.CreateDialogBox()\n",
    "\ttitle = \"Warning\"\n",
    "\ttitle_jp = \"�x��\"\n",
    "\tmsgdlg.SetTranslation(title, title_jp)\n",
    "\tmsgdlg.SetTranslation(message, message_jp)\n",
    "\tmsgdlg.SetCancelButtonVisible(False)\n",
    "\tmsgdlg.SetTitle(title)\n",
    "\tmsgdlg.AddLabel(message)\n",
    "\tmsgdlg.Show()"
   ]
  },
  {
   "cell_type": "markdown",
   "metadata": {},
   "source": [
    "get_parameters_from_dialog"
   ]
  },
  {
   "cell_type": "code",
   "execution_count": null,
   "metadata": {},
   "outputs": [],
   "source": [
    "def get_parameters_from_dialog(app):\n",
    "    dialog = app.CreateDialogBox()\n",
    "\tsetup_param_input_dialog(app, dialog)\n",
    "\tdialog.Show()\n",
    "\treturn dialog"
   ]
  },
  {
   "cell_type": "markdown",
   "metadata": {},
   "source": [
    "calc_force_with_FFT"
   ]
  },
  {
   "cell_type": "markdown",
   "metadata": {},
   "source": [
    "create_probe"
   ]
  },
  {
   "cell_type": "code",
   "execution_count": null,
   "metadata": {},
   "outputs": [],
   "source": [
    "def create_probe(title, targetStudy, useMultiSlice, sliceIndex, isJap, coordType, compIndex):\n",
    "    probe = targetStudy.CreateProbe(title)\n",
    "\tprobe.SetAutoRecalculate(False)\n",
    "\tsubTitle = \"\"\n",
    "\tif (useMultiSlice):\n",
    "\t\tif (isJap):\n",
    "\t\t\tsubTitle = \" <�f�� \" + str(sliceIndex+1) + \">\"\n",
    "\t\telse:\n",
    "\t\t\tsubTitle = \" <Slice \" + str(sliceIndex+1) + \">\"\n",
    "\tprobe.SetResultType(\"NodalForce\", subTitle)\n",
    "\tprobe.SetResultCoordinate(get_coordName(coordType))\n",
    "\tprobe.SetComponent(get_component(coordType, compIndex))\n",
    "\tprobe.ClearPoints()\n",
    "\tprobe.SetProbeType(1)\n",
    "\tprobe.SetUseElementValue(True)\n",
    "\tprobe.SetMoveWithPart(True)\n",
    "\treturn probe\n"
   ]
  },
  {
   "cell_type": "markdown",
   "metadata": {},
   "source": [
    "def output_time_domain_tooth_forces(app, dialog):\n"
   ]
  },
  {
   "cell_type": "code",
   "execution_count": null,
   "metadata": {},
   "outputs": [],
   "source": [
    "def output_time_domain_tooth_forces(app, dialog):\n",
    "    \n",
    "## Get app data\n",
    "\tisJap = is_japanese(app)\n",
    "\ttargetStudy = app.GetCurrentStudy()\n",
    "\ttargetModel = app.GetCurrentModel()\n",
    "\n",
    "\t## Get dialog values\n",
    "\tuseElectricCycle = dialog.GetValue(USE_COPY_CYCLE)\n",
    "\tnumPoles = dialog.GetValue(NUM_POLES)\n",
    "\tcoordType = 0 # Fixed to Global Rectangular\n",
    "\ttargetSetList = get_target_set(targetModel, dialog)\n",
    "\tsetPrefix = dialog.GetValue(SET_PREFIX).decode('utf-8')\n",
    "\n",
    "\t## Setup parameters\n",
    "\toutputDimension = OUTPUT_DIMENSION\n",
    "\tmodelDimension = targetModel.GetDimension()\n",
    "\tis2D = (modelDimension == 2)\n",
    "\tthickness = 0\n",
    "\tuseMultiSlice = False\n",
    "\tnumSlice = 1\n",
    "\tif (is2D):\n",
    "\t\tthickness = targetStudy.GetStudyProperties().GetValueWithUnit(\"ModelThickness\", \"m\")\n",
    "\t\tuseMultiSlice = use_multi_slice(targetStudy)\n",
    "\t\tnumSlice = get_slice_number(targetStudy)\n",
    "\t\tif (useMultiSlice):\n",
    "\t\t\tthickness = 1.0*thickness/numSlice\n",
    "\tcaseIndexList = get_case_index_list(dialog, targetStudy)\n",
    "\tperiodicity = get_periodicity(targetStudy)\n",
    "\tneedConvertTwice = (not is2D) and has_symmetry_boundary_on_XYPlane(targetStudy)\n",
    "\n",
    "\t## Setup progress dialog\n",
    "\tsetup_progress(app, outputDimension, caseIndexList, numSlice, targetSetList)\n",
    "\twasCanceled = False\n",
    "\n",
    "\t## Case loop\n",
    "\tnumCases = len(caseIndexList)\n",
    "\tfor caseLoopIndex in range(numCases):\n",
    "\t\tcaseIndex = caseIndexList[caseLoopIndex]\n",
    "\t\ttargetStudy.SetCurrentCase(caseIndex)\n",
    "\t\tremovedList = get_removed_node_list_on_boundary(targetStudy, targetSetList)\n",
    "\n",
    "\t\tif (targetStudy.CaseHasResult(caseIndex) == False):\n",
    "\t\t\tcontinue\n",
    "\n",
    "\t\t## Slice loop\n",
    "\t\tfor sliceIndex in range(numSlice):\n",
    "\n",
    "\t\t\t# Write file\n",
    "\t\t\toutputPath = create_file_name(dialog.GetValue(OUTPUT_FILE_PATH), numCases, caseIndex+1, useMultiSlice, sliceIndex+1)\n",
    "\t\t\tfile = open(outputPath.decode('utf-8'), 'w')\n",
    "\n",
    "\t\t\t## Write header\n",
    "\t\t\twrite_header_for_time_domain_tooth_force_only(file, setPrefix, len(targetSetList)*periodicity)\n",
    "\t\n",
    "\t\t\t## Get start index for last 1 cycle\n",
    "\t\t\ttorqResultName = get_torq_result_name(app)\n",
    "\t\t\tdataset = targetStudy.GetDataSet(torqResultName, caseIndex+1)\n",
    "\t\t\tstartIndex = get_last_1_cycle_start_index(dialog, targetStudy, dataset)\n",
    "\t\t\ttimeData = list(dataset.GetColumn(0))\n",
    "\t\t\ttimeData = timeData[startIndex:]\n",
    "\t\t\ttimeData = create_1_electric_cycle_time_to_1_mechanical_cycle_time(useElectricCycle, numPoles, timeData)\n",
    "\t\n",
    "\t\t\t## Each Tooth loop\n",
    "\t\t\tfullModelF = []\n",
    "\t\t\tpartialModelF = []\n",
    "\t\t\tfor setIndex in range(len(targetSetList)):\n",
    "\t\t\t\teachSetF = []\n",
    "\t\n",
    "\t\t\t\t## Component loop\n",
    "\t\t\t\tfor compIndex in range(outputDimension):\n",
    "\t\t\t\t\tif (app.UserProgressWasCanceled()):\n",
    "\t\t\t\t\t\tapp.UserProgressFinish()\n",
    "\t\t\t\t\t\twasCanceled = True\n",
    "\t\t\t\t\t\tbreak\n",
    "\t\t\t\t\t\n",
    "\t\t\t\t\t##Setup probe\n",
    "\t\t\t\t\ttitle = \"Probe\"\n",
    "\t\t\t\t\tprobe = create_probe(title, targetStudy, useMultiSlice, sliceIndex, isJap, coordType, compIndex)\n",
    "\t\t\t\t\t\n",
    "\t\t\t\t\t[data, wasCanceled] = calc_force(targetStudy, removedList[setIndex], probe)\n",
    "\t\t\t\t\t\n",
    "\t\t\t\t\t## Considering 1/2 model lengthwise if symmetry boundary is set on XY plane\n",
    "\t\t\t\t\tconvertedData = convert_twice(needConvertTwice, data)\n",
    "\t\t\t\t\t\n",
    "\t\t\t\t\t## Get last 1 cycle data\n",
    "\t\t\t\t\tlastCycleF = convertedData[startIndex:]\n",
    "\t\t\t\t\t\n",
    "\t\t\t\t\t##Copy 1 electric cycle to 1 mechanical cycle\n",
    "\t\t\t\t\tlastCycleF = copy_1_electric_cycle_to_1_mechanical_cycle(useElectricCycle, numPoles, lastCycleF)\n",
    "\t\t\t\t\t\n",
    "\t\t\t\t\t##If 2D model times thickness\n",
    "\t\t\t\t\tif is2D:\n",
    "\t\t\t\t\t\tlastCycleF = [f * thickness for f in lastCycleF]\n",
    "\t\t\t\t\t\n",
    "\t\t\t\t\t##Add each component data\n",
    "\t\t\t\t\teachSetF.append(lastCycleF)\n",
    "\t\t\t\t\t\n",
    "\t\t\t\t\tif (wasCanceled == False):\n",
    "\t\t\t\t\t\tapp.UserProgressStep()\n",
    "\t\t\t\t\t\n",
    "\t\t\t\t\ttargetStudy.DeleteProbe(title)\n",
    "\t\t\t\t\t\t\n",
    "\t\t\t\tpartialModelF.append(eachSetF)\n",
    "\t\t\t\n",
    "\t\t\t##Add Time\n",
    "\t\t\tfullModelF.append(timeData)\n",
    "\t\t\t\n",
    "\t\t\t##Copy partial model teeth to full model\n",
    "\t\t\tfor i in range (periodicity):\n",
    "\t\t\t\tfullModelF.append(partialModelF)\n",
    "\t\t\n",
    "\t\t\t##Write TOOTH value of full model\n",
    "\t\t\tWriteByAllComponentsInSetForOneCase(file, fullModelF)\n",
    "\t\t\t\n",
    "\t\t\tfile.close()\n",
    "\t\n",
    "\tapp.UserProgressFinish()\n",
    "\t\n",
    "\tShowFinishMessage(app, wasCanceled)"
   ]
  }
 ],
 "metadata": {
  "kernelspec": {
   "display_name": "Python 3.8.8 ('py38_pyleecan139')",
   "language": "python",
   "name": "python3"
  },
  "language_info": {
   "codemirror_mode": {
    "name": "ipython",
    "version": 3
   },
   "file_extension": ".py",
   "mimetype": "text/x-python",
   "name": "python",
   "nbconvert_exporter": "python",
   "pygments_lexer": "ipython3",
   "version": "3.8.8"
  },
  "orig_nbformat": 4,
  "vscode": {
   "interpreter": {
    "hash": "199ee5ddd5cf9db80b3c3131ae104b574c9fd5dd6255d9f837b6f7ea953865a3"
   }
  }
 },
 "nbformat": 4,
 "nbformat_minor": 2
}

{
 "cells": [
  {
   "cell_type": "code",
   "execution_count": 1,
   "id": "5547bd53",
   "metadata": {},
   "outputs": [
    {
     "ename": "FileNotFoundError",
     "evalue": "[Errno 2] No such file or directory: 'Tests\\\\Data\\\\pinknoise_third_oct.npy'",
     "output_type": "error",
     "traceback": [
      "\u001b[1;31m---------------------------------------------------------------------------\u001b[0m",
      "\u001b[1;31mFileNotFoundError\u001b[0m                         Traceback (most recent call last)",
      "\u001b[1;32mC:\\Users\\KDH201~1\\AppData\\Local\\Temp/ipykernel_296/1356204161.py\u001b[0m in \u001b[0;36m<module>\u001b[1;34m\u001b[0m\n\u001b[0;32m     11\u001b[0m \u001b[1;33m\u001b[0m\u001b[0m\n\u001b[0;32m     12\u001b[0m \u001b[1;31m# Load data\u001b[0m\u001b[1;33m\u001b[0m\u001b[1;33m\u001b[0m\u001b[1;33m\u001b[0m\u001b[0m\n\u001b[1;32m---> 13\u001b[1;33m \u001b[0mspec_data\u001b[0m \u001b[1;33m=\u001b[0m \u001b[0mnp\u001b[0m\u001b[1;33m.\u001b[0m\u001b[0mload\u001b[0m\u001b[1;33m(\u001b[0m\u001b[1;34m\"Tests\\Data\\pinknoise_third_oct.npy\"\u001b[0m\u001b[1;33m)\u001b[0m\u001b[1;33m\u001b[0m\u001b[1;33m\u001b[0m\u001b[0m\n\u001b[0m\u001b[0;32m     14\u001b[0m \u001b[1;33m\u001b[0m\u001b[0m\n\u001b[0;32m     15\u001b[0m \u001b[1;31m# Define axis objects\u001b[0m\u001b[1;33m\u001b[0m\u001b[1;33m\u001b[0m\u001b[1;33m\u001b[0m\u001b[0m\n",
      "\u001b[1;32m~\\AppData\\Roaming\\Python\\Python38\\site-packages\\numpy\\lib\\npyio.py\u001b[0m in \u001b[0;36mload\u001b[1;34m(file, mmap_mode, allow_pickle, fix_imports, encoding)\u001b[0m\n\u001b[0;32m    405\u001b[0m             \u001b[0mown_fid\u001b[0m \u001b[1;33m=\u001b[0m \u001b[1;32mFalse\u001b[0m\u001b[1;33m\u001b[0m\u001b[1;33m\u001b[0m\u001b[0m\n\u001b[0;32m    406\u001b[0m         \u001b[1;32melse\u001b[0m\u001b[1;33m:\u001b[0m\u001b[1;33m\u001b[0m\u001b[1;33m\u001b[0m\u001b[0m\n\u001b[1;32m--> 407\u001b[1;33m             \u001b[0mfid\u001b[0m \u001b[1;33m=\u001b[0m \u001b[0mstack\u001b[0m\u001b[1;33m.\u001b[0m\u001b[0menter_context\u001b[0m\u001b[1;33m(\u001b[0m\u001b[0mopen\u001b[0m\u001b[1;33m(\u001b[0m\u001b[0mos_fspath\u001b[0m\u001b[1;33m(\u001b[0m\u001b[0mfile\u001b[0m\u001b[1;33m)\u001b[0m\u001b[1;33m,\u001b[0m \u001b[1;34m\"rb\"\u001b[0m\u001b[1;33m)\u001b[0m\u001b[1;33m)\u001b[0m\u001b[1;33m\u001b[0m\u001b[1;33m\u001b[0m\u001b[0m\n\u001b[0m\u001b[0;32m    408\u001b[0m             \u001b[0mown_fid\u001b[0m \u001b[1;33m=\u001b[0m \u001b[1;32mTrue\u001b[0m\u001b[1;33m\u001b[0m\u001b[1;33m\u001b[0m\u001b[0m\n\u001b[0;32m    409\u001b[0m \u001b[1;33m\u001b[0m\u001b[0m\n",
      "\u001b[1;31mFileNotFoundError\u001b[0m: [Errno 2] No such file or directory: 'Tests\\\\Data\\\\pinknoise_third_oct.npy'"
     ]
    }
   ],
   "source": [
    "import pytest\n",
    "import numpy as np\n",
    "import matplotlib.pyplot as plt\n",
    "from numpy.random import default_rng\n",
    "from os.path import join\n",
    "\n",
    "from SciDataTool import Data1D, DataFreq, Norm_ref\n",
    "from Tests import save_validation_path\n",
    "\n",
    "\n",
    "\n",
    "# Load data\n",
    "spec_data = np.load(\"Tests\\Data\\pinknoise_third_oct.npy\")\n",
    "\n",
    "# Define axis objects\n",
    "frequency = Data1D(\n",
    "    name=\"freqs\",\n",
    "    unit=\"Hz\",\n",
    "    values=spec_data[1, :],\n",
    ")\n",
    "\n",
    "third_spec = DataFreq(\n",
    "    name=\"Pink noise\",\n",
    "    symbol=\"x\",\n",
    "    axes=[frequency],\n",
    "    values=spec_data[0, :],\n",
    "    unit=\"Pa\",\n",
    "    normalizations={\"ref\": Norm_ref(ref=2e-5)},\n",
    ")\n",
    "\n",
    "rng = default_rng()\n",
    "third_spec_1 = DataFreq(\n",
    "    name=\"Signal 2\",\n",
    "    symbol=\"x\",\n",
    "    axes=[frequency],\n",
    "    values=rng.standard_normal(28) * 0.006,\n",
    "    unit=\"Pa\",\n",
    "    normalizations={\"ref\": Norm_ref(ref=2e-5)},\n",
    ")\n",
    "third_spec_2 = DataFreq(\n",
    "    name=\"Signal 3\",\n",
    "    symbol=\"x\",\n",
    "    axes=[frequency],\n",
    "    values=rng.standard_normal(28) * 0.006,\n",
    "    unit=\"Pa\",\n",
    "    normalizations={\"ref\": Norm_ref(ref=2e-5)},\n",
    ")\n",
    "third_spec.plot_2D_Data(\n",
    "    \"freqs\",\n",
    "    unit=\"dB\",\n",
    "    type_plot=\"octave\",\n",
    "    data_list=[third_spec_1, third_spec_2],\n",
    "    is_show_fig=False,\n",
    "    save_path=join(save_validation_path, \"plot_2D_octave.png\"),\n",
    ")\n"
   ]
  },
  {
   "cell_type": "code",
   "execution_count": null,
   "id": "be588e73",
   "metadata": {},
   "outputs": [],
   "source": []
  }
 ],
 "metadata": {
  "kernelspec": {
   "display_name": "Python 3 (ipykernel)",
   "language": "python",
   "name": "python3"
  },
  "language_info": {
   "codemirror_mode": {
    "name": "ipython",
    "version": 3
   },
   "file_extension": ".py",
   "mimetype": "text/x-python",
   "name": "python",
   "nbconvert_exporter": "python",
   "pygments_lexer": "ipython3",
   "version": "3.8.8"
  },
  "varInspector": {
   "cols": {
    "lenName": 16,
    "lenType": 16,
    "lenVar": 40
   },
   "kernels_config": {
    "python": {
     "delete_cmd_postfix": "",
     "delete_cmd_prefix": "del ",
     "library": "var_list.py",
     "varRefreshCmd": "print(var_dic_list())"
    },
    "r": {
     "delete_cmd_postfix": ") ",
     "delete_cmd_prefix": "rm(",
     "library": "var_list.r",
     "varRefreshCmd": "cat(var_dic_list()) "
    }
   },
   "types_to_exclude": [
    "module",
    "function",
    "builtin_function_or_method",
    "instance",
    "_Feature"
   ],
   "window_display": false
  }
 },
 "nbformat": 4,
 "nbformat_minor": 5
}

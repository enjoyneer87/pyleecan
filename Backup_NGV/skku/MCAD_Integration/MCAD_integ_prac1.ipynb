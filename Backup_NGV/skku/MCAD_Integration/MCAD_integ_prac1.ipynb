{
 "cells": [
  {
   "cell_type": "markdown",
   "metadata": {},
   "source": []
  },
  {
   "cell_type": "markdown",
   "metadata": {},
   "source": [
    "# Meta Model "
   ]
  },
  {
   "cell_type": "markdown",
   "metadata": {},
   "source": [
    "# x 입력\n",
    "\n",
    "p_Mag_Width_Ratio\n",
    "i_Split_Ratio\n",
    "i_Slot_Depth_Ratio"
   ]
  },
  {
   "cell_type": "markdown",
   "metadata": {},
   "source": [
    "sampleSize = 20\n",
    "dimension = 3\n",
    "\n",
    "# Test Motorcad 호출\n",
    "\n",
    "self.distribution = ot.ComposedDistribution(\n",
    "    [self.E, self.F, self.L, self.I], self.copula)\n",
    "\n",
    "X_train= myDistribution.getSample(sampleSize_train)\n",
    "\n",
    "Y=IPM_MCAD(X_train)\n"
   ]
  },
  {
   "cell_type": "markdown",
   "metadata": {},
   "source": [
    "## Import Package"
   ]
  },
  {
   "cell_type": "code",
   "execution_count": 1,
   "metadata": {},
   "outputs": [],
   "source": [
    "from os.path import join\n",
    "from numpy import pi\n",
    "\n",
    "\n",
    "from pyleecan.Classes.OPdq import OPdq\n",
    "from pyleecan.definitions import DATA_DIR\n",
    "\n",
    "from pyleecan.Classes.LamSlotMag import LamSlotMag\n",
    "from pyleecan.Classes.SlotM11 import SlotM11\n",
    "from pyleecan.Classes.MachineSIPMSM import MachineSIPMSM\n",
    "from pyleecan.Classes.Simu1 import Simu1\n",
    "#from pyleecan.Classes.MagMotorCAD import MagMotorCAD\n",
    "from pyleecan.Classes.InputVoltage import InputVoltage\n",
    "from pyleecan.Classes.Output import Output\n",
    "from pyleecan.Functions.load import load"
   ]
  },
  {
   "cell_type": "code",
   "execution_count": 2,
   "metadata": {},
   "outputs": [],
   "source": [
    "import win32com.client\n",
    "import os\n",
    "import numpy as np\n",
    "import time\n",
    "from os import getcwd\n",
    "from os.path import join, dirname, exists\n",
    "from math import pi, sqrt\n",
    "from scipy.io import loadmat"
   ]
  },
  {
   "cell_type": "code",
   "execution_count": 3,
   "metadata": {},
   "outputs": [
    {
     "name": "stdout",
     "output_type": "stream",
     "text": [
      "D:\\KDH\\Thesis\\Rotem_HDEV\\MCAD\n",
      "D\\test_MotorCAD_run\n"
     ]
    }
   ],
   "source": [
    "refdir='D:\\KDH\\Thesis\\Rotem_HDEV\\MCAD'\n",
    "wdir = join('D', 'test_MotorCAD_run')\n",
    "print(refdir)\n",
    "print(wdir)"
   ]
  },
  {
   "cell_type": "markdown",
   "metadata": {},
   "source": [
    "## Class Definition and Method Open_MotorCAD"
   ]
  },
  {
   "cell_type": "code",
   "execution_count": 24,
   "metadata": {},
   "outputs": [],
   "source": [
    "filename='D:\\KDH\\Thesis\\Rotem_HDEV\\MCAD\\IPM_Tuto.mot'\n",
    "\n",
    "\n",
    "filename_=filename\n",
    "#class Mag(object):\n",
    "class variables_MotorCAD:\n",
    "    def __init__(self):\n",
    "        self.value=[]\n",
    "        self.name='init_magmotorcad'\n",
    "        self.o_WLTP3_Eff=0\n",
    "        self.i_Active_Length     = 110.   # Active length\n",
    "        self.i_Mag_Thick         = 5.5    # Magnet thickness\n",
    "        self.i_Mag_Post          = 2.0    # Magnet post\n",
    "        self.i_Bridge_Thick      = 1.0    # Bridge thickness\n",
    "        self.i_Pole_V_Angle      = 110.   # V-angle in mech. degrees\n",
    "        self.i_Split_Ratio       = 0.6    # Ratio of stator bore\n",
    "        self.i_Tooth_Width_Ratio = 0.5    # Ratio of tooth width\n",
    "        self.i_Slot_Depth_Ratio  = 0.6    # Ratio of slot depth\n",
    "        self.i_Slot_Op_Ratio     = 0.7    # Ratio of slot opening\n",
    "        self.i_Pole_Arc_Ratio    = 0.8    # Ratio of pole arc or magnet V width\n",
    "\n",
    "        ### Geometry\n",
    "        self.p_Pole_Pair            = 8.    # Number of rotor poles\n",
    "        self.p_Stator_Slots         = 24.   # Number of stator slots\n",
    "        self.p_Tooth_Tip_Depth      = 1.    # Tooth tip depth\n",
    "        self.p_Tooth_Tip_Angle      = 30.   # Tooth tip angle\n",
    "        self.p_Stator_OD            = 300.  # Stator outer diameter\n",
    "        self.p_EndSpace_Height      = 15.   # Space between winding ends and caps\n",
    "        self.p_Wdg_Overhang         = 20.   # Winding overhang height\n",
    "        self.p_Airgap_Mecha         = 1.    # Mechanical airgap\n",
    "        self.p_Mag_Clear            = 0.5   # Magnet clearance\n",
    "        self.p_Shaft_OD_Ratio       = 0.7   # Ratio of shaft diameter\n",
    "        self.p_Mag_Width_Ratio      = 1.0   # Ratio of magnet width\n",
    "        self.p_Mag_Separation_Min   = 2.0    # Minimum separation between magnet poles\n",
    "        self.p_Shaft_Separation_Min = 5.0   # Minimum separation between shaft and magnets\n",
    "        self.p_Mag_AspectRatio_Min  = 0.5   # Minimum magnet aspect ratio\n",
    "\n",
    "        ### Winding\n",
    "        self.p_Coils_Slot    = 2.    # Number of coils going through each slot\n",
    "        self.p_Turns_Coil    = 40.   # Number of turns per coil\n",
    "        self.p_Parallel_Path = 8.    # Number of parallel paths per phase\n",
    "        self.p_Slot_Fill     = 0.4   # Copper slot fill factor\n",
    "\n",
    "        ### Materials\n",
    "        self.p_Yield_Rotor  = 460.   # Rotor core yield strength\n",
    "        self.p_Temp_Wdg_Max = 180.   # Maximum winding temperature\n",
    "        self.p_Temp_Mag_Max = 140.   # Maximum magnet temperature\n",
    "\n",
    "        ### Performance\n",
    "        self.p_Speed_Max        = 7000.   # Maximum operating speed\n",
    "        self.p_Line_Current_RMS = 500.    # Maximum RMS line current\n",
    "\n",
    "        ### Calculation settings\n",
    "        self.p_Speed_Lab_Step    = 100.                              # Speed step used in Lab\n",
    "        self.p_Speed_Peak_Array  = np.array([500., 3000., 6000.])    # Speeds for peak performance calculation \n",
    "        self.p_Speed_Cont_Array  = np.array([1000., 5000.])          # Speeds for continuous performance calculation\n",
    "        self.p_Torque_Pts        = 90                                # Timesteps per cycle for torque calculation                                              \n",
    "\n",
    "        ### Post-processing\n",
    "        Pic_Export = 1      # Export geometry snapshots (0: No; 1: Yes)\n",
    "\n",
    "        ### Dependent parameters\n",
    "        self.Speed_Max_Rad = pi*self.p_Speed_Max/30                                               # Maximum speed in radians\n",
    "        self.Speed_Lab     = np.arange(0, self.p_Speed_Max +self.p_Speed_Lab_Step, self.p_Speed_Lab_Step)  # Speed vector in Lab\n",
    "        self.Speed_Lab     = self.Speed_Lab.tolist()                                              # Required for signal generation\n",
    "        self.Speed_Lab_Len = len(self.Speed_Lab)                \n",
    "\n",
    "        ### Geometry parameters\n",
    "        self.Machine_Length = fun_Machine_Length(self.p_EndSpace_Height, self.p_Wdg_Overhang, self.i_Active_Length)\n",
    "        self.Air_Pocket     = fun_Air_Pocket(self.i_Mag_Thick, self.p_Mag_Clear)\n",
    "        self.Active_Volume  = fun_Active_Volume(self.p_Stator_OD, self.i_Active_Length)     # In [m3]\n",
    "        \n",
    "        # Required for signal generation\n",
    "\n",
    "        \n",
    "    "
   ]
  },
  {
   "cell_type": "code",
   "execution_count": 9,
   "metadata": {},
   "outputs": [],
   "source": [
    "# Machine length\n",
    "def fun_Machine_Length(p_EndSpace_Height, p_Wdg_Overhang, i_Active_Length):\n",
    "    res = i_Active_Length + 2*(p_EndSpace_Height + p_Wdg_Overhang)\n",
    "    return res\n",
    "\n",
    "# Active volume\n",
    "def fun_Active_Volume(Stator_OD, Active_Length):  \n",
    "    res = pi*Stator_OD**2/4*Active_Length*1e-9\n",
    "    return res\n",
    "\n",
    "# Air pocket\n",
    "def fun_Air_Pocket(Mag_Thick, Mag_Clear):\n",
    "    res = (Mag_Thick + Mag_Clear)/2 \n",
    "    return res\n",
    "\n",
    "### Performances\n",
    "\n",
    "# Torque density\n",
    "def fun_Torque_Density(Torque, Volume):           \n",
    "    res = Torque/Volume*1e-3\n",
    "    return res\n",
    " \n",
    "# Stress safety factor\n",
    "def fun_Stress_Safety(Rotor_Yield, Stress_Max):            \n",
    "    res = Rotor_Yield/Stress_Max\n",
    "    return res"
   ]
  },
  {
   "cell_type": "code",
   "execution_count": 10,
   "metadata": {},
   "outputs": [],
   "source": [
    "        \n",
    "class Mag:\n",
    "    def __init__(self):\n",
    "        self.name='init_magmotorcad'\n",
    "        self.o_WLTP3_Eff=0\n",
    "        self.i_Active_Length     = 110.   # Active length\n",
    "        self.i_Mag_Thick         = 5.5    # Magnet thickness\n",
    "        self.i_Mag_Post          = 2.0    # Magnet post\n",
    "        self.i_Bridge_Thick      = 1.0    # Bridge thickness\n",
    "        self.i_Pole_V_Angle      = 110.   # V-angle in mech. degrees\n",
    "        self.i_Split_Ratio       = 0.6    # Ratio of stator bore\n",
    "        self.i_Tooth_Width_Ratio = 0.5    # Ratio of tooth width\n",
    "        self.i_Slot_Depth_Ratio  = 0.6    # Ratio of slot depth\n",
    "        self.i_Slot_Op_Ratio     = 0.7    # Ratio of slot opening\n",
    "        self.i_Pole_Arc_Ratio    = 0.8    # Ratio of pole arc or magnet V width\n",
    "\n",
    "        ### Geometry\n",
    "        self.p_Pole_Pair            = 8.    # Number of rotor poles\n",
    "        self.p_Stator_Slots         = 24.   # Number of stator slots\n",
    "        self.p_Tooth_Tip_Depth      = 1.    # Tooth tip depth\n",
    "        self.p_Tooth_Tip_Angle      = 30.   # Tooth tip angle\n",
    "        self.p_Stator_OD            = 300.  # Stator outer diameter\n",
    "        self.p_EndSpace_Height      = 15.   # Space between winding ends and caps\n",
    "        self.p_Wdg_Overhang         = 20.   # Winding overhang height\n",
    "        self.p_Airgap_Mecha         = 1.    # Mechanical airgap\n",
    "        self.p_Mag_Clear            = 0.5   # Magnet clearance\n",
    "        self.p_Shaft_OD_Ratio       = 0.7   # Ratio of shaft diameter\n",
    "        self.p_Mag_Width_Ratio      = 1.0   # Ratio of magnet width\n",
    "        self.p_Mag_Separation_Min   = 2.0    # Minimum separation between magnet poles\n",
    "        self.p_Shaft_Separation_Min = 5.0   # Minimum separation between shaft and magnets\n",
    "        self.p_Mag_AspectRatio_Min  = 0.5   # Minimum magnet aspect ratio\n",
    "\n",
    "        ### Winding\n",
    "        self.p_Coils_Slot    = 2.    # Number of coils going through each slot\n",
    "        self.p_Turns_Coil    = 40.   # Number of turns per coil\n",
    "        self.p_Parallel_Path = 8.    # Number of parallel paths per phase\n",
    "        self.p_Slot_Fill     = 0.4   # Copper slot fill factor\n",
    "\n",
    "        ### Materials\n",
    "        self.p_Yield_Rotor  = 460.   # Rotor core yield strength\n",
    "        self.p_Temp_Wdg_Max = 180.   # Maximum winding temperature\n",
    "        self.p_Temp_Mag_Max = 140.   # Maximum magnet temperature\n",
    "\n",
    "        ### Performance\n",
    "        self.p_Speed_Max        = 7000.   # Maximum operating speed\n",
    "        self.p_Line_Current_RMS = 500.    # Maximum RMS line current\n",
    "\n",
    "        ### Calculation settings\n",
    "        self.p_Speed_Lab_Step    = 100.                              # Speed step used in Lab\n",
    "        self.p_Speed_Peak_Array  = np.array([500., 3000., 6000.])    # Speeds for peak performance calculation \n",
    "        self.p_Speed_Cont_Array  = np.array([1000., 5000.])          # Speeds for continuous performance calculation\n",
    "        self.p_Torque_Pts        = 90                                # Timesteps per cycle for torque calculation                                              \n",
    "\n",
    "        ### Post-processing\n",
    "        Pic_Export = 1      # Export geometry snapshots (0: No; 1: Yes)\n",
    "\n",
    "        ### Dependent parameters\n",
    "        self.Speed_Max_Rad = pi*self.p_Speed_Max/30                                               # Maximum speed in radians\n",
    "        self.Speed_Lab     = np.arange(0, self.p_Speed_Max +self.p_Speed_Lab_Step, self.p_Speed_Lab_Step)  # Speed vector in Lab\n",
    "        self.Speed_Lab     = self.Speed_Lab.tolist()                                              # Required for signal generation\n",
    "        self.Speed_Lab_Len = len(self.Speed_Lab)                \n",
    "\n",
    "        ### Geometry parameters\n",
    "        self.Machine_Length = fun_Machine_Length(self.p_EndSpace_Height, self.p_Wdg_Overhang, self.i_Active_Length)\n",
    "        self.Air_Pocket     = fun_Air_Pocket(self.i_Mag_Thick, self.p_Mag_Clear)\n",
    "        self.Active_Volume  = fun_Active_Volume(self.p_Stator_OD, self.i_Active_Length)     # In [m3]\n",
    "        \n",
    "        # Required for signal generation\n",
    "                    \n",
    "   \n",
    "\n",
    "    def Open_MotorCAD(self, filename):\n",
    "        Visible_Opt     = 1.           # Set Motor-CAD visible\n",
    "        Message_Display = 2.           # Display all pop-up messages \n",
    "        Save_Prompt     = 1.           # Never prompt to save file\n",
    "       \n",
    "        \n",
    "        if filename is not None:\n",
    "            # Open MagMotorCAD instance if filename is not None (parallel case)\n",
    "            try:\n",
    "        # Try to open MagMotorCAD instance if handler already exists (first parallelized handler)\n",
    "                mcApp=win32com.client.Dispatch(\"MotorCAD.AppAutomation\")\n",
    "                mcApp.Visible = Visible_Opt\n",
    "                # mcApp.LoadFromFile(mot_file_ref_path)    # Load reference Motor-CAD file\n",
    "                mcApp.SetVariable('MessageDisplayState', Message_Display)   # Set state of message display \n",
    "                mcApp.SetVariable(\"SavePrompt\", Save_Prompt)    \n",
    "                mcApp.LoadFromFile(filename)  \n",
    "                print(filename)\n",
    "            except Exception:\n",
    "                print('File is not exist Check Filename')\n",
    "            #     # Create a new FEMM handler in case of parallelization on another FEMM instance\n",
    "            #     mcApp=win32com.client.Dispatch(\"MotorCAD.AppAutomation\") \n",
    "            #     print(filename)\n",
    "            # Open FEMM file\n",
    "        else:\n",
    "            # FEMM instance and file is already open, get filename from output\n",
    "            print('already openend')\n",
    "            # mcApp.LoadFromFile(mot_file_ref_path)    # Load reference Motor-CAD file\n",
    "\n",
    "    \n",
    "    \n",
    "    def Parameter_Change_MotorCAD(self, x):\n",
    "        mcApp=win32com.client.Dispatch(\"MotorCAD.AppAutomation\")\n",
    "        mcApp.SetVariable('GeometryParameterisation', 1)\n",
    "\n",
    "        #Check initial Value\n",
    "        a=mcApp.GetVariable(\"MagnetThickness_Array\")\n",
    "        # a=mcApp.GetVariable(\"VSimpleMagnetPost_Array\") \n",
    "        print(a)\n",
    "\n",
    "        #Change Value\n",
    "        i_Mag_Thick         = x   # Magnet thickness\n",
    "        mcApp.SetArrayVariable(\"MagnetThickness_Array\", 0, self.i_Mag_Thick) \n",
    "        b=mcApp.GetVariable(\"MagnetThickness_Array\")\n",
    "        print(b)\n",
    "\n",
    "        if a==b:\n",
    "            print(\"Already changed\")\n",
    "        else:\n",
    "            print(\"Changed\")\n",
    "    \n",
    "    def Solve_Lab(self):\n",
    "        p_Speed_Max = 7000. \n",
    "        p_Line_Current_RMS =500. \n",
    "        p_Speed_Lab_Step    = 100. \n",
    "    \n",
    "        ## Build Lab Model\n",
    "        mcApp.ClearModelBuild_Lab()  # Clear existing models\n",
    "        mcApp.SetVariable(\"ModelType_MotorLAB\", 2)       # Saturation model type: Full Cycle\n",
    "        mcApp.SetVariable(\"SatModelPoints_MotorLAB\", 0)  # Saturation model: coarse resolution (15 points)    \n",
    "        mcApp.SetVariable(\"LossModel_LAB\", 0)            # Loss model type: neglect\n",
    "        mcApp.SetMotorLABContext()                       # Lab context\n",
    "        mcApp.SetVariable(\"BuildSatModel_MotorLAB\", 1)   # Activate saturation model   \n",
    "    \n",
    "        mcApp.SetVariable(\"MaxModelCurrent_RMS_MotorLAB\", p_Line_Current_RMS)       # Max line current (rms)\n",
    "        mcApp.SetVariable(\"MaxModelCurrent_MotorLAB\", p_Line_Current_RMS*sqrt(2))   # Max line current (peak)\n",
    "        mcApp.SetVariable('ModelBuildSpeed_MotorLAB', p_Speed_Max)                  # Maximum operating speed\n",
    "        mcApp.BuildModel_Lab()             \n",
    "        \n",
    "        ## Lab: peak performance\n",
    "        mcApp.SetVariable(\"OperatingMode_Lab\", 0)                      # Motoring mode\n",
    "        mcApp.SetVariable(\"EmagneticCalcType_Lab\", 0)                  # Peak performance\n",
    "        mcApp.SetVariable('SpeedMax_MotorLAB', p_Speed_Max)            # Maximum speed\n",
    "        mcApp.SetVariable('Speedinc_MotorLAB', p_Speed_Lab_Step)       # Speed step\n",
    "        mcApp.SetVariable('Imax_RMS_MotorLAB', p_Line_Current_RMS)     # Max line current (rms)\n",
    "        mcApp.SetVariable('Imax_MotorLAB', p_Line_Current_RMS*sqrt(2)) # Max line current (peak) \n",
    "        mcApp.CalculateMagnetic_Lab()    \n",
    "\n",
    "        ### Lab: efficiency over WLTP-3 drive cycle\n",
    "        mcApp.SetVariable(\"DutyCycleType_Lab\", 1)                 # Automotive drive cycle\n",
    "        mcApp.SetVariable(\"DrivCycle_MotorLAB\", \"WLTP Class 3\")   # WLTP3 drive cycle\n",
    "        mcApp.SetVariable(\"LabThermalCoupling_DutyCycle\", 0)      # No coupling with Thermal\n",
    "        mcApp.CalculateDutyCycle_Lab() \n",
    "    \n",
    "    def Output_to_dict(self):\n",
    "        ex,o_WLTP3_Eff = mcApp.GetVariable(\"DutyCycleAverageEfficiency_EnergyUse\")   # Get efficiency value \n",
    "        return self.o_WLTP3_Eff\n"
   ]
  },
  {
   "cell_type": "code",
   "execution_count": null,
   "metadata": {},
   "outputs": [],
   "source": [
    "test_mag.Parameter_Change_MotorCAD(6)\n",
    "test_mag.Solve_Lab()\n",
    "test_mag.Output_to_dict()\n"
   ]
  },
  {
   "cell_type": "code",
   "execution_count": 11,
   "metadata": {},
   "outputs": [],
   "source": [
    "test_mag=Mag()"
   ]
  },
  {
   "cell_type": "code",
   "execution_count": null,
   "metadata": {},
   "outputs": [],
   "source": [
    "test_mag.Open_MotorCAD(filename_)\n"
   ]
  },
  {
   "cell_type": "code",
   "execution_count": null,
   "metadata": {},
   "outputs": [],
   "source": [
    "test_mag.Parameter_Change_MotorCAD(6)"
   ]
  },
  {
   "cell_type": "code",
   "execution_count": null,
   "metadata": {},
   "outputs": [],
   "source": [
    "test_mag.Solve_Lab()\n"
   ]
  },
  {
   "cell_type": "code",
   "execution_count": null,
   "metadata": {},
   "outputs": [],
   "source": [
    "test_mag.Output_to_dict()"
   ]
  },
  {
   "cell_type": "code",
   "execution_count": null,
   "metadata": {},
   "outputs": [],
   "source": [
    "mcApp=win32com.client.Dispatch(\"MotorCAD.AppAutomation\")\n",
    "ex,o_WLTP3_Eff = mcApp.GetVariable(\"DutyCycleAverageEfficiency_EnergyUse\")   # Get efficiency value \n"
   ]
  },
  {
   "cell_type": "markdown",
   "metadata": {},
   "source": [
    "# Not sureParameter_Change_MotorCAD"
   ]
  },
  {
   "cell_type": "code",
   "execution_count": null,
   "metadata": {},
   "outputs": [],
   "source": [
    "\n",
    "mcApp=win32com.client.Dispatch(\"MotorCAD.AppAutomation\")\n",
    "mcApp.SetVariable('GeometryParameterisation', 1)\n",
    "\n",
    "#Check initial Value\n",
    "a=mcApp.GetVariable(\"MagnetThickness_Array\")\n",
    "# a=mcApp.GetVariable(\"VSimpleMagnetPost_Array\") \n",
    "print(a)\n",
    "\n",
    "#Change Value\n",
    "i_Mag_Thick         = 5.5    # Magnet thickness\n",
    "mcApp.SetArrayVariable(\"MagnetThickness_Array\", 0, i_Mag_Thick) \n",
    "b=mcApp.GetVariable(\"MagnetThickness_Array\")\n",
    "print(b)\n",
    "\n",
    "if a==b:\n",
    "    print(\"Already changed\")\n",
    "else:\n",
    "    print(\"Changed\")\n",
    "    \n"
   ]
  },
  {
   "cell_type": "markdown",
   "metadata": {},
   "source": [
    "# Calculation & Data management\n"
   ]
  },
  {
   "cell_type": "code",
   "execution_count": null,
   "metadata": {},
   "outputs": [],
   "source": [
    "                             # Run calculation\n",
    "Mat_File_Name     = 'MotorLAB_elecdata.mat'                   # *.mat file automatically generated by Motor-CAD\n",
    "Mat_File_Path     = join(mot_file_dir, 'Lab', Mat_File_Name)  # Point to the *.mat file\n",
    "Mat_File_Data     = loadmat(Mat_File_Path)                    # Load data from the *.mat file\n",
    "Mat_File_Speed    = Mat_File_Data['Speed']                    # Load speed data\n",
    "Mat_File_Torque   = Mat_File_Data['Shaft_Torque']             # Load shaft torque data    \n",
    "Mat_File_Power    = Mat_File_Data['Shaft_Power']              # Load shaft power data\n",
    "Mat_File_Torque   = Mat_File_Torque.flatten()                 # Necessary to be read by list_2_list_variant()\n",
    "Mat_File_Power    = Mat_File_Power.flatten()  \n",
    "Mat_File_Speed    = Mat_File_Speed.flatten()"
   ]
  },
  {
   "cell_type": "markdown",
   "metadata": {},
   "source": []
  },
  {
   "cell_type": "code",
   "execution_count": null,
   "metadata": {},
   "outputs": [],
   "source": []
  },
  {
   "cell_type": "code",
   "execution_count": null,
   "metadata": {},
   "outputs": [],
   "source": [
    "Design_Name     = \"IPM_tuto\" \n",
    "refdir\n",
    "\n",
    "Machine_Length = fun_Machine_Length(p_EndSpace_Height, p_Wdg_Overhang, i_Active_Length)\n",
    "Air_Pocket     = fun_Air_Pocket(i_Mag_Thick, p_Mag_Clear)\n",
    "Active_Volume  = fun_Active_Volume(p_Stator_OD, i_Active_Length)     # In [m3]\n",
    "\n",
    "## Make New file for OSL    \n",
    "\n",
    "mot_file_new_path = join(wdir, Design_Name + '_' + OSL_DESIGN_NAME + \".mot\") # Path to the new *.mot file\n",
    "print(\"[INFO] Design file saved as: \", mot_file_new_path)                                    \n",
    "mcApp.SaveToFile(mot_file_new_path)                                          # Save in new location\n",
    "mot_file_dir = join(wdir, Design_Name + '_' + OSL_DESIGN_NAME)\n",
    "mcApp.SetVariable('GeometryParameterisation', 1)   # Ratio mode in Motor-CAD \n",
    "\n",
    "                             \n",
    "                    "
   ]
  },
  {
   "cell_type": "markdown",
   "metadata": {},
   "source": []
  },
  {
   "cell_type": "code",
   "execution_count": null,
   "metadata": {},
   "outputs": [],
   "source": [
    "machine_1 = load(join(DATA_DIR, \"Machine\", \"Toyota_Prius.json\"))\n"
   ]
  },
  {
   "cell_type": "code",
   "execution_count": null,
   "metadata": {},
   "outputs": [],
   "source": []
  },
  {
   "cell_type": "code",
   "execution_count": null,
   "metadata": {},
   "outputs": [],
   "source": [
    "class Test_MagMotorCAD(object):\n",
    "    def Test_MagMotorCAD_LAB(self):\n",
    "        \"\"\"Test StructElmer simulation with 2 magnets on HoleM50 rotor\"\"\"\n",
    "\n",
    "        # copy the machine\n",
    "        machine = machine_1.copy()\n",
    "\n",
    "\n",
    "        # setup the simulation\n",
    "        ##\n",
    "        simu = Simu1(name=\"test_StructElmer_HoleM50\", machine=machine)\n",
    "        ##\n",
    "        output = Output(simu=simu)\n",
    "        output.path_result = save_path\n",
    "\n",
    "        ## simu1의 입력이 Magmotorcad파일로 갔다고 쳐야됨\n",
    "        \n",
    "        \n",
    "        simu.mag=MagMotorCAD()\n",
    "        \n",
    "        # set rotor speed and run simulation\n",
    "        simu.run()\n",
    "\n",
    "        return output"
   ]
  },
  {
   "cell_type": "markdown",
   "metadata": {},
   "source": [
    "    def __init__(\n",
    "        self,\n",
    "        name=\"\",\n",
    "        desc=\"\",\n",
    "        machine=-1,\n",
    "        input=-1,\n",
    "        logger_name=\"Pyleecan.Simulation\",\n",
    "        var_simu=None,\n",
    "        postproc_list=-1,\n",
    "        index=None,\n",
    "        path_result=None,\n",
    "        layer=None,\n",
    "        layer_log_warn=None,\n",
    "        init_dict=None,\n",
    "        init_str=None,\n",
    "    ):\n",
    "        \"\"\"Constructor of the class. Can be use in three ways :\n",
    "        - __init__ (arg1 = 1, arg3 = 5) every parameters have name and default values\n",
    "            for pyleecan type, -1 will call the default constructor\n",
    "        - __init__ (init_dict = d) d must be a dictionary with property names as keys\n",
    "        - __init__ (init_str = s) s must be a string\n",
    "        s is the file path to load\n",
    "\n",
    "        ndarray or list can be given for Vector and Matrix\n",
    "        object or dict can be given for pyleecan Object\"\"\""
   ]
  },
  {
   "cell_type": "markdown",
   "metadata": {},
   "source": [
    "# !!! On goging Optimization 정의\n"
   ]
  },
  {
   "cell_type": "code",
   "execution_count": 12,
   "metadata": {},
   "outputs": [
    {
     "data": {
      "text/plain": [
       "['Active_Volume',\n",
       " 'Air_Pocket',\n",
       " 'Machine_Length',\n",
       " 'Open_MotorCAD',\n",
       " 'Output_to_dict',\n",
       " 'Parameter_Change_MotorCAD',\n",
       " 'Solve_Lab',\n",
       " 'Speed_Lab',\n",
       " 'Speed_Lab_Len',\n",
       " 'Speed_Max_Rad',\n",
       " '__class__',\n",
       " '__delattr__',\n",
       " '__dict__',\n",
       " '__dir__',\n",
       " '__doc__',\n",
       " '__eq__',\n",
       " '__format__',\n",
       " '__ge__',\n",
       " '__getattribute__',\n",
       " '__gt__',\n",
       " '__hash__',\n",
       " '__init__',\n",
       " '__init_subclass__',\n",
       " '__le__',\n",
       " '__lt__',\n",
       " '__module__',\n",
       " '__ne__',\n",
       " '__new__',\n",
       " '__reduce__',\n",
       " '__reduce_ex__',\n",
       " '__repr__',\n",
       " '__setattr__',\n",
       " '__sizeof__',\n",
       " '__str__',\n",
       " '__subclasshook__',\n",
       " '__weakref__',\n",
       " 'i_Active_Length',\n",
       " 'i_Bridge_Thick',\n",
       " 'i_Mag_Post',\n",
       " 'i_Mag_Thick',\n",
       " 'i_Pole_Arc_Ratio',\n",
       " 'i_Pole_V_Angle',\n",
       " 'i_Slot_Depth_Ratio',\n",
       " 'i_Slot_Op_Ratio',\n",
       " 'i_Split_Ratio',\n",
       " 'i_Tooth_Width_Ratio',\n",
       " 'name',\n",
       " 'o_WLTP3_Eff',\n",
       " 'p_Airgap_Mecha',\n",
       " 'p_Coils_Slot',\n",
       " 'p_EndSpace_Height',\n",
       " 'p_Line_Current_RMS',\n",
       " 'p_Mag_AspectRatio_Min',\n",
       " 'p_Mag_Clear',\n",
       " 'p_Mag_Separation_Min',\n",
       " 'p_Mag_Width_Ratio',\n",
       " 'p_Parallel_Path',\n",
       " 'p_Pole_Pair',\n",
       " 'p_Shaft_OD_Ratio',\n",
       " 'p_Shaft_Separation_Min',\n",
       " 'p_Slot_Fill',\n",
       " 'p_Speed_Cont_Array',\n",
       " 'p_Speed_Lab_Step',\n",
       " 'p_Speed_Max',\n",
       " 'p_Speed_Peak_Array',\n",
       " 'p_Stator_OD',\n",
       " 'p_Stator_Slots',\n",
       " 'p_Temp_Mag_Max',\n",
       " 'p_Temp_Wdg_Max',\n",
       " 'p_Tooth_Tip_Angle',\n",
       " 'p_Tooth_Tip_Depth',\n",
       " 'p_Torque_Pts',\n",
       " 'p_Turns_Coil',\n",
       " 'p_Wdg_Overhang',\n",
       " 'p_Yield_Rotor']"
      ]
     },
     "execution_count": 12,
     "metadata": {},
     "output_type": "execute_result"
    }
   ],
   "source": [
    "dir(test_mag)"
   ]
  },
  {
   "cell_type": "code",
   "execution_count": 13,
   "metadata": {},
   "outputs": [],
   "source": [
    "test_ref=test_mag"
   ]
  },
  {
   "cell_type": "markdown",
   "metadata": {},
   "source": [
    "## !!!! On going Design variables"
   ]
  },
  {
   "cell_type": "code",
   "execution_count": 19,
   "metadata": {},
   "outputs": [
    {
     "data": {
      "text/plain": [
       "1.0"
      ]
     },
     "execution_count": 19,
     "metadata": {},
     "output_type": "execute_result"
    }
   ],
   "source": [
    "test_ref.p_Tooth_Tip_Depth"
   ]
  },
  {
   "cell_type": "code",
   "execution_count": 40,
   "metadata": {},
   "outputs": [],
   "source": [
    "vari_mag=variables_MotorCAD()"
   ]
  },
  {
   "cell_type": "code",
   "execution_count": 48,
   "metadata": {},
   "outputs": [],
   "source": [
    "def gen_setter(i):\n",
    "    def new_setter(vari_mag, value):\n",
    "        vari_mag.value = value\n",
    "\n",
    "    return new_setter"
   ]
  },
  {
   "cell_type": "code",
   "execution_count": 49,
   "metadata": {},
   "outputs": [],
   "source": [
    "my_vars = []\n",
    "for i in range(2):\n",
    "    my_vars.append(\n",
    "        OptiDesignVar(\n",
    "            name=\"Ir({})\".format(i),\n",
    "            symbol=\"var_\" + str(i),\n",
    "            type_var=\"interval\",\n",
    "            space=[0, 1],\n",
    "            get_value=lambda space: np.random.uniform(*space),\n",
    "            setter=gen_setter(i),\n",
    "        )\n",
    "    )\n"
   ]
  },
  {
   "cell_type": "code",
   "execution_count": 50,
   "metadata": {},
   "outputs": [
    {
     "name": "stdout",
     "output_type": "stream",
     "text": [
      "0.3531864576860947\n"
     ]
    },
    {
     "data": {
      "text/plain": [
       "[]"
      ]
     },
     "execution_count": 50,
     "metadata": {},
     "output_type": "execute_result"
    }
   ],
   "source": [
    "a= my_vars[1].get_value(my_vars[1].space)\n",
    "print(a)\n",
    "my_vars[1]\n",
    "vari_mag.value"
   ]
  },
  {
   "cell_type": "code",
   "execution_count": 22,
   "metadata": {},
   "outputs": [
    {
     "ename": "CheckTypeError",
     "evalue": "For property setter Expected function or str (path to python file or lambda), got: <class 'str'>",
     "output_type": "error",
     "traceback": [
      "\u001b[1;31m---------------------------------------------------------------------------\u001b[0m",
      "\u001b[1;31mCheckTypeError\u001b[0m                            Traceback (most recent call last)",
      "\u001b[1;32mC:\\Users\\KDH201~1\\AppData\\Local\\Temp/ipykernel_30808/1479267228.py\u001b[0m in \u001b[0;36m<module>\u001b[1;34m\u001b[0m\n\u001b[0;32m     12\u001b[0m \u001b[1;32mfor\u001b[0m \u001b[0mi\u001b[0m \u001b[1;32min\u001b[0m \u001b[0mrange\u001b[0m\u001b[1;33m(\u001b[0m\u001b[1;36m30\u001b[0m\u001b[1;33m)\u001b[0m\u001b[1;33m:\u001b[0m\u001b[1;33m\u001b[0m\u001b[1;33m\u001b[0m\u001b[0m\n\u001b[0;32m     13\u001b[0m     my_design_var.append( \n\u001b[1;32m---> 14\u001b[1;33m         OptiDesignVar(\n\u001b[0m\u001b[0;32m     15\u001b[0m             \u001b[0mname\u001b[0m\u001b[1;33m=\u001b[0m\u001b[1;34m\"p_Tooth_Tip_Depth\"\u001b[0m\u001b[1;33m,\u001b[0m\u001b[1;33m\u001b[0m\u001b[1;33m\u001b[0m\u001b[0m\n\u001b[0;32m     16\u001b[0m             \u001b[0msymbol\u001b[0m \u001b[1;33m=\u001b[0m \u001b[1;34m\"ttd\"\u001b[0m\u001b[1;33m,\u001b[0m\u001b[1;33m\u001b[0m\u001b[1;33m\u001b[0m\u001b[0m\n",
      "\u001b[1;32mc:\\Users\\KDH2018-PC\\anaconda3\\envs\\py38_pyleecan_v1\\lib\\site-packages\\pyleecan\\Classes\\OptiDesignVar.py\u001b[0m in \u001b[0;36m__init__\u001b[1;34m(self, type_var, space, get_value, name, symbol, unit, setter, getter, init_dict, init_str)\u001b[0m\n\u001b[0;32m     84\u001b[0m         \u001b[0mself\u001b[0m\u001b[1;33m.\u001b[0m\u001b[0mget_value\u001b[0m \u001b[1;33m=\u001b[0m \u001b[0mget_value\u001b[0m\u001b[1;33m\u001b[0m\u001b[1;33m\u001b[0m\u001b[0m\n\u001b[0;32m     85\u001b[0m         \u001b[1;31m# Call ParamExplorer init\u001b[0m\u001b[1;33m\u001b[0m\u001b[1;33m\u001b[0m\u001b[1;33m\u001b[0m\u001b[0m\n\u001b[1;32m---> 86\u001b[1;33m         super(OptiDesignVar, self).__init__(\n\u001b[0m\u001b[0;32m     87\u001b[0m             \u001b[0mname\u001b[0m\u001b[1;33m=\u001b[0m\u001b[0mname\u001b[0m\u001b[1;33m,\u001b[0m \u001b[0msymbol\u001b[0m\u001b[1;33m=\u001b[0m\u001b[0msymbol\u001b[0m\u001b[1;33m,\u001b[0m \u001b[0munit\u001b[0m\u001b[1;33m=\u001b[0m\u001b[0munit\u001b[0m\u001b[1;33m,\u001b[0m \u001b[0msetter\u001b[0m\u001b[1;33m=\u001b[0m\u001b[0msetter\u001b[0m\u001b[1;33m,\u001b[0m \u001b[0mgetter\u001b[0m\u001b[1;33m=\u001b[0m\u001b[0mgetter\u001b[0m\u001b[1;33m\u001b[0m\u001b[1;33m\u001b[0m\u001b[0m\n\u001b[0;32m     88\u001b[0m         )\n",
      "\u001b[1;32mc:\\Users\\KDH2018-PC\\anaconda3\\envs\\py38_pyleecan_v1\\lib\\site-packages\\pyleecan\\Classes\\ParamExplorer.py\u001b[0m in \u001b[0;36m__init__\u001b[1;34m(self, name, symbol, unit, setter, getter, init_dict, init_str)\u001b[0m\n\u001b[0;32m    125\u001b[0m         \u001b[0mself\u001b[0m\u001b[1;33m.\u001b[0m\u001b[0msymbol\u001b[0m \u001b[1;33m=\u001b[0m \u001b[0msymbol\u001b[0m\u001b[1;33m\u001b[0m\u001b[1;33m\u001b[0m\u001b[0m\n\u001b[0;32m    126\u001b[0m         \u001b[0mself\u001b[0m\u001b[1;33m.\u001b[0m\u001b[0munit\u001b[0m \u001b[1;33m=\u001b[0m \u001b[0munit\u001b[0m\u001b[1;33m\u001b[0m\u001b[1;33m\u001b[0m\u001b[0m\n\u001b[1;32m--> 127\u001b[1;33m         \u001b[0mself\u001b[0m\u001b[1;33m.\u001b[0m\u001b[0msetter\u001b[0m \u001b[1;33m=\u001b[0m \u001b[0msetter\u001b[0m\u001b[1;33m\u001b[0m\u001b[1;33m\u001b[0m\u001b[0m\n\u001b[0m\u001b[0;32m    128\u001b[0m         \u001b[0mself\u001b[0m\u001b[1;33m.\u001b[0m\u001b[0mgetter\u001b[0m \u001b[1;33m=\u001b[0m \u001b[0mgetter\u001b[0m\u001b[1;33m\u001b[0m\u001b[1;33m\u001b[0m\u001b[0m\n\u001b[0;32m    129\u001b[0m \u001b[1;33m\u001b[0m\u001b[0m\n",
      "\u001b[1;32mc:\\Users\\KDH2018-PC\\anaconda3\\envs\\py38_pyleecan_v1\\lib\\site-packages\\pyleecan\\Classes\\_frozen.py\u001b[0m in \u001b[0;36m__setattr__\u001b[1;34m(self, key, value)\u001b[0m\n\u001b[0;32m     33\u001b[0m                 \u001b[0mself\u001b[0m\u001b[1;33m.\u001b[0m\u001b[0m__class__\u001b[0m\u001b[1;33m.\u001b[0m\u001b[0m__name__\u001b[0m \u001b[1;33m+\u001b[0m \u001b[1;34m' class has no \"'\u001b[0m \u001b[1;33m+\u001b[0m \u001b[0mkey\u001b[0m \u001b[1;33m+\u001b[0m \u001b[1;34m'\" '\u001b[0m \u001b[1;34m\"property\"\u001b[0m\u001b[1;33m\u001b[0m\u001b[1;33m\u001b[0m\u001b[0m\n\u001b[0;32m     34\u001b[0m             )\n\u001b[1;32m---> 35\u001b[1;33m         \u001b[0mobject\u001b[0m\u001b[1;33m.\u001b[0m\u001b[0m__setattr__\u001b[0m\u001b[1;33m(\u001b[0m\u001b[0mself\u001b[0m\u001b[1;33m,\u001b[0m \u001b[0mkey\u001b[0m\u001b[1;33m,\u001b[0m \u001b[0mvalue\u001b[0m\u001b[1;33m)\u001b[0m\u001b[1;33m\u001b[0m\u001b[1;33m\u001b[0m\u001b[0m\n\u001b[0m\u001b[0;32m     36\u001b[0m \u001b[1;33m\u001b[0m\u001b[0m\n\u001b[0;32m     37\u001b[0m     \u001b[1;32mdef\u001b[0m \u001b[0m_freeze\u001b[0m\u001b[1;33m(\u001b[0m\u001b[0mself\u001b[0m\u001b[1;33m)\u001b[0m\u001b[1;33m:\u001b[0m\u001b[1;33m\u001b[0m\u001b[1;33m\u001b[0m\u001b[0m\n",
      "\u001b[1;32mc:\\Users\\KDH2018-PC\\anaconda3\\envs\\py38_pyleecan_v1\\lib\\site-packages\\pyleecan\\Methods\\Simulation\\ParamExplorer\\_set_setter.py\u001b[0m in \u001b[0;36m_set_setter\u001b[1;34m(self, value)\u001b[0m\n\u001b[0;32m     33\u001b[0m         \u001b[0mself\u001b[0m\u001b[1;33m.\u001b[0m\u001b[0m_setter_func\u001b[0m \u001b[1;33m=\u001b[0m \u001b[0mvalue\u001b[0m\u001b[1;33m\u001b[0m\u001b[1;33m\u001b[0m\u001b[0m\n\u001b[0;32m     34\u001b[0m     \u001b[1;32melse\u001b[0m\u001b[1;33m:\u001b[0m\u001b[1;33m\u001b[0m\u001b[1;33m\u001b[0m\u001b[0m\n\u001b[1;32m---> 35\u001b[1;33m         raise CheckTypeError(\n\u001b[0m\u001b[0;32m     36\u001b[0m             \u001b[1;34m\"For property setter Expected function or str (path to python file or lambda), got: \"\u001b[0m\u001b[1;33m\u001b[0m\u001b[1;33m\u001b[0m\u001b[0m\n\u001b[0;32m     37\u001b[0m             \u001b[1;33m+\u001b[0m \u001b[0mstr\u001b[0m\u001b[1;33m(\u001b[0m\u001b[0mtype\u001b[0m\u001b[1;33m(\u001b[0m\u001b[0mvalue\u001b[0m\u001b[1;33m)\u001b[0m\u001b[1;33m)\u001b[0m\u001b[1;33m\u001b[0m\u001b[1;33m\u001b[0m\u001b[0m\n",
      "\u001b[1;31mCheckTypeError\u001b[0m: For property setter Expected function or str (path to python file or lambda), got: <class 'str'>"
     ]
    }
   ],
   "source": [
    "from pyleecan.Classes.OptiDesignVar import OptiDesignVar\n",
    "import random\n",
    "# Design variables\n",
    "\n",
    "my_design_var=[]\n",
    "def gen_setter(self,i):\n",
    "    def new_setter(self, value):\n",
    "        self.p_Tooth_Tip_Depth[i] = value\n",
    "\n",
    "    return new_setter\n",
    "\n",
    "for i in range(30):\n",
    "    my_design_var.append( \n",
    "        OptiDesignVar(\n",
    "            name=\"p_Tooth_Tip_Depth\",\n",
    "            symbol = \"ttd\",\n",
    "            unit = \"mm\",\n",
    "            type_var=\"interval\",\n",
    "            space=[\n",
    "                0 * test_ref.p_Tooth_Tip_Depth,\n",
    "                test_ref.p_Tooth_Tip_Depth,\n",
    "            ],\n",
    "            get_value=\"lambda space: random.uniform(*space)\", # To initiate randomly the first generation\n",
    "            setter=\"gen_setter(i)\", # Variable to edit\n",
    "        )\n",
    "    )"
   ]
  },
  {
   "cell_type": "markdown",
   "metadata": {},
   "source": [
    "## OptiObjective\n",
    "## Datakeeper??"
   ]
  },
  {
   "cell_type": "code",
   "execution_count": null,
   "metadata": {},
   "outputs": [],
   "source": [
    "from pyleecan.Classes.OptiObjective import OptiObjective\n",
    "import numpy as np\n",
    "\n",
    "\n",
    "\n",
    "def harm1(output):\n",
    "    \"\"\"Return the first torque harmonic \"\"\"\n",
    "    harm_list = output.mag.Tem.get_magnitude_along(\"freqs\")[\"T_{em}\"]\n",
    "    \n",
    "    # Return the first torque harmonic\n",
    "    return harm_list[1] \n",
    "\n",
    "my_obj = [\n",
    "    OptiObjective(\n",
    "        name=\"Maximization of the average torque\",\n",
    "        symbol=\"Tem_av\",\n",
    "        unit=\"N.m\",\n",
    "        keeper=\"lambda output: -abs(output.mag.Tem_av)\",\n",
    "    ),\n",
    "    OptiObjective(\n",
    "        name=\"Minimization of the first torque harmonic\",\n",
    "        symbol=\"Tem_h1\",\n",
    "        unit=\"N.m\",\n",
    "        keeper=harm1,\n",
    "    ),\n",
    "]"
   ]
  },
  {
   "cell_type": "markdown",
   "metadata": {},
   "source": [
    "# run"
   ]
  },
  {
   "cell_type": "code",
   "execution_count": null,
   "metadata": {},
   "outputs": [],
   "source": []
  },
  {
   "cell_type": "code",
   "execution_count": null,
   "metadata": {},
   "outputs": [],
   "source": [
    "Y = g(X)"
   ]
  },
  {
   "cell_type": "markdown",
   "metadata": {},
   "source": [
    "# Train"
   ]
  },
  {
   "cell_type": "markdown",
   "metadata": {},
   "source": [
    "# Validation"
   ]
  },
  {
   "cell_type": "markdown",
   "metadata": {},
   "source": [
    "# Optimization"
   ]
  },
  {
   "cell_type": "code",
   "execution_count": null,
   "metadata": {},
   "outputs": [],
   "source": []
  }
 ],
 "metadata": {
  "interpreter": {
   "hash": "35ee68f41891e538056f66d7844ee8b2776d7a835967854e48d42d607c7ce82b"
  },
  "kernelspec": {
   "display_name": "Python 3.8.8 ('py38_pyleecan_v1': conda)",
   "language": "python",
   "name": "python3"
  },
  "language_info": {
   "codemirror_mode": {
    "name": "ipython",
    "version": 3
   },
   "file_extension": ".py",
   "mimetype": "text/x-python",
   "name": "python",
   "nbconvert_exporter": "python",
   "pygments_lexer": "ipython3",
   "version": "3.8.8"
  },
  "orig_nbformat": 4
 },
 "nbformat": 4,
 "nbformat_minor": 2
}

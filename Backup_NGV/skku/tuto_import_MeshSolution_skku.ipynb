{
 "cells": [
  {
   "cell_type": "markdown",
   "metadata": {},
   "source": [
    "# Version information"
   ]
  },
  {
   "cell_type": "code",
   "execution_count": 2,
   "metadata": {},
   "outputs": [
    {
     "name": "stdout",
     "output_type": "stream",
     "text": [
      "Running date: March 18, 2022\n",
      "Pyleecan version:1.3.7\n",
      "SciDataTool version:1.4.24\n"
     ]
    }
   ],
   "source": [
    "from datetime import date\n",
    "print(\"Running date:\", date.today().strftime(\"%B %d, %Y\"))\n",
    "import pyleecan\n",
    "print(\"Pyleecan version:\" + pyleecan.__version__)\n",
    "import SciDataTool\n",
    "print(\"SciDataTool version:\" + SciDataTool.__version__)"
   ]
  },
  {
   "cell_type": "markdown",
   "metadata": {},
   "source": [
    "# MeshSolution 객체를 사용하는 방법\n",
    "MeshSolution 모듈은 메쉬에 연결된 데이터를 저장, 작업 수행 및 표시할 수 있는 코드의 일부입니다. 예를 들어, FEMM의 정자기 솔루션은 이 모듈을 사용하여 저장됩니다.\n",
    "\n",
    "이 튜토리얼은 MeshSolution 모듈의 현재 기능이 허용하는 다양한 가능성을 보여줍니다. 현재는 주로 FEMM으로 계산된 2D 전자기장을 저장하는 데 전념하지만 목표는 Pyleecan 내부에 포함될 수 있는 모든 물리학으로 일반화하는 것입니다.\n",
    " \n",
    "이 튜토리얼과 관련된 노트북은 [GitHub](https://github.com/Eomys/pyleecan/tree/master/Tutorials/tuto_MeshSolution.ipynb)에서 볼 수 있습니다.\n",
    "\n",
    "이 튜토리얼은 이 모듈이 어떻게 작동하는지 깊이 이해하고 잠재적으로 코드 개발에 기여하고자 하는 사람들을 위한 것입니다.\n",
    "# How to use MeshSolution objects\n",
    "The MeshSolution module is the part of the code which allows to store, perform operation(s), and display data linked to a mesh. For example, the magnetostatic solution from FEMM is stored using this module.\n",
    "\n",
    "This tutorial shows the different possibilities allowed by the current features of the MeshSolution module. At the moment, it is mainly dedicated to store 2D electromagnetic fields computed with FEMM, but the goal is to generalize to any physics that could be included inside Pyleecan.\n",
    " \n",
    "The notebook related to this tutorial is available on [GitHub](https://github.com/Eomys/pyleecan/tree/master/Tutorials/tuto_MeshSolution.ipynb).\n",
    "\n",
    "This tutorial is for people who wish to understand in depth how this module works, and potentially contribute to the development of the code.\n"
   ]
  },
  {
   "cell_type": "markdown",
   "metadata": {},
   "source": [
    "## Architecture\n",
    "\n",
    "기본 클래스는 MeshSolution입니다. 두 가지 중요한 속성이 있습니다.\n",
    "- Mesh 클래스의 인스턴스 목록입니다. Mesh 클래스를 사용하면 메쉬의 매개변수(좌표, 연결 ...)를 저장할 수 있습니다.\n",
    "- Solution 클래스의 인스턴스 목록입니다. Solution 클래스는 메쉬와 관련된 솔루션 필드를 저장할 수 있습니다.\n",
    "\n",
    "따라서 MeshSolution을 사용하면 다양한 종류의 메쉬와 솔루션을 연결할 수 있습니다.\n",
    "The main class is the MeshSolution. It has two important attributes:\n",
    "- A list of instances of Mesh class. The Mesh class allows to store the parameters of the mesh (coordinates, connectivity ...).\n",
    "- A list of instances of Solution class. The Solution class allows to store solution field related to a mesh.\n",
    "\n",
    "Thus, the MeshSolution allows to make the link between the different kind of meshes and solutions.\n"
   ]
  },
  {
   "cell_type": "markdown",
   "metadata": {},
   "source": [
    "### MeshMat 개체 정의\n",
    "\n",
    "모든 기능은 Pyleecan에서 자동으로 초기화/정의되어야 하지만 MeshSolution 모듈의 기본 원리를 소개하기 위해 일부 개체를 직접 정의할 것입니다.\n",
    "\n",
    "### Defining a MeshMat object\n",
    "\n",
    "Although every features should be automatically initialized/defined in Pyleecan, we are going to define by hand some of the objects in order to introduce the basics principle of the MeshSolution module."
   ]
  },
  {
   "cell_type": "markdown",
   "metadata": {},
   "source": [
    "## Defining a SolutionMat object and plot\n",
    "The MeshSolution object allows to make the link between data (such as FE results) and the corresponding mesh stored in a Mesh object. Thus, all the plot and post-processing methods should be available in the MeshSolution class.\n",
    "\n",
    "The main available post-processing are the plots (such as plot_contour and plot_glyph).\n",
    "\n",
    "Here is an example with plot_contour: a scalar field is defined by giving its values all points of the mesh. "
   ]
  },
  {
   "cell_type": "code",
   "execution_count": 9,
   "metadata": {},
   "outputs": [],
   "source": [
    "import numpy as np\n",
    "from pyleecan.Classes.SolutionMat import SolutionMat\n",
    "from pyleecan.Classes.SolutionVector import SolutionVector\n",
    "from pyleecan.Classes.SolutionData import SolutionData\n",
    "\n",
    "from pyleecan.definitions import TEST_DIR\n",
    "from pyleecan.Classes.ImportMeshMat import ImportMeshMat\n",
    "import meshio\n",
    "from os.path import join\n",
    "from pyleecan.definitions import TEST_DIR\n",
    "from pyleecan.Classes.ImportMeshMat import ImportMeshMat\n",
    "import meshio\n",
    "from os.path import join\n",
    "from pyleecan.Classes.MeshMat import MeshMat\n",
    "from pyleecan.Classes.NodeMat import NodeMat\n",
    "from pyleecan.Classes.CellMat import CellMat\n",
    "from pyleecan.Classes.MeshSolution import MeshSolution\n"
   ]
  },
  {
   "cell_type": "markdown",
   "metadata": {},
   "source": [
    "축 개념을 사용하면 SciDataTool 개체에서와 같이 값을 올바르게 추출할 수 있습니다. -> SolutionMat/SolutionData/SolutionVector에서 메서드를 호출하는 것과 같은 방식입니다.\n",
    "\n",
    "SolutionMat을 사용하면 추가 축 \"구성요소\"를 사용하여 벡터 필드를 정의할 수도 있습니다.\n",
    "\n",
    "The notion of axis allows to correctly extract values as it would be with SciDataTool objects -> same way to call methods in SolutionMat/SolutionData/SolutionVector. \n",
    "\n",
    "Using SolutionMat, one can also defined a vector field by using an additional axis \"component\"."
   ]
  },
  {
   "cell_type": "markdown",
   "metadata": {},
   "source": [
    "이 예에서 2D 필드는 3D 메쉬에 정의됩니다. 실제로 메쉬와 필드에는 고유한 \"차원\" 속성이 있습니다. 가능한 경우 메모리 공간을 제한할 수 있습니다.\n",
    "\n",
    "In this example, a 2D field is defined on a 3D mesh. Indeed, the mesh and the field have distinct \"dimension\" attributes. It enables to limit the memory space when possible. "
   ]
  },
  {
   "cell_type": "markdown",
   "metadata": {},
   "source": [
    "## 외부 메쉬 가져오기\n",
    "\n",
    "현재 Pyleecan은 주로 meshio 라이브러리에 의존하여 모든 유형의 메쉬 파일을 pyvista에서 읽을 수 있는 .vtk로 변환합니다. 이 주제에 대한 모든 기여를 환영합니다. 그러나 최근에 .unv 파일을 가져오는 방법을 추가했습니다.\n",
    "\n",
    "## Import an external Mesh\n",
    "\n",
    "At the moment, Pyleecan mainly relies on the meshio librairy to convert any type of mesh file into a .vtk which is readable by pyvista. Any contribution on this topic is welcome. However, we have recently added a method to import .unv files."
   ]
  },
  {
   "cell_type": "code",
   "execution_count": 21,
   "metadata": {},
   "outputs": [
    {
     "name": "stdout",
     "output_type": "stream",
     "text": [
      "None\n"
     ]
    },
    {
     "data": {
      "text/plain": [
       "<pyvista.plotting.plotting.Plotter at 0x262b6c3f040>"
      ]
     },
     "execution_count": 21,
     "metadata": {},
     "output_type": "execute_result"
    }
   ],
   "source": [
    "mesh_obj = ImportMeshMat(\n",
    "    file_path=join(TEST_DIR, join('C:/Users/KDH2018-PC/Downloads', 'Jmag_export.unv')),\n",
    ")\n",
    "mesh = mesh_obj.get_data()\n",
    "    \n",
    "# Import in Pyleecan with MeshVTK\n",
    "MS = MeshSolution(mesh=[mesh])\n",
    "MS.plot_mesh()"
   ]
  },
  {
   "cell_type": "code",
   "execution_count": 20,
   "metadata": {},
   "outputs": [],
   "source": [
    "Test_mesh=MS.get_mesh()\n",
    "anumber_mesh=Test_mesh.get_node()\n"
   ]
  },
  {
   "cell_type": "code",
   "execution_count": 49,
   "metadata": {},
   "outputs": [
    {
     "name": "stdout",
     "output_type": "stream",
     "text": [
      "<bound method get_node_indice of <pyleecan.Classes.MeshMat.MeshMat object at 0x000001AD3F9C75B0>>\n"
     ]
    },
    {
     "data": {
      "text/plain": [
       "array([1.000e+00, 2.000e+00, 3.000e+00, ..., 6.963e+03, 6.964e+03,\n",
       "       6.965e+03])"
      ]
     },
     "execution_count": 49,
     "metadata": {},
     "output_type": "execute_result"
    }
   ],
   "source": [
    "#print(mesh.get_node())\n",
    "#print(mesh.get_cell())\n",
    "print(mesh.get_node_indice)\n"
   ]
  },
  {
   "cell_type": "markdown",
   "metadata": {},
   "source": [
    "## Import external Solution data\n"
   ]
  },
  {
   "cell_type": "code",
   "execution_count": 11,
   "metadata": {},
   "outputs": [
    {
     "name": "stdout",
     "output_type": "stream",
     "text": [
      "(6126, 3)\n"
     ]
    },
    {
     "data": {
      "text/plain": [
       "numpy.ndarray"
      ]
     },
     "execution_count": 11,
     "metadata": {},
     "output_type": "execute_result"
    }
   ],
   "source": [
    "import scipy.io as scio\n",
    "field = scio.loadmat('Z:/01_Codes_Projects/Pyleecan_fork/Tutorials/force_vector.mat')\n",
    "force_array=field['force_array']\n",
    "\n",
    "#vector = np.ones((1,len(force_array),2))\n",
    "#\n",
    "#force_array=np.transpose(force_array)\n",
    "\n",
    "\n",
    "\n",
    "print(np.shape(force_array))\n",
    "type(force_array)"
   ]
  },
  {
   "cell_type": "code",
   "execution_count": 12,
   "metadata": {},
   "outputs": [
    {
     "name": "stdout",
     "output_type": "stream",
     "text": [
      "(6126, 2)\n",
      "6126\n",
      "(6126, 2)\n",
      "(1, 6126, 2)\n"
     ]
    }
   ],
   "source": [
    "force_array=np.delete(force_array,2,axis=1)\n",
    "print(np.shape(force_array))\n",
    "\n",
    "print(len(force_array))\n",
    "print(np.shape(force_array))\n",
    "temp=force_array.reshape((1,len(force_array),2))\n",
    "print(np.shape(temp))"
   ]
  },
  {
   "cell_type": "code",
   "execution_count": 13,
   "metadata": {},
   "outputs": [
    {
     "name": "stdout",
     "output_type": "stream",
     "text": [
      "<class 'numpy.ndarray'>\n",
      "6126\n",
      "[1.000e+00 2.000e+00 3.000e+00 ... 6.963e+03 6.964e+03 6.965e+03]\n"
     ]
    }
   ],
   "source": [
    "print(type(mesh.get_node_indice()))\n",
    "print(len(mesh.get_node()))\n",
    "print(mesh.get_node_indice())\n",
    "node_indice_list=np.ndarray.tolist(mesh.get_node_indice())\n"
   ]
  },
  {
   "cell_type": "code",
   "execution_count": 17,
   "metadata": {},
   "outputs": [
    {
     "data": {
      "text/plain": [
       "<pyvista.plotting.plotting.Plotter at 0x262b66a6970>"
      ]
     },
     "execution_count": 17,
     "metadata": {},
     "output_type": "execute_result"
    }
   ],
   "source": [
    "\n",
    "my_vec_solution = SolutionMat(\n",
    "    label=\"my_vector\",\n",
    "    type_cell=\"triangle\",\n",
    "    field=temp,\n",
    "    indice=node_indice_list, # optional if indice are sorted and starts from 0, but field size must match with the number of corresponding point/cell.\n",
    "    axis_name=[\"time\", \"indice\", \"component\"],\n",
    "    axis_size = [1, 6500, 2],\n",
    ")\n",
    "MS.solution.append(my_vec_solution)\n",
    "MS.plot_glyph(label=\"my_vector\", is_point_arrow=True, factor=1/50)"
   ]
  },
  {
   "cell_type": "code",
   "execution_count": 69,
   "metadata": {},
   "outputs": [
    {
     "data": {
      "text/plain": [
       "6126"
      ]
     },
     "execution_count": 69,
     "metadata": {},
     "output_type": "execute_result"
    }
   ],
   "source": []
  },
  {
   "cell_type": "markdown",
   "metadata": {},
   "source": [
    "# Demo with FEMM results\n",
    "The aim of this section is to show how MeshSolution object are used in Pyleecan to post-process FE results. "
   ]
  },
  {
   "cell_type": "code",
   "execution_count": 47,
   "metadata": {},
   "outputs": [],
   "source": [
    "# Run the FEMM simulation such as in tuto_Simulation_FEMM\n",
    "import json\n",
    "from multiprocessing import cpu_count\n",
    "from os.path import join\n",
    "\n",
    "import matplotlib.pyplot as plt\n",
    "import numpy as np\n",
    "import pytest\n",
    "from numpy import array, ones, pi, zeros\n",
    "from pyleecan.Classes.ImportGenVectLin import ImportGenVectLin\n",
    "from pyleecan.Classes.ImportMatrixVal import ImportMatrixVal\n",
    "from pyleecan.Classes.InputCurrent import InputCurrent\n",
    "from pyleecan.Classes.OPdq import OPdq\n",
    "from pyleecan.Classes.MagFEMM import MagFEMM\n",
    "from pyleecan.Classes.Output import Output\n",
    "from pyleecan.Classes.Simu1 import Simu1\n",
    "from pyleecan.definitions import DATA_DIR\n",
    "from pyleecan.Functions.load import load\n",
    "from Tests import save_load_path, save_plot_path\n",
    "\n",
    "SPMSM_003 = load(join(DATA_DIR, \"Machine\", \"SPMSM_003.json\"))\n",
    "simu = Simu1(name=\"test_SIPMSM_003\", machine=SPMSM_003)\n",
    "\n",
    "# Definition of the enforced output of the electrical module\n",
    "N0 = 3000\n",
    "Is = ImportMatrixVal(\n",
    "    value=array(\n",
    "        [\n",
    "            [6.97244193e-06, 2.25353053e02, -2.25353060e02],\n",
    "            [-2.60215295e02, 1.30107654e02, 1.30107642e02],\n",
    "            [-6.97244208e-06, -2.25353053e02, 2.25353060e02],\n",
    "            [2.60215295e02, -1.30107654e02, -1.30107642e02],\n",
    "        ]\n",
    "    )\n",
    ")\n",
    "time = ImportGenVectLin(start=0, stop=0.015, num=4, endpoint=True)\n",
    "Na_tot = 1024\n",
    "\n",
    "simu.input = InputCurrent(\n",
    "    Is=Is,\n",
    "    Ir=None,  # No winding on the rotor\n",
    "    OP=OPdq(N0=N0),\n",
    "    time=time,\n",
    "    Na_tot=Na_tot,\n",
    "    angle_rotor_initial=0.5216 + pi,\n",
    ")\n"
   ]
  },
  {
   "cell_type": "markdown",
   "metadata": {},
   "source": [
    "To enable the FE results saving: is_get_mesh "
   ]
  },
  {
   "cell_type": "code",
   "execution_count": 48,
   "metadata": {},
   "outputs": [
    {
     "name": "stdout",
     "output_type": "stream",
     "text": [
      "[03:41:45] Starting running simulation test_SIPMSM_003 (machine=SPMSM_003)\n",
      "[03:41:45] Enforcing outelec.phase_dir=1 to comply with input current\n",
      "[03:41:45] Starting Magnetic module\n",
      "[03:41:46] Solving time step 1 / 4 in FEMM\n",
      "[03:41:47] Solving time step 2 / 4 in FEMM\n",
      "[03:41:47] Solving time step 3 / 4 in FEMM\n",
      "[03:41:48] Solving time step 4 / 4 in FEMM\n",
      "[03:41:51] End of simulation test_SIPMSM_003\n"
     ]
    },
    {
     "name": "stderr",
     "output_type": "stream",
     "text": [
      "C:\\Users\\KDH2018-PC\\anaconda3\\envs\\py38_openturn\\lib\\multiprocessing\\pool.py:265: ResourceWarning: unclosed running multiprocessing pool <multiprocessing.pool.ThreadPool state=RUN pool_size=4>\n",
      "  _warn(f\"unclosed running multiprocessing pool {self!r}\",\n",
      "ResourceWarning: Enable tracemalloc to get the object allocation traceback\n",
      "sys:1: ResourceWarning: unclosed socket <zmq.Socket(zmq.PUSH) at 0x23ca21070a0>\n",
      "ResourceWarning: Enable tracemalloc to get the object allocation traceback\n",
      "sys:1: ResourceWarning: unclosed socket <zmq.Socket(zmq.PUSH) at 0x23ca2107ca0>\n",
      "ResourceWarning: Enable tracemalloc to get the object allocation traceback\n",
      "sys:1: ResourceWarning: unclosed socket <zmq.Socket(zmq.PUSH) at 0x23ca2107d00>\n",
      "ResourceWarning: Enable tracemalloc to get the object allocation traceback\n",
      "sys:1: ResourceWarning: unclosed socket <zmq.Socket(zmq.PUSH) at 0x23ca21073a0>\n",
      "ResourceWarning: Enable tracemalloc to get the object allocation traceback\n"
     ]
    }
   ],
   "source": [
    "# Definition of the magnetic simulation (no symmetry)\n",
    "simu.mag = MagFEMM(\n",
    "    type_BH_stator=1,\n",
    "    type_BH_rotor=1,\n",
    "    is_periodicity_a=True,\n",
    "    is_get_meshsolution=True,\n",
    "    nb_worker=cpu_count(),\n",
    ")\n",
    "out_femm = simu.run()"
   ]
  },
  {
   "cell_type": "markdown",
   "metadata": {},
   "source": [
    "Now, the magnetic FEA results can be plotted. Moreover, the solution can be extracted on a specific area. By default, the field is plotted on the first dimension of every additional axis (e.g. time)."
   ]
  },
  {
   "cell_type": "code",
   "execution_count": 45,
   "metadata": {},
   "outputs": [
    {
     "name": "stderr",
     "output_type": "stream",
     "text": [
      "WARNING:root:VTK requires 3D points, but 2D points given. Appending 0 third component.\n",
      "C:\\Users\\KDH2018-PC\\anaconda3\\envs\\py38_openturn\\lib\\site-packages\\vtkmodules\\util\\numpy_support.py:74: DeprecationWarning: `np.bool` is a deprecated alias for the builtin `bool`. To silence this warning, use `bool` by itself. Doing this will not modify any behavior and is safe. If you specifically wanted the numpy scalar type, use `np.bool_` here.\n",
      "Deprecated in NumPy 1.20; for more details and guidance: https://numpy.org/devdocs/release/1.20.0-notes.html#deprecations\n",
      "  _vtk_np = {vtkConstants.VTK_BIT:numpy.bool,\n"
     ]
    }
   ],
   "source": [
    "out_femm.mag.meshsolution.plot_contour()"
   ]
  },
  {
   "cell_type": "code",
   "execution_count": 14,
   "metadata": {},
   "outputs": [
    {
     "name": "stderr",
     "output_type": "stream",
     "text": [
      "WARNING:root:VTK requires 3D points, but 2D points given. Appending 0 third component.\n"
     ]
    }
   ],
   "source": [
    "out_femm.mag.meshsolution.plot_contour(label=\"H\", group_names=\"stator core\")"
   ]
  },
  {
   "cell_type": "code",
   "execution_count": 47,
   "metadata": {},
   "outputs": [
    {
     "name": "stderr",
     "output_type": "stream",
     "text": [
      "WARNING:root:VTK requires 3D points, but 2D points given. Appending 0 third component.\n",
      "C:\\Users\\KDH2018-PC\\anaconda3\\envs\\py38_openturn\\lib\\site-packages\\pyvista\\core\\dataset.py:459: PyvistaDeprecationWarning: Use of `DataSet.vectors` to add vector data is deprecated. Use `DataSet['vector_name'] = data`. Use `DataSet.active_vectors_name = 'vector_name' to make active.\n",
      "  warnings.warn(\n"
     ]
    }
   ],
   "source": [
    "out_femm.mag.meshsolution.plot_glyph(label=\"B\", group_names=\"stator core\")"
   ]
  },
  {
   "cell_type": "code",
   "execution_count": 10,
   "metadata": {
    "tags": []
   },
   "outputs": [
    {
     "name": "stderr",
     "output_type": "stream",
     "text": [
      "WARNING:root:VTK requires 3D points, but 2D points given. Appending 0 third component.\n",
      "WARNING:root:VTK requires 3D points, but 2D points given. Appending 0 third component.\n"
     ]
    }
   ],
   "source": [
    "out_femm.mag.meshsolution.plot_contour(label=\"B\", group_names=\"stator core\",is_animated=True,save_path=\"D:Stator_Core.gif\",clim=[0,2] )"
   ]
  },
  {
   "cell_type": "markdown",
   "metadata": {},
   "source": [
    "알고리즘은 두 그룹 간의 인터페이스를 추출할 수도 있습니다.\n",
    "The algorithm is even capable of extracting the interface between two groups:"
   ]
  },
  {
   "cell_type": "code",
   "execution_count": 18,
   "metadata": {},
   "outputs": [
    {
     "name": "stderr",
     "output_type": "stream",
     "text": [
      "WARNING:root:VTK requires 3D points, but 2D points given. Appending 0 third component.\n"
     ]
    },
    {
     "name": "stdout",
     "output_type": "stream",
     "text": [
      "None\n"
     ]
    }
   ],
   "source": [
    "out_femm.mag.meshsolution.plot_mesh(group_names=[\"stator core\", \"/\", \"airgap\", \"stator winding\"])"
   ]
  },
  {
   "cell_type": "code",
   "execution_count": 42,
   "metadata": {},
   "outputs": [
    {
     "ename": "NameError",
     "evalue": "name 'out_femm' is not defined",
     "output_type": "error",
     "traceback": [
      "\u001b[1;31m---------------------------------------------------------------------------\u001b[0m",
      "\u001b[1;31mNameError\u001b[0m                                 Traceback (most recent call last)",
      "\u001b[1;32mC:\\Users\\KDH201~1\\AppData\\Local\\Temp/ipykernel_14640/1890015887.py\u001b[0m in \u001b[0;36m<module>\u001b[1;34m\u001b[0m\n\u001b[1;32m----> 1\u001b[1;33m \u001b[0mout_femm\u001b[0m\u001b[1;33m.\u001b[0m\u001b[0mmag\u001b[0m\u001b[1;33m.\u001b[0m\u001b[0mmeshsolution\u001b[0m\u001b[1;33m.\u001b[0m\u001b[0mplot_mesh\u001b[0m\u001b[1;33m(\u001b[0m\u001b[0mgroup_names\u001b[0m\u001b[1;33m=\u001b[0m\u001b[1;33m[\u001b[0m\u001b[1;34m\"rotor core\"\u001b[0m\u001b[1;33m,\u001b[0m \u001b[1;34m\"stator winding\"\u001b[0m\u001b[1;33m,\u001b[0m \u001b[1;34m\"airgap\"\u001b[0m\u001b[1;33m]\u001b[0m\u001b[1;33m)\u001b[0m\u001b[1;33m\u001b[0m\u001b[1;33m\u001b[0m\u001b[0m\n\u001b[0m",
      "\u001b[1;31mNameError\u001b[0m: name 'out_femm' is not defined"
     ]
    }
   ],
   "source": [
    "out_femm.mag.meshsolution.plot_mesh(group_names=[\"rotor core\", \"stator winding\", \"airgap\"])"
   ]
  },
  {
   "cell_type": "markdown",
   "metadata": {},
   "source": [
    "추가 축을 통한 슬라이스는 [SciDataTool](https://github.com/Eomys/SciDataTool) 유사 호출을 사용하여 얻을 수 있습니다. 예를 들어, 두 번째 시간 단계에서 자기장을 원하는 경우:\n",
    "\n",
    "Slices through addtional axes can be obtained using [SciDataTool](https://github.com/Eomys/SciDataTool) alike call. For example, if I want the magnetic field at the second time step:"
   ]
  },
  {
   "cell_type": "code",
   "execution_count": 29,
   "metadata": {},
   "outputs": [
    {
     "name": "stderr",
     "output_type": "stream",
     "text": [
      "WARNING:root:VTK requires 3D points, but 2D points given. Appending 0 third component.\n"
     ]
    }
   ],
   "source": [
    "out_femm.mag.meshsolution.plot_contour(\n",
    "    \"time[2]\",\n",
    "    label=\"H\",\n",
    "    save_path=join(save_plot_path, simu.name + \"_H_time2.png\"),\n",
    "    is_show_fig=False,\n",
    ")"
   ]
  },
  {
   "cell_type": "markdown",
   "metadata": {},
   "source": [
    "# 데이터 추출 및 후처리\n",
    "\n",
    "개체 유형에 관계 없이 결과를 로드하기 위해 MeshSolution 클래스에 대해 여러 메서드가 개발되었습니다. MeshSolution의 주요 메소드는 get_field입니다. 첫 번째 인수는 [SciDataTool](https://github.com/Eomys/SciDataTool) 호출과 유사하게 작성할 수 있습니다. 예를 들어 FEMM 계산 후 첫 번째 단계에서 자속 밀도를 얻으려면 다음을 수행하십시오.\n",
    "# Extract and post-process data\n",
    "\n",
    "Several methods have been developed for the MeshSolution class in order to load the results regardless of the type of objects. The main method of MeshSolution is get_field. The first arguments can be written similarly to [SciDataTool](https://github.com/Eomys/SciDataTool) call. For example if I want to get the magnetic flux density at the first time step after FEMM calculations:"
   ]
  },
  {
   "cell_type": "code",
   "execution_count": 49,
   "metadata": {},
   "outputs": [
    {
     "data": {
      "text/plain": [
       "(26122, 2)"
      ]
     },
     "execution_count": 49,
     "metadata": {},
     "output_type": "execute_result"
    }
   ],
   "source": [
    "B = out_femm.mag.meshsolution.get_field(\"time[0]\", \"indice\", \"component\", label='B')\n",
    "B.shape"
   ]
  },
  {
   "cell_type": "markdown",
   "metadata": {},
   "source": [
    "또 다른 유용한 기능은 그룹입니다. 그룹을 통해 기계의 하위 부분에 해당하는 하위 메시를 정의할 수 있습니다. 그룹 정의에서 새 MeshSolution 객체를 생성할 수 있습니다.\n",
    "\n",
    "Another useful feature is the groups. The groups allows to define submeshes corresponding to subpart of the machine. A new MeshSolution object can be created from the group definition:"
   ]
  },
  {
   "cell_type": "code",
   "execution_count": 50,
   "metadata": {},
   "outputs": [],
   "source": [
    "group_stator = out_femm.mag.meshsolution.get_group(\"stator core\")\n"
   ]
  },
  {
   "cell_type": "markdown",
   "metadata": {},
   "source": [
    "그런 다음 선택한 셀(이 경우 삼각형 요소)에서 해가 필터링됩니다.\n",
    "Then, the magnetic solution is filtered on the selected cells (triangular elements in this case). "
   ]
  },
  {
   "cell_type": "code",
   "execution_count": 53,
   "metadata": {},
   "outputs": [
    {
     "data": {
      "text/plain": [
       "(4, 1952, 2)"
      ]
     },
     "execution_count": 53,
     "metadata": {},
     "output_type": "execute_result"
    }
   ],
   "source": [
    "B_s = group_stator.get_field(\"indice\", \"time\", \"component\", label='B')\n",
    "H_s = group_stator.get_field(\"indice\", \"time\", \"component\", label='H')\n",
    "H_s.shape\n",
    "B_s.shape\n",
    "w_mag = np.multiply(B_s,H_s)/2\n",
    "w_mag.shape\n"
   ]
  },
  {
   "cell_type": "markdown",
   "metadata": {},
   "source": [
    "필드의 크기는 셀의 고정자 수로 분명히 축소되었습니다. 그런 다음 이 그룹의 솔루션에 대해 작업을 수행하고 플롯할 수 있습니다. 여러 유형의 Solution 객체가 동일한 MeshSolution 객체에 공존할 수 있다는 점은 주목할 가치가 있습니다.\n",
    "\n",
    "The dimension of the field has been obviously reduced to the stator number of cells. Then, operations can be performed on the solution of this group, and plotted. It is worth noting that several type of Solution objects can co-exist in the same MeshSolution object."
   ]
  },
  {
   "cell_type": "code",
   "execution_count": 58,
   "metadata": {},
   "outputs": [
    {
     "data": {
      "text/plain": [
       "array([[[ 1.20336945,  0.25761163],\n",
       "        [ 1.22365736,  0.26430045],\n",
       "        [ 1.2309031 ,  0.26222727],\n",
       "        ...,\n",
       "        [ 2.44811149,  2.15484842],\n",
       "        [ 4.19862029,  0.80022394],\n",
       "        [ 3.37502383,  2.01347532]],\n",
       "\n",
       "       [[-1.04103604,  0.22625904],\n",
       "        [-1.05867636,  0.22044312],\n",
       "        [-1.06511704,  0.22228595],\n",
       "        ...,\n",
       "        [-1.78877178, -1.36445675],\n",
       "        [-3.01473992, -0.41574603],\n",
       "        [-2.40702053, -1.31098591]],\n",
       "\n",
       "       [[-1.20336945, -0.25761163],\n",
       "        [-1.22365736, -0.26430045],\n",
       "        [-1.2309031 , -0.26222727],\n",
       "        ...,\n",
       "        [-2.44811149, -2.15484842],\n",
       "        [-4.19862029, -0.80022394],\n",
       "        [-3.37502383, -2.01347532]],\n",
       "\n",
       "       [[ 1.04103604, -0.22625904],\n",
       "        [ 1.05867636, -0.22044312],\n",
       "        [ 1.06511704, -0.22228595],\n",
       "        ...,\n",
       "        [ 1.78877178,  1.36445675],\n",
       "        [ 3.01473992,  0.41574603],\n",
       "        [ 2.40702053,  1.31098591]]])"
      ]
     },
     "execution_count": 58,
     "metadata": {},
     "output_type": "execute_result"
    }
   ],
   "source": [
    "B_s"
   ]
  },
  {
   "cell_type": "code",
   "execution_count": 68,
   "metadata": {},
   "outputs": [
    {
     "name": "stderr",
     "output_type": "stream",
     "text": [
      "WARNING:root:VTK requires 3D points, but 2D points given. Appending 0 third component.\n",
      "C:\\Users\\KDH2018-PC\\anaconda3\\envs\\py38_openturn\\lib\\site-packages\\vtkmodules\\util\\numpy_support.py:74: DeprecationWarning: `np.bool` is a deprecated alias for the builtin `bool`. To silence this warning, use `bool` by itself. Doing this will not modify any behavior and is safe. If you specifically wanted the numpy scalar type, use `np.bool_` here.\n",
      "Deprecated in NumPy 1.20; for more details and guidance: https://numpy.org/devdocs/release/1.20.0-notes.html#deprecations\n",
      "  _vtk_np = {vtkConstants.VTK_BIT:numpy.bool,\n"
     ]
    }
   ],
   "source": [
    "from pyleecan.Classes.SolutionMat import SolutionMat\n",
    "w_mag = np.multiply(B_s,H_s)/2\n",
    "#w_axis=dict()\n",
    "#w_axis[\"time\"]=16\n",
    "#w_axis[\"indice\"]=3801\n",
    "#w_axis[\"component\"]=2\n",
    "my_vec_solution = SolutionMat(\n",
    "    label=\"w_mag\",\n",
    "    type_cell=\"triangle\",\n",
    "    field=w_mag,\n",
    "    axis_name=[\"time\",\"indice\", \"component\"],\n",
    "    axis_size = [4, 1360,2],\n",
    "   # axis_size = [4, 1952, 2],\n",
    ")\n",
    "group_stator.solution.append(my_vec_solution)\n",
    "group_stator.plot_contour(label=\"w_mag\")\n",
    "\n",
    "\n",
    "\n",
    "#MSol.plot_mesh()"
   ]
  },
  {
   "cell_type": "markdown",
   "metadata": {},
   "source": [
    "Operations can also be performed on the mesh."
   ]
  },
  {
   "cell_type": "code",
   "execution_count": 69,
   "metadata": {
    "scrolled": true
   },
   "outputs": [
    {
     "data": {
      "text/plain": [
       "(1360, 2)"
      ]
     },
     "execution_count": 69,
     "metadata": {},
     "output_type": "execute_result"
    }
   ],
   "source": [
    "nodes_s = group_stator.get_mesh().get_node()\n",
    "nodes_s.shape"
   ]
  },
  {
   "cell_type": "markdown",
   "metadata": {},
   "source": [
    "Then, rotate the mesh"
   ]
  },
  {
   "cell_type": "code",
   "execution_count": 70,
   "metadata": {},
   "outputs": [
    {
     "name": "stderr",
     "output_type": "stream",
     "text": [
      "WARNING:root:VTK requires 3D points, but 2D points given. Appending 0 third component.\n"
     ]
    },
    {
     "name": "stdout",
     "output_type": "stream",
     "text": [
      "None\n"
     ]
    },
    {
     "data": {
      "text/plain": [
       "<pyvista.plotting.plotting.Plotter at 0x23ca4207280>"
      ]
     },
     "execution_count": 70,
     "metadata": {},
     "output_type": "execute_result"
    }
   ],
   "source": [
    "th = np.pi/2\n",
    "R = np.array([[np.cos(th), -np.sin(th)], [np.sin(th), np.cos(th)]])\n",
    "nodes_s = np.dot(nodes_s, R)\n",
    "group_stator.mesh[0].node.coordinate = nodes_s\n",
    "group_stator.plot_mesh()"
   ]
  },
  {
   "cell_type": "markdown",
   "metadata": {},
   "source": [
    "Previous plots still work !"
   ]
  },
  {
   "cell_type": "code",
   "execution_count": 71,
   "metadata": {},
   "outputs": [
    {
     "name": "stderr",
     "output_type": "stream",
     "text": [
      "WARNING:root:VTK requires 3D points, but 2D points given. Appending 0 third component.\n"
     ]
    }
   ],
   "source": [
    "group_stator.plot_contour(label=\"w_mag\")"
   ]
  },
  {
   "cell_type": "markdown",
   "metadata": {},
   "source": [
    "Thanks for following this tutorial ! :-)"
   ]
  }
 ],
 "metadata": {
  "celltoolbar": "Format de la Cellule Texte Brut",
  "kernelspec": {
   "display_name": "Python 3 (ipykernel)",
   "language": "python",
   "name": "python3"
  },
  "language_info": {
   "codemirror_mode": {
    "name": "ipython",
    "version": 3
   },
   "file_extension": ".py",
   "mimetype": "text/x-python",
   "name": "python",
   "nbconvert_exporter": "python",
   "pygments_lexer": "ipython3",
   "version": "3.8.8"
  },
  "metadata": {
   "interpreter": {
    "hash": "f87a1742c31bcd4fe0807e1229d9e4a7354423055ef91ba2f983302ffaee9702"
   }
  },
  "varInspector": {
   "cols": {
    "lenName": 16,
    "lenType": 16,
    "lenVar": 40
   },
   "kernels_config": {
    "python": {
     "delete_cmd_postfix": "",
     "delete_cmd_prefix": "del ",
     "library": "var_list.py",
     "varRefreshCmd": "print(var_dic_list())"
    },
    "r": {
     "delete_cmd_postfix": ") ",
     "delete_cmd_prefix": "rm(",
     "library": "var_list.r",
     "varRefreshCmd": "cat(var_dic_list()) "
    }
   },
   "position": {
    "height": "254.852px",
    "left": "297px",
    "right": "20px",
    "top": "61px",
    "width": "369px"
   },
   "types_to_exclude": [
    "module",
    "function",
    "builtin_function_or_method",
    "instance",
    "_Feature"
   ],
   "window_display": false
  }
 },
 "nbformat": 4,
 "nbformat_minor": 4
}

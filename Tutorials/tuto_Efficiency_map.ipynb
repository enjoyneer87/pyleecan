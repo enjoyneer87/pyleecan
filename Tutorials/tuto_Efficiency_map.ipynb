{
 "cells": [
  {
   "cell_type": "markdown",
   "metadata": {},
   "source": [
    "### Version information"
   ]
  },
  {
   "cell_type": "code",
   "execution_count": 11,
   "metadata": {},
   "outputs": [
    {
     "name": "stdout",
     "output_type": "stream",
     "text": [
      "Running date: April 06, 2023\n",
      "Pyleecan version : 1.3.9\n",
      "SciDataTool version : 2.5.0\n"
     ]
    }
   ],
   "source": [
    "import sys\n",
    "import matplotlib.pyplot as plt\n",
    "sys.path.append(r\"Z:\\01_Codes_Projects\\git_Pyleecan_fork\\pyleecan\")\n",
    "\n",
    "# sys.path.append(r\"C:\\Users\\LAP21\\Documents\\pyleecan-public\")\n",
    "from datetime import date\n",
    "print(\"Running date:\", date.today().strftime(\"%B %d, %Y\"))\n",
    "import pyleecan\n",
    "print(f'Pyleecan version : {pyleecan.__version__}')\n",
    "import SciDataTool\n",
    "print(f'SciDataTool version : {SciDataTool.__version__}')"
   ]
  },
  {
   "attachments": {},
   "cell_type": "markdown",
   "metadata": {},
   "source": [
    "## Efficiency map of the machine\n",
    "\n",
    "The efficiency map of the machine can be constructed by going through several steps."
   ]
  },
  {
   "cell_type": "markdown",
   "metadata": {},
   "source": [
    "The next step is to define Simulation containing a *var_simu* attribute with a *VarLoadCurrent*. The *VarLoadCurrent* object needs an *OP_matrix* to define several operating points to carry out multiple simulations. The *OP_matrix* is a matrix with 3 columns representing the following quantities :\n",
    "1. Rotation speed\n",
    "2. $I_d$\n",
    "3. $I_q$"
   ]
  },
  {
   "cell_type": "code",
   "execution_count": 15,
   "metadata": {},
   "outputs": [],
   "source": [
    "from pyleecan.Classes.VarLoadCurrent import VarLoadCurrent\n",
    "from pyleecan.Classes.Simu1 import Simu1\n",
    "from pyleecan.Classes.InputCurrent import InputCurrent\n",
    "from pyleecan.Classes.OPdq import OPdq\n",
    "from pyleecan.Classes.MagFEMM import MagFEMM\n",
    "from pyleecan.Functions.load import load\n",
    "import numpy as np\n",
    "\n",
    "HDEV = load('D:\\KDH\\HDEV_nhole_nskew.json')\n",
    "HDEV.plot()\n",
    "simu = Simu1(name=\"test_ElecLUTdq_efficiency_map\", machine=HDEV)\n",
    "\n",
    "Nspeed = 50\n",
    "\n",
    "OP_matrix = np.zeros((Nspeed, 3))\n",
    "OP_matrix[:, 0] = np.linspace(500, 8000, Nspeed)\n",
    "\n",
    "\n",
    "simu.input = InputCurrent(\n",
    "    OP=OPdq(),\n",
    "    Nt_tot=4 * 8,\n",
    "    Na_tot=200 * 8,\n",
    "    is_periodicity_a=True,\n",
    "    is_periodicity_t=True,\n",
    ")"
   ]
  },
  {
   "cell_type": "code",
   "execution_count": 16,
   "metadata": {},
   "outputs": [],
   "source": [
    "%matplotlib inline"
   ]
  },
  {
   "cell_type": "markdown",
   "metadata": {},
   "source": [
    "Pyleecan allows to define a list of DataKeepers. These objects tell the simulation which output to store, and to throw away the others in order to save memory. A we will run many simulations, it is a goood practice to use them."
   ]
  },
  {
   "cell_type": "code",
   "execution_count": 17,
   "metadata": {},
   "outputs": [],
   "source": [
    "from pyleecan.Classes.DataKeeper import DataKeeper\n",
    "\n",
    "datakeeper_list=[\n",
    "    DataKeeper(\n",
    "        name = \"Torque\",\n",
    "        unit = \"N.m\", \n",
    "        symbol = \"T\",\n",
    "        keeper = lambda output: output.elec.Tem_av,\n",
    "        error_keeper = lambda simu: np.nan\n",
    "    ),\n",
    "    DataKeeper(\n",
    "        name = \"Efficiency\",\n",
    "        unit = \"\", \n",
    "        symbol = \"eff\",\n",
    "        keeper = lambda output: output.elec.OP.efficiency,\n",
    "        error_keeper = lambda simu: np.nan\n",
    "    ),\n",
    "    DataKeeper(\n",
    "        name = \"current density\",\n",
    "        unit = \"A/m^2\", \n",
    "        symbol = \"J\",\n",
    "        keeper = lambda output : output.elec.get_Jrms(),\n",
    "        error_keeper = lambda simu: np.nan\n",
    "    ),\n",
    "    DataKeeper(\n",
    "        name = \"Ud\",\n",
    "        unit = \"V\", \n",
    "        symbol = \"Ud\",\n",
    "        keeper = lambda output: output.elec.OP.Ud_ref,\n",
    "        error_keeper = lambda simu: np.nan\n",
    "    ),\n",
    "    DataKeeper(\n",
    "        name = \"Uq\",\n",
    "        unit = \"V\", \n",
    "        symbol = \"Uq\",\n",
    "        keeper = lambda output: output.elec.OP.Uq_ref,\n",
    "        error_keeper = lambda simu: np.nan\n",
    "    ),\n",
    "    DataKeeper(\n",
    "        name = \"U0\",\n",
    "        unit = \"V\", \n",
    "        symbol = \"U0\",\n",
    "        keeper = lambda output: output.elec.OP.get_U0_UPhi0()[\"U0\"] ,\n",
    "        error_keeper = lambda simu: np.nan\n",
    "    ),\n",
    "    DataKeeper(\n",
    "        name = \"I0\",\n",
    "        unit = \"A\", \n",
    "        symbol = \"I0\",\n",
    "        keeper = lambda output: output.elec.OP.get_I0_Phi0()[\"I0\"] ,\n",
    "        error_keeper = lambda simu: np.nan\n",
    "    ),\n",
    "    DataKeeper(\n",
    "        name = \"Phid\",\n",
    "        unit = \"Wb\", \n",
    "        symbol = \"Phid\",\n",
    "        keeper = lambda output: output.elec.eec.Phid,\n",
    "        error_keeper = lambda simu: np.nan\n",
    "    ),\n",
    "    DataKeeper(\n",
    "        name = \"Phiq\",\n",
    "        unit = \"Wb\", \n",
    "        symbol = \"Phiq\",\n",
    "        keeper = lambda output: output.elec.eec.Phiq,\n",
    "        error_keeper = lambda simu: np.nan\n",
    "    ),\n",
    "]"
   ]
  },
  {
   "cell_type": "markdown",
   "metadata": {},
   "source": [
    "This DataKeeper list is now used in a VarLoadCurrent object."
   ]
  },
  {
   "cell_type": "code",
   "execution_count": 18,
   "metadata": {},
   "outputs": [
    {
     "ename": "AttributeError",
     "evalue": "'VarLoadCurrent' object has no attribute 'set_OP_array'",
     "output_type": "error",
     "traceback": [
      "\u001b[1;31m---------------------------------------------------------------------------\u001b[0m",
      "\u001b[1;31mAttributeError\u001b[0m                            Traceback (most recent call last)",
      "Cell \u001b[1;32mIn[18], line 6\u001b[0m\n\u001b[0;32m      2\u001b[0m OP_matrix[:, \u001b[39m0\u001b[39m] \u001b[39m=\u001b[39m np\u001b[39m.\u001b[39mlinspace(\u001b[39m500\u001b[39m, \u001b[39m6000\u001b[39m, Nspeed)\n\u001b[0;32m      3\u001b[0m simu\u001b[39m.\u001b[39mvar_simu \u001b[39m=\u001b[39m VarLoadCurrent(\n\u001b[0;32m      4\u001b[0m     datakeeper_list \u001b[39m=\u001b[39m datakeeper_list\n\u001b[0;32m      5\u001b[0m )\n\u001b[1;32m----> 6\u001b[0m simu\u001b[39m.\u001b[39;49mvar_simu\u001b[39m.\u001b[39;49mset_OP_array(OP_matrix, \u001b[39m\"\u001b[39m\u001b[39mN0\u001b[39m\u001b[39m\"\u001b[39m, \u001b[39m\"\u001b[39m\u001b[39mId\u001b[39m\u001b[39m\"\u001b[39m, \u001b[39m\"\u001b[39m\u001b[39mIq\u001b[39m\u001b[39m\"\u001b[39m)\n",
      "\u001b[1;31mAttributeError\u001b[0m: 'VarLoadCurrent' object has no attribute 'set_OP_array'"
     ]
    }
   ],
   "source": [
    "OP_matrix = np.zeros((Nspeed, 3))\n",
    "OP_matrix[:, 0] = np.linspace(500, 6000, Nspeed)\n",
    "simu.var_simu = VarLoadCurrent(\n",
    "    datakeeper_list = datakeeper_list\n",
    ")\n",
    "simu.var_simu.set_OP_array(OP_matrix, \"N0\", \"Id\", \"Iq\")"
   ]
  },
  {
   "cell_type": "markdown",
   "metadata": {},
   "source": [
    "The electrical module of the simulation needs to be an ElecLUTdq object to take into account the LUT previously defined."
   ]
  },
  {
   "cell_type": "code",
   "execution_count": null,
   "metadata": {},
   "outputs": [],
   "source": [
    "from pyleecan.Classes.ElecLUTdq import ElecLUTdq\n",
    "from pyleecan.Classes.PostLUT import PostLUT\n",
    "from pyleecan.Classes.Loss import Loss\n",
    "\n",
    "# Definition of a loss model\n",
    "\n",
    "simu.elec = ElecLUTdq(\n",
    "        Urms_max=230,  # Maximum rms phase voltage\n",
    "        Jrms_max=27e6,  # Maximum rms current density in slot\n",
    "        n_interp=100,  # Number of id values used for interpolation\n",
    "        n_Id=5,  # Number of Id for LUT calculation\n",
    "        n_Iq=5,  # Number of Id for LUT calculation\n",
    "        Id_max=0,  # Maximum Id for LUT calculation\n",
    "        Iq_min=0,  # Minimum Iq for LUT calculation\n",
    "        LUT_enforced=None,  # To use previously computed LUT\n",
    "        is_grid_dq=True,  # True to build a n_Id*n_Iq grid, otherwise calculate n_Id+n_Iq simulations and extrapolate to the dq plane\n",
    "        Tsta=120,  # Average stator temperature for Electrical calculation [degC]\n",
    "        type_skin_effect=1,\n",
    "        LUT_simu=Simu1(\n",
    "            input=InputCurrent(\n",
    "                OP=OPdq(),\n",
    "                Nt_tot=4 *10 *8,\n",
    "                Na_tot=200 * 8,\n",
    "                is_periodicity_a=True,\n",
    "                is_periodicity_t=True,\n",
    "            ),\n",
    "            var_simu=VarLoadCurrent(\n",
    "                postproc_list=[PostLUT(is_save_LUT=True, file_name = \"LUT_eff_Toyota_Prius.h5\")],\n",
    "                is_keep_all_output=True,\n",
    "            ),\n",
    "            mag=MagFEMM(\n",
    "                is_periodicity_a=True,\n",
    "                is_periodicity_t=True,\n",
    "                nb_worker=4,\n",
    "                is_get_meshsolution=True,\n",
    "            ),\n",
    "            loss = Loss(\n",
    "                is_get_meshsolution=False,\n",
    "                Tsta=100,\n",
    "                model_dict={\"stator core\": LossModelSteinmetz(group = \"stator core\"),\n",
    "                            \"rotor core\": LossModelSteinmetz(group = \"rotor core\"),\n",
    "                            \"joule\": LossModelWinding(group = \"stator winding\"),\n",
    "                            \"proximity\": LossModelProximity(group = \"stator winding\"),\n",
    "                            \"magnets\": LossModelMagnet(group = \"rotor magnets\")}\n",
    "            )\n",
    "        ),\n",
    "    )"
   ]
  },
  {
   "cell_type": "markdown",
   "metadata": {},
   "source": [
    "### Defining a Look up table (LUT)\n",
    "\n",
    "A look up table is first needed to allow faster computation  during all the simulations. This LUT stores several quantities with respect to the currents $I_d$ and $I_q$.\n",
    "\n",
    "The LUT can be stored so it is not calculated each time the scipt is run. If this is the first time and the LUT does not exists, it is set to None and will be computed before running other simulations."
   ]
  },
  {
   "cell_type": "code",
   "execution_count": null,
   "metadata": {},
   "outputs": [],
   "source": [
    "from os.path import exists, split\n",
    "from pyleecan.Functions.Load.load_json import LoadMissingFileError\n",
    "from pyleecan.definitions import RESULT_DIR\n",
    "\n",
    "path_to_LUT = r\"C:\\Users\\LAP10\\Documents\\Loss\\LUT_nb.h5\"\n",
    "LUT_file_name = f\"LUT_eff_Toyota_Prius.h5\"\n",
    "path_to_LUT = join(RESULT_DIR, LUT_file_name)\n",
    "\n",
    "try:\n",
    "    LUT_enforced = load(path_to_LUT)\n",
    "    simu.elec.LUT_enforced = LUT_enforced\n",
    "except (FileNotFoundError, LoadMissingFileError):\n",
    "    print(\"The LUT could not be loaded, so it will be computed.\")\n",
    "    LUT_enforced = None\n"
   ]
  },
  {
   "cell_type": "markdown",
   "metadata": {},
   "source": [
    "Now comes the core of the algorithms. For several values of load rates (defining the required torque), a simlation will be run for every values of speed in the *OP_matrix*. The simulations will be very fast as the magnetic and loss quantities are interpolated from the LUT previously computed."
   ]
  },
  {
   "cell_type": "code",
   "execution_count": null,
   "metadata": {},
   "outputs": [],
   "source": [
    "\n",
    "\n",
    "# Nload simulations will be carried out with load values between 0.1 and 1\n",
    "Nload = 7\n",
    "load_vect = np.linspace(0, 1, Nload)\n",
    "\n",
    "# Several matrixes that will contain relevant data for post_processing are created\n",
    "OP_matrix_MTPA = np.zeros((Nspeed, Nload, 6))\n",
    "U_MTPA = np.zeros((Nspeed, Nload, 3))\n",
    "I_MTPA = np.zeros((Nspeed, Nload, 3))\n",
    "Phidq_MTPA = np.zeros((Nspeed, Nload, 2))\n",
    "\n",
    "# An output list is created to contain the Nload outputs that will be computed\n",
    "out_load = list()\n",
    "\n",
    "\n",
    "for ii, load_rate in enumerate(load_vect):\n",
    "    # Re using the LUT computed during the first step\n",
    "    if ii > 0 and LUT_enforced is None:\n",
    "            simu.elec.LUT_enforced = load(path_to_LUT)\n",
    "\n",
    "    simu.elec.load_rate = load_rate\n",
    "\n",
    "    out = simu.run()\n",
    "\n",
    "    # Store values in MTPA, the five columns of the OP_matrix_MTPA will be filled\n",
    "    # First column is rotational speed\n",
    "    OP_matrix_MTPA[:, ii, 0] = out[\"N0\"].result\n",
    "    # Second columns is Id\n",
    "    OP_matrix_MTPA[:, ii, 1] = out[\"Id\"].result\n",
    "    # Third column is Iq\n",
    "    OP_matrix_MTPA[:, ii, 2] = out[\"Iq\"].result\n",
    "    # Fourth column is the average torque\n",
    "    OP_matrix_MTPA[:, ii, 3] = out[\"T\"].result\n",
    "    # Fifth column is the efficiency\n",
    "    OP_matrix_MTPA[:, ii, 4] = out[\"eff\"].result\n",
    "    # Sixth column is the current density\n",
    "    OP_matrix_MTPA[:, ii, 5] = out[\"J\"].result\n",
    "    \n",
    "    \n",
    "    # Store the voltages and currents in two dedicated matrixes\n",
    "    # First column is Ud\n",
    "    U_MTPA[:, ii, 0] = out[\"Ud\"].result\n",
    "    # Second column is Uq\n",
    "    U_MTPA[:, ii, 0] = out[\"Ud\"].result\n",
    "    # Third column is U0\n",
    "    U_MTPA[:, ii, 2] = out[\"U0\"].result\n",
    "    # First column is Id\n",
    "    I_MTPA[:, ii, 0] = out[\"Id\"].result\n",
    "    # Second column is Iq\n",
    "    I_MTPA[:, ii, 1] = out[\"Iq\"].result\n",
    "    # Third column is I0\n",
    "    I_MTPA[:, ii, 2] = out[\"I0\"].result\n",
    "    \n",
    "    # The fluxes are also stored in their dedicated matrix\n",
    "    # First column is phid\n",
    "    Phidq_MTPA[:, ii, 0] = out[\"Phid\"].result\n",
    "    # second column is phiq\n",
    "    Phidq_MTPA[:, ii, 1] = out[\"Phiq\"].result\n",
    "    \n",
    "    # The output of the current simulation is appended to the list of outputs\n",
    "    out_load.append(out)"
   ]
  },
  {
   "cell_type": "markdown",
   "metadata": {},
   "source": [
    "At the end, the LUT can be stored if it did not exists and has been computed."
   ]
  },
  {
   "cell_type": "markdown",
   "metadata": {},
   "source": [
    "## Plots"
   ]
  },
  {
   "cell_type": "markdown",
   "metadata": {},
   "source": [
    "We need to import plots functions from SciDataTool."
   ]
  },
  {
   "cell_type": "code",
   "execution_count": null,
   "metadata": {},
   "outputs": [],
   "source": [
    "from SciDataTool.Functions.Plot.plot_2D import plot_2D\n",
    "from SciDataTool.Functions.Plot.plot_3D import plot_3D\n",
    "#Set the resolution of the figure to make them bigger\n",
    "plt.rcParams['figure.dpi'] = 150"
   ]
  },
  {
   "cell_type": "markdown",
   "metadata": {},
   "source": [
    "Now we can simply plot the eficiency map using this code."
   ]
  },
  {
   "cell_type": "code",
   "execution_count": null,
   "metadata": {},
   "outputs": [],
   "source": [
    "plot_3D(\n",
    "    Xdata=OP_matrix_MTPA[:, :, 0],  # Rotational speed\n",
    "    Ydata=OP_matrix_MTPA[:, :, 3],  # Torque\n",
    "    Zdata=OP_matrix_MTPA[:, :, 4], # Efficiency\n",
    "    xlabel=\"Rotational speed\",\n",
    "    ylabel=\"Torque\",\n",
    "    zlabel=\"Efficiency\",\n",
    "    title=\"Efficiency map in torque, speed plane\",\n",
    "    type_plot=\"pcolormesh\",\n",
    "    is_contour=True,\n",
    "    levels=[0.7,0.85,0.9,0.92,0.93,0.94,0.95],\n",
    "    gamma=5\n",
    ")"
   ]
  },
  {
   "cell_type": "markdown",
   "metadata": {},
   "source": [
    "Also, the losses can be plotted as a function of $I_d$/$I_q$ thanks to the look up table."
   ]
  },
  {
   "cell_type": "code",
   "execution_count": null,
   "metadata": {},
   "outputs": [],
   "source": [
    "LUT_grid = out.simu.elec.LUT_enforced\n",
    "\n",
    "# Get Id_min, Id_max, Iq_min, Iq_max from OP_matrix\n",
    "OP_matrix = LUT_grid.get_OP_array(\"N0\",\"Id\",\"Iq\")\n",
    "Id_min = OP_matrix[:, 1].min()\n",
    "Id_max = OP_matrix[:, 1].max()\n",
    "Iq_min = OP_matrix[:, 2].min()\n",
    "Iq_max = OP_matrix[:, 2].max()\n",
    "\n",
    "nd, nq = 100, 100\n",
    "Id_vect = np.linspace(Id_min, Id_max, nd)\n",
    "Iq_vect = np.linspace(Iq_min, Iq_max, nq)\n",
    "Id, Iq = np.meshgrid(Id_vect, Iq_vect)\n",
    "Id, Iq = Id.ravel(), Iq.ravel()\n",
    "\n",
    "# Interpolate Phid/Phiq on the refined mesh\n",
    "\n",
    "Ploss_dqh = LUT_grid.interp_Ploss_dqh(Id, Iq, N0=1200)\n",
    "dict_map = {\n",
    "        \"Xdata\": Id.reshape((nd, nq))[0, :],\n",
    "        \"Ydata\": Iq.reshape((nd, nq))[:, 0],\n",
    "        \"xlabel\": \"d-axis current [Arms]\",\n",
    "        \"ylabel\": \"q-axis current [Arms]\",\n",
    "        \"type_plot\": \"pcolormesh\",\n",
    "        \"is_contour\": True,\n",
    "    }\n",
    "loss_list = [\"stator core\",\n",
    "                \"rotor core\",\n",
    "                \"joule\",\n",
    "                \"proximity\",\n",
    "                \"magnets\"]\n",
    "for i, loss in enumerate(loss_list):\n",
    "    plot_3D(\n",
    "            Zdata=Ploss_dqh[:, i].reshape((nd, nq)),\n",
    "            zlabel=f\"{loss} [W]\",\n",
    "            Xdata= Id.reshape((nd, nq))[0, :],\n",
    "            Ydata= Iq.reshape((nd, nq))[:, 0],\n",
    "            xlabel= \"d-axis current [Arms]\",\n",
    "            ylabel= \"q-axis current [Arms]\",\n",
    "            type_plot= \"pcolormesh\",\n",
    "            is_contour= True,\n",
    "        )"
   ]
  },
  {
   "cell_type": "markdown",
   "metadata": {},
   "source": [
    "Also, the torque can be plotted as a function of $I_d$/$I_q$."
   ]
  },
  {
   "cell_type": "code",
   "execution_count": null,
   "metadata": {},
   "outputs": [],
   "source": [
    "# Plot torque maps\n",
    "plot_3D(\n",
    "    Zdata=OP_matrix_MTPA[:, :, 3],\n",
    "    zlabel=\"Average Torque [N.m]\",\n",
    "    title=\"Torque map in dq plane\",\n",
    "    Xdata= I_MTPA[:, :, 0],  # Id\n",
    "    Ydata= I_MTPA[:, :, 1],  # Iq\n",
    "    xlabel= \"d-axis current [Arms]\",\n",
    "    ylabel= \"q-axis current [Arms]\",\n",
    "    type_plot= \"pcolormesh\",\n",
    "    is_contour= True,\n",
    ")"
   ]
  },
  {
   "cell_type": "markdown",
   "metadata": {},
   "source": [
    "## Loss models comparison\n",
    "\n",
    "It is possible to compare several loss models in PYLEECAN. To do this, a new simulation will be defined and run as before."
   ]
  },
  {
   "cell_type": "markdown",
   "metadata": {},
   "source": [
    "\n",
    "It is possible to compute the Pearson correlation coefficient between the experimental values of loss and the values calculated by PYLEECAN with respect to $B$ for each value of frequency. The results for two different loss models is given in the table below.\n",
    "\n",
    "|frequency|Bertotti|Steinmetz|\n",
    "|---|---|---|\n",
    "|50|0.9966|0.9974|\n",
    "|60|0.9975|0.9964|\n",
    "|100|0.9973|0.9978|\n",
    "|150|0.9979|0.9977|\n",
    "|200|0.9981|0.9980|\n",
    "|300|0.9979|0.9977|\n",
    "|400|0.9987|0.9982|\n",
    "|600|0.9997|0.9984|\n",
    "|1000|0.9985|0.9995|\n",
    "|1500|0.9967|0.9990|\n",
    "|2000|0.9966|0.9989|\n",
    "|mean value|0.9978|0.9981|\n",
    "\n",
    "The Steinmetz model is slightly better in average, but the Bertotti model also gives good results."
   ]
  },
  {
   "cell_type": "code",
   "execution_count": null,
   "metadata": {},
   "outputs": [],
   "source": [
    "simu = Simu1(name=\"test_loss_models_comparison\", machine=machine)\n",
    "\n",
    "\n",
    "Ic = 230 * np.exp(1j * 140 * np.pi / 180)\n",
    "\n",
    "simu.input = InputCurrent(\n",
    "    Nt_tot=40 * 8,\n",
    "    Na_tot=200 * 8,\n",
    "    OP=OPdq(N0=1200, Id_ref=Ic.real, Iq_ref=Ic.imag),\n",
    "    is_periodicity_t=True,\n",
    "    is_periodicity_a=True,\n",
    ")\n",
    "\n",
    "simu.mag = MagFEMM(\n",
    "    is_periodicity_a=True,\n",
    "    is_periodicity_t=True,\n",
    "    nb_worker=4,\n",
    "    is_get_meshsolution=True,\n",
    "    is_fast_draw=True,\n",
    "    is_calc_torque_energy=False,\n",
    ")\n",
    "\n",
    "\n",
    "simu.loss = LossFEA(\n",
    "    is_get_meshsolution=True,\n",
    "    Tsta=100,\n",
    "    model_dict={\"stator core Bertotti\": LossModelBertotti(group = \"stator core\"),\n",
    "                \"stator core Steinmetz\": LossModelSteinmetz(group = \"stator core\")}\n",
    ")\n",
    "\n",
    "out = simu.run()\n"
   ]
  },
  {
   "cell_type": "markdown",
   "metadata": {},
   "source": [
    "Then, a new output object is created as the difference between the two models defined previously. This object can then be used as any OutLossModel object to visualize the difference."
   ]
  },
  {
   "cell_type": "code",
   "execution_count": null,
   "metadata": {},
   "outputs": [],
   "source": [
    "out.loss.loss_list.append(out.loss.loss_list[0]-out.loss.loss_list[1])\n",
    "out.loss.loss_list[-1].name = \"Difference\"\n",
    "\n",
    "group_names = [\n",
    "    \"stator core\",\n",
    "    \"rotor core\",\n",
    "    \"rotor magnets\"\n",
    "]\n",
    "loss = out.loss.loss_list[-1]\n",
    "loss.get_mesh_solution().plot_contour(\n",
    "    \"freqs=sum\",\n",
    "    label=f\"{loss.name} Loss\",\n",
    "    group_names = group_names\n",
    ")"
   ]
  },
  {
   "cell_type": "markdown",
   "metadata": {},
   "source": [
    "## Comparing several operating points\n",
    "\n",
    "The losses in several operating points can also be compared by subtracting the loss outputs of several simulations. This is done in the test_loss_dq_Prius.py\n"
   ]
  }
 ],
 "metadata": {
  "interpreter": {
   "hash": "52a54df436296e5a25386e8f8351289fedf2563cb05b4d536556cfc83522122e"
  },
  "kernelspec": {
   "display_name": "Python 3 (ipykernel)",
   "language": "python",
   "name": "python3"
  },
  "language_info": {
   "codemirror_mode": {
    "name": "ipython",
    "version": 3
   },
   "file_extension": ".py",
   "mimetype": "text/x-python",
   "name": "python",
   "nbconvert_exporter": "python",
   "pygments_lexer": "ipython3",
   "version": "3.8.8"
  }
 },
 "nbformat": 4,
 "nbformat_minor": 2
}

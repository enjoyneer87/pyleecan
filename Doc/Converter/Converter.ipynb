{
 "cells": [
  {
   "cell_type": "markdown",
   "id": "0fa8202e",
   "metadata": {},
   "source": [
    "# Version information"
   ]
  },
  {
   "cell_type": "markdown",
   "id": "ecec4a92",
   "metadata": {},
   "source": [
    "Date:  February 08, 2024 <br>\n",
    "Pyleecan version: 1.5.1"
   ]
  },
  {
   "cell_type": "markdown",
   "id": "1c52274e-e36a-4642-8dca-a4b8b81a8333",
   "metadata": {},
   "source": [
    "# Converter"
   ]
  },
  {
   "cell_type": "markdown",
   "id": "84161717-2a78-4e85-bf32-54d500e1a304",
   "metadata": {},
   "source": [
    "## How to use a converter ?"
   ]
  },
  {
   "cell_type": "markdown",
   "id": "1656bb14-16c4-4a2f-934a-526a84bf02a1",
   "metadata": {},
   "source": [
    "This tutorial shows the way to call converter, and in a second part we explain this architecture. <br>\n",
    "So, with this converter you can convert **motor IPMSM, SPMSM, SCIM and WRSM**. <br>\n",
    "This converter is between Motor-CAD and Pyleecan but the architecture is create to be reuse if you want an other converter.<br>\n",
    "You can select your file Motor-CAD \".mot\" directly with GUI Pyleecan, the same way as loading a json file."
   ]
  },
  {
   "cell_type": "markdown",
   "id": "c95a4937-f37b-44a1-add0-9a50819417d7",
   "metadata": {},
   "source": [
    "Most of the work to convert Pyleecan machine to Motor-CAD is already done but it would require further contribution to finish the work"
   ]
  },
  {
   "cell_type": "markdown",
   "id": "d93df52f-92dd-4cbb-90c4-8d4aff140d76",
   "metadata": {},
   "source": [
    "Warning, the converter may do some opproximation, please read the convertion log If you want to find equivalent, approximation or error. "
   ]
  },
  {
   "cell_type": "markdown",
   "id": "59cd9a7a",
   "metadata": {},
   "source": [
    "Ex log : <br>\n",
    "2023-12-13 10:42:50-   INFO: Pyleecan version : 1.5.2 [Pyleecan] <br>\n",
    "2023-12-13 10:42:50-   INFO: Path file use to convert : /Users\\LAP17\\Documents/machine_MC_P/file_mot/WRSM_salient_pole.mot [Pyleecan]<br>\n",
    "2023-12-13 10:42:50-   INFO: Conversion file .mot into dict [Pyleecan]<br>\n",
    "2023-12-13 10:42:50-   INFO: Conversion dict into obj machine [Pyleecan]<br>\n",
    "2023-12-13 10:42:50-   INFO: Conversion SYNC into MachineWRSM [Pyleecan]<br>\n",
    "2023-12-13 10:42:50-   INFO: Conversion Parallel_Tooth into SlotW11 [Pyleecan]<br>\n",
    "2023-12-13 10:42:50-   INFO: Conversion AWG_Table into CondType12 [Pyleecan]<br>\n",
    "2023-12-13 10:42:50-   INFO: Conversion Sync_Salient_Pole into SlotW62 [Pyleecan]<br>\n",
    "2023-12-13 10:42:50-  DEBUG: No duct to convert at Rotor [Pyleecan]<br>\n",
    "2023-12-13 10:42:50-   INFO: Conversion AWG_Table into CondType12 [Pyleecan]<br>\n",
    "2023-12-13 10:42:50-   INFO: skew, not implemented [Pyleecan]<br>\n",
    "2023-12-13 10:42:50-   INFO: End of conversion, obj machine is create [Pyleecan]"
   ]
  },
  {
   "cell_type": "markdown",
   "id": "41fd6487-6618-4243-b67b-16f272c5769a",
   "metadata": {},
   "source": [
    "## Converter architecture"
   ]
  },
  {
   "cell_type": "markdown",
   "id": "01bc8018",
   "metadata": {},
   "source": [
    "### Dictionnary"
   ]
  },
  {
   "cell_type": "markdown",
   "id": "df7c5c53",
   "metadata": {},
   "source": [
    "The first step to simplifying the converter is creating a dictionary from the .mot file.\n",
    "\n",
    "The .mot file is made up of different parts starting with a title in square brackets followed by a list of values.\n",
    "\n",
    "To example:\n",
    "\n",
    "```yaml\n",
    "[Dimensions]\n",
    "Stator_Lam_Dia=130\n",
    "Stator_Bore=80\n",
    "Airgap=1\n",
    "\n",
    "[Design_Options]\n",
    "BPM_Rotor=Surface_Radial\n",
    "Top_Bar=Round\n",
    "Bottom_Bar=Rectangular \n",
    "```\n",
    " \n",
    "We will therefore reproduce this architecture in a dictionary, containing dictionaries as below.\n",
    "\n",
    "```python\n",
    "other_dict = {\n",
    " \"[Dimensions]\" : { \n",
    "\"Stator_Lam_Dia\" : 130,\n",
    " \"Stator_Bore\" : 80,\n",
    " \"Airgap\" : 1,\n",
    " },\n",
    " \"[Design_Options]\" : {\n",
    " \"BPM_Rotor\" : \"Surface_Radial\",\n",
    " \"Top_Bar\" : \"Round\",\n",
    " \"Bottom_Bar\" : \"Rectangular\",\n",
    " },\n",
    "}\n",
    "```\n",
    "\n",
    "We also have unit management. When creating the dictionary equivalent to the .mot file, another unit dictionary is also created. This dictionary will allow you to have the correct conversion of units when executing the rules.\n",
    "\n",
    "\n",
    "These two dictionaries will make it possible to generalize the converter to several software programs. Indeed, this use of a dictionary can be reproduced regardless of the software, the path written in the rules will simply be different.\n",
    "\n",
    "\n",
    "After converting the file into a dictionary, we can begin the conversion."
   ]
  },
  {
   "cell_type": "markdown",
   "id": "0d437d4a-5430-4d28-92b8-dc0f92a51fad",
   "metadata": {},
   "source": [
    "### Class presentation"
   ]
  },
  {
   "cell_type": "markdown",
   "id": "66b00a78-9725-4aee-bf0b-e2142a5d3128",
   "metadata": {},
   "source": [
    "#### Class Convert"
   ]
  },
  {
   "cell_type": "markdown",
   "id": "88547c17-c4b6-4bf3-93e1-7d53e6423cf7",
   "metadata": {},
   "source": [
    "In this class, we have variable use to convert, and different general methods. In fact, if you want to create an other converter you can reuse these methods."
   ]
  },
  {
   "cell_type": "markdown",
   "id": "72b70dff-1b0b-4851-91a2-380930c46d55",
   "metadata": {},
   "source": [
    "#### ConvertMC"
   ]
  },
  {
   "cell_type": "markdown",
   "id": "4e6fa29c-2b31-48c9-bd12-8ee04b901f83",
   "metadata": {},
   "source": [
    "ConvertMC inherits from Convert and add all the methods specific for Motor-CAD conversion."
   ]
  },
  {
   "cell_type": "markdown",
   "id": "c39106d4",
   "metadata": {},
   "source": [
    "![](Images/UML_convert.png)"
   ]
  },
  {
   "cell_type": "markdown",
   "id": "80a03b3d-b26e-4248-9a41-92aa5e54f1db",
   "metadata": {},
   "source": [
    "### Rule"
   ]
  },
  {
   "cell_type": "markdown",
   "id": "2e39f628",
   "metadata": {},
   "source": [
    "Each parameter to convert is define in a rule object that creates a link between one or several parameters of both software. \n",
    "The converter will first scan the machine/dict to create all the required rules to convert the machine, then execute all of them. \n",
    "\n",
    "To adapt the rules to different situations there are 3 types of rules, Simple, Equation and Complex.\n",
    "\n",
    "For each of the RuleSimple, RuleComplex and RuleEquaion classes, convert_to_P (\"other\" to pyleecan convertion) and convert_to_other (pyleecan to \"other\" convertion) methods are used to convert the parameters according to the direction of conversion.\n",
    "\n"
   ]
  },
  {
   "cell_type": "markdown",
   "id": "82d856f0-35fa-4aef-9b40-903c2009a784",
   "metadata": {},
   "source": [
    "#### Rule\n",
    "In this abstract class, you can find methods to select or set value in dict or in obj machine. These methods are used to handles the unit according to the unit_dict of \"other\" (pyleecan parameter are always stored/defined in SI even if the GUI says otherwise)"
   ]
  },
  {
   "cell_type": "markdown",
   "id": "eb9833c6-9d15-4265-87f1-4f74a2da4764",
   "metadata": {},
   "source": [
    "#### RuleSimple"
   ]
  },
  {
   "cell_type": "markdown",
   "id": "7230e2c5-a5b0-4e01-979b-07df69b93948",
   "metadata": {},
   "source": [
    "First there are the \"simple rules\" that directly link a single parameter of pyleecan to a single parameter of \"other\". This rule also include the possibility to define a scalling factor between the two parameters (default is 1).\n",
    "\n",
    "For example, Motor-Cad parameterizes according to diameters while Pyleecan generally uses radius. We will therefore have a factor of two for all conversions between the diameter and the radius (and conversion between [m] and [mm])."
   ]
  },
  {
   "cell_type": "markdown",
   "id": "638354a5-d278-4d6a-bd6d-8d3640a9c4a5",
   "metadata": {},
   "source": [
    "#### RuleEquation"
   ]
  },
  {
   "cell_type": "markdown",
   "id": "668e2bd8-11e2-4778-9146-3ebd485704cc",
   "metadata": {},
   "source": [
    "Then the \"Equation rules\" which link a single parameter of pyleecan to a single parameter of \"other\" but by providing an equation that can use other parameters from both software (ex: y = a+2b -3x). \n",
    "\n",
    "To solve the equation more easily we must respect the following rule, the Motor-CAD parameter must be “y” and the Pyleecan parameter must be “x”. \n",
    "Concerning the parameters around a, b, c… these parameters must already be defined previously. \n",
    "\n",
    "For example, the rotor radius (x) corresponds to a parameter in Pyleecan. While it can be found on Motor-Cad with the diameter of the stator (y) and the dimension of the air gap (a). We therefore have the following equation “y/2 – a = x”.\n"
   ]
  },
  {
   "cell_type": "markdown",
   "id": "53a9eef4-5cc0-418d-9712-be5e2ca9e577",
   "metadata": {},
   "source": [
    "#### RuleComplex"
   ]
  },
  {
   "cell_type": "markdown",
   "id": "62eb613d-ac3f-4a9e-941a-ede651bb5793",
   "metadata": {},
   "source": [
    "Complex rules solve all the other situations with specific functions. These rules allow the calling of functions files (set in _fct_name property) present in Pyleecan, which will simplify the conversion. These files must contain other_to_P and P_to_other functions (that will be called by the corresponding methods). The objective was to limit the use of these rules as much as possible to facilitate understanding and to reduce development time."
   ]
  },
  {
   "cell_type": "markdown",
   "id": "6f97b6a8",
   "metadata": {},
   "source": [
    "![](Images/UML_rules.png)"
   ]
  },
  {
   "cell_type": "markdown",
   "id": "e22f129f-ba9d-46c9-a260-eeeccbd8ada9",
   "metadata": {},
   "source": [
    "### Architecture presentation"
   ]
  },
  {
   "cell_type": "markdown",
   "id": "77fd37a3",
   "metadata": {},
   "source": [
    "Architecture of converter follow the one of the GUI of Pyleecan:\n",
    "\n",
    "![](Images/Selection_machine.png)"
   ]
  },
  {
   "cell_type": "markdown",
   "id": "76588684",
   "metadata": {},
   "source": [
    "Each of these step correspond to a set of parameters and the step must be done in order. The steps are not lamination specific (stator/rotor) to enable to reuse the code.\n",
    "![](Images/Machine_dimension.png)"
   ]
  },
  {
   "cell_type": "markdown",
   "id": "6e0d27c5",
   "metadata": {},
   "source": [
    "The general process of the converter is:\n",
    "- Convert other file to other dict\n",
    "- Select the correct rules and the correct pyleecan objects\n",
    "- Run all the rules in the correct order\n",
    "\n",
    "There are two main types of methods: select that expend the rule list, convert that creates the correct pyleecan objects/setup the correct properties in other_dict (depending on convert direction)\n",
    "\n",
    "The following diagram illustrates the sequence of selections/convertion. For example, if you want to convert an IPMSM motor, the converter will find the type of motor. Once it finds that it is an IPMSM, it will call the next steps, such as selecting the notch type.\n",
    "\n",
    "All methods performing the selection begin with \"select\". They are all in the Convert class. The objective of these methods is to add the correct rules according to the needs and to direct to the other selection files.\n",
    "\n",
    "The selections in these methods are made from Pyleecan machine objects (e.g. if isinstance(slot, SlotW11)), to maintain the possibility of reusing these methods.\n",
    "However, to always have this selection possible, methods specific to the converter (present in the convertMC class) are necessary.\n",
    "\n",
    "![](Images/schematics_architecture_converter.png)"
   ]
  },
  {
   "cell_type": "markdown",
   "id": "7d6e6ad0",
   "metadata": {},
   "source": [
    "During this process the rules are added in a precise order in a list called rules_list.\n",
    "At the end of the selection initiated by the selection_machine_rules method we find ourselves with a list of rules and a machine with all the right classes. For example, the machine will be an IPMSM, with a slotW21 on the stator and a HoleM50 on the rotor. We have the correct definition of the elements in the machine, but the parameters such as dimensions are not defined yet.\n",
    "\n",
    "The last step is to run all the rules present in a list to complete the machine objects properties.\n",
    "\n",
    "Here is the simplified structure of the converter in the sense of converting a MOTOR-CAD file to a Pyleecan machine.\n",
    "\n",
    "![](Images/Architecture_Converter.png)"
   ]
  },
  {
   "cell_type": "markdown",
   "id": "c78a1314",
   "metadata": {},
   "source": [
    "### Reversibility"
   ]
  },
  {
   "cell_type": "markdown",
   "id": "293680ca",
   "metadata": {},
   "source": [
    "The converter can perform both directions of conversion. And the operation of the converter does not change depending on the direction.\n",
    "\n",
    "Most of the work to convert Pyleecan machine to Motor-CAD is already done but it would require further contribution to finish the work\n",
    "\n",
    "![](Images/convert_mot_to_dict.png)"
   ]
  },
  {
   "cell_type": "markdown",
   "id": "79389fd6",
   "metadata": {},
   "source": [
    "Below is the organization of the converter files in the different classes:\n",
    "![](Images/structure_converter.png)"
   ]
  }
 ],
 "metadata": {
  "kernelspec": {
   "display_name": "Python 3 (ipykernel)",
   "language": "python",
   "name": "python3"
  },
  "language_info": {
   "codemirror_mode": {
    "name": "ipython",
    "version": 3
   },
   "file_extension": ".py",
   "mimetype": "text/x-python",
   "name": "python",
   "nbconvert_exporter": "python",
   "pygments_lexer": "ipython3",
   "version": "3.8.10"
  }
 },
 "nbformat": 4,
 "nbformat_minor": 5
}
